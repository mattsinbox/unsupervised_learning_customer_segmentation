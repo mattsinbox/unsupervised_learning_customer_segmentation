{
 "cells": [
  {
   "cell_type": "markdown",
   "metadata": {},
   "source": [
    "# Project: Identify Customer Segments\n",
    "\n",
    "In this project, you will apply unsupervised learning techniques to identify segments of the population that form the core customer base for a mail-order sales company in Germany. These segments can then be used to direct marketing campaigns towards audiences that will have the highest expected rate of returns. The data that you will use has been provided by our partners at Bertelsmann Arvato Analytics, and represents a real-life data science task.\n",
    "\n",
    "This notebook will help you complete this task by providing a framework within which you will perform your analysis steps. In each step of the project, you will see some text describing the subtask that you will perform, followed by one or more code cells for you to complete your work. **Feel free to add additional code and markdown cells as you go along so that you can explore everything in precise chunks.** The code cells provided in the base template will outline only the major tasks, and will usually not be enough to cover all of the minor tasks that comprise it.\n",
    "\n",
    "It should be noted that while there will be precise guidelines on how you should handle certain tasks in the project, there will also be places where an exact specification is not provided. **There will be times in the project where you will need to make and justify your own decisions on how to treat the data.** These are places where there may not be only one way to handle the data. In real-life tasks, there may be many valid ways to approach an analysis task. One of the most important things you can do is clearly document your approach so that other scientists can understand the decisions you've made.\n",
    "\n",
    "At the end of most sections, there will be a Markdown cell labeled **Discussion**. In these cells, you will report your findings for the completed section, as well as document the decisions that you made in your approach to each subtask. **Your project will be evaluated not just on the code used to complete the tasks outlined, but also your communication about your observations and conclusions at each stage.**"
   ]
  },
  {
   "cell_type": "code",
   "execution_count": 1,
   "metadata": {},
   "outputs": [],
   "source": [
    "# import libraries here; add more as necessary\n",
    "import numpy as np\n",
    "import pandas as pd\n",
    "import matplotlib.pyplot as plt\n",
    "import seaborn as sns\n",
    "\n",
    "from seaborn import countplot\n",
    "from matplotlib.pyplot import figure, show\n",
    "\n",
    "# magic word for producing visualizations in notebook\n",
    "%matplotlib inline"
   ]
  },
  {
   "cell_type": "markdown",
   "metadata": {},
   "source": [
    "### Step 0: Load the Data\n",
    "\n",
    "There are four files associated with this project (not including this one):\n",
    "\n",
    "- `Udacity_AZDIAS_Subset.csv`: Demographics data for the general population of Germany; 891211 persons (rows) x 85 features (columns).\n",
    "- `Udacity_CUSTOMERS_Subset.csv`: Demographics data for customers of a mail-order company; 191652 persons (rows) x 85 features (columns).\n",
    "- `Data_Dictionary.md`: Detailed information file about the features in the provided datasets.\n",
    "- `AZDIAS_Feature_Summary.csv`: Summary of feature attributes for demographics data; 85 features (rows) x 4 columns\n",
    "\n",
    "Each row of the demographics files represents a single person, but also includes information outside of individuals, including information about their household, building, and neighborhood. You will use this information to cluster the general population into groups with similar demographic properties. Then, you will see how the people in the customers dataset fit into those created clusters. The hope here is that certain clusters are over-represented in the customers data, as compared to the general population; those over-represented clusters will be assumed to be part of the core userbase. This information can then be used for further applications, such as targeting for a marketing campaign.\n",
    "\n",
    "To start off with, load in the demographics data for the general population into a pandas DataFrame, and do the same for the feature attributes summary. Note for all of the `.csv` data files in this project: they're semicolon (`;`) delimited, so you'll need an additional argument in your [`read_csv()`](https://pandas.pydata.org/pandas-docs/stable/generated/pandas.read_csv.html) call to read in the data properly. Also, considering the size of the main dataset, it may take some time for it to load completely.\n",
    "\n",
    "Once the dataset is loaded, it's recommended that you take a little bit of time just browsing the general structure of the dataset and feature summary file. You'll be getting deep into the innards of the cleaning in the first major step of the project, so gaining some general familiarity can help you get your bearings."
   ]
  },
  {
   "cell_type": "code",
   "execution_count": 2,
   "metadata": {},
   "outputs": [],
   "source": [
    "# Load in the general demographics data.\n",
    "\n",
    "azdias = pd.read_csv(r\"C:\\Users\\Matt\\Desktop\\Udacity_Jup\\project_clustering\\Udacity_AZDIAS_Subset.csv\", sep=';')\n",
    "\n",
    "# Load in the feature summary file.\n",
    "feat_info = pd.read_csv(r\"C:\\Users\\Matt\\Desktop\\Udacity_Jup\\project_clustering\\AZDIAS_Feature_Summary.csv\", sep=';')                    \n"
   ]
  },
  {
   "cell_type": "code",
   "execution_count": 3,
   "metadata": {},
   "outputs": [
    {
     "data": {
      "text/html": [
       "<div>\n",
       "<style scoped>\n",
       "    .dataframe tbody tr th:only-of-type {\n",
       "        vertical-align: middle;\n",
       "    }\n",
       "\n",
       "    .dataframe tbody tr th {\n",
       "        vertical-align: top;\n",
       "    }\n",
       "\n",
       "    .dataframe thead th {\n",
       "        text-align: right;\n",
       "    }\n",
       "</style>\n",
       "<table border=\"1\" class=\"dataframe\">\n",
       "  <thead>\n",
       "    <tr style=\"text-align: right;\">\n",
       "      <th></th>\n",
       "      <th>AGER_TYP</th>\n",
       "      <th>ALTERSKATEGORIE_GROB</th>\n",
       "      <th>ANREDE_KZ</th>\n",
       "      <th>CJT_GESAMTTYP</th>\n",
       "      <th>FINANZ_MINIMALIST</th>\n",
       "      <th>FINANZ_SPARER</th>\n",
       "      <th>FINANZ_VORSORGER</th>\n",
       "      <th>FINANZ_ANLEGER</th>\n",
       "      <th>FINANZ_UNAUFFAELLIGER</th>\n",
       "      <th>FINANZ_HAUSBAUER</th>\n",
       "      <th>...</th>\n",
       "      <th>PLZ8_ANTG1</th>\n",
       "      <th>PLZ8_ANTG2</th>\n",
       "      <th>PLZ8_ANTG3</th>\n",
       "      <th>PLZ8_ANTG4</th>\n",
       "      <th>PLZ8_BAUMAX</th>\n",
       "      <th>PLZ8_HHZ</th>\n",
       "      <th>PLZ8_GBZ</th>\n",
       "      <th>ARBEIT</th>\n",
       "      <th>ORTSGR_KLS9</th>\n",
       "      <th>RELAT_AB</th>\n",
       "    </tr>\n",
       "  </thead>\n",
       "  <tbody>\n",
       "    <tr>\n",
       "      <th>0</th>\n",
       "      <td>-1</td>\n",
       "      <td>2</td>\n",
       "      <td>1</td>\n",
       "      <td>2.0</td>\n",
       "      <td>3</td>\n",
       "      <td>4</td>\n",
       "      <td>3</td>\n",
       "      <td>5</td>\n",
       "      <td>5</td>\n",
       "      <td>3</td>\n",
       "      <td>...</td>\n",
       "      <td>NaN</td>\n",
       "      <td>NaN</td>\n",
       "      <td>NaN</td>\n",
       "      <td>NaN</td>\n",
       "      <td>NaN</td>\n",
       "      <td>NaN</td>\n",
       "      <td>NaN</td>\n",
       "      <td>NaN</td>\n",
       "      <td>NaN</td>\n",
       "      <td>NaN</td>\n",
       "    </tr>\n",
       "    <tr>\n",
       "      <th>1</th>\n",
       "      <td>-1</td>\n",
       "      <td>1</td>\n",
       "      <td>2</td>\n",
       "      <td>5.0</td>\n",
       "      <td>1</td>\n",
       "      <td>5</td>\n",
       "      <td>2</td>\n",
       "      <td>5</td>\n",
       "      <td>4</td>\n",
       "      <td>5</td>\n",
       "      <td>...</td>\n",
       "      <td>2.0</td>\n",
       "      <td>3.0</td>\n",
       "      <td>2.0</td>\n",
       "      <td>1.0</td>\n",
       "      <td>1.0</td>\n",
       "      <td>5.0</td>\n",
       "      <td>4.0</td>\n",
       "      <td>3.0</td>\n",
       "      <td>5.0</td>\n",
       "      <td>4.0</td>\n",
       "    </tr>\n",
       "    <tr>\n",
       "      <th>2</th>\n",
       "      <td>-1</td>\n",
       "      <td>3</td>\n",
       "      <td>2</td>\n",
       "      <td>3.0</td>\n",
       "      <td>1</td>\n",
       "      <td>4</td>\n",
       "      <td>1</td>\n",
       "      <td>2</td>\n",
       "      <td>3</td>\n",
       "      <td>5</td>\n",
       "      <td>...</td>\n",
       "      <td>3.0</td>\n",
       "      <td>3.0</td>\n",
       "      <td>1.0</td>\n",
       "      <td>0.0</td>\n",
       "      <td>1.0</td>\n",
       "      <td>4.0</td>\n",
       "      <td>4.0</td>\n",
       "      <td>3.0</td>\n",
       "      <td>5.0</td>\n",
       "      <td>2.0</td>\n",
       "    </tr>\n",
       "    <tr>\n",
       "      <th>3</th>\n",
       "      <td>2</td>\n",
       "      <td>4</td>\n",
       "      <td>2</td>\n",
       "      <td>2.0</td>\n",
       "      <td>4</td>\n",
       "      <td>2</td>\n",
       "      <td>5</td>\n",
       "      <td>2</td>\n",
       "      <td>1</td>\n",
       "      <td>2</td>\n",
       "      <td>...</td>\n",
       "      <td>2.0</td>\n",
       "      <td>2.0</td>\n",
       "      <td>2.0</td>\n",
       "      <td>0.0</td>\n",
       "      <td>1.0</td>\n",
       "      <td>3.0</td>\n",
       "      <td>4.0</td>\n",
       "      <td>2.0</td>\n",
       "      <td>3.0</td>\n",
       "      <td>3.0</td>\n",
       "    </tr>\n",
       "    <tr>\n",
       "      <th>4</th>\n",
       "      <td>-1</td>\n",
       "      <td>3</td>\n",
       "      <td>1</td>\n",
       "      <td>5.0</td>\n",
       "      <td>4</td>\n",
       "      <td>3</td>\n",
       "      <td>4</td>\n",
       "      <td>1</td>\n",
       "      <td>3</td>\n",
       "      <td>2</td>\n",
       "      <td>...</td>\n",
       "      <td>2.0</td>\n",
       "      <td>4.0</td>\n",
       "      <td>2.0</td>\n",
       "      <td>1.0</td>\n",
       "      <td>2.0</td>\n",
       "      <td>3.0</td>\n",
       "      <td>3.0</td>\n",
       "      <td>4.0</td>\n",
       "      <td>6.0</td>\n",
       "      <td>5.0</td>\n",
       "    </tr>\n",
       "  </tbody>\n",
       "</table>\n",
       "<p>5 rows × 85 columns</p>\n",
       "</div>"
      ],
      "text/plain": [
       "   AGER_TYP  ALTERSKATEGORIE_GROB  ANREDE_KZ  CJT_GESAMTTYP  \\\n",
       "0        -1                     2          1            2.0   \n",
       "1        -1                     1          2            5.0   \n",
       "2        -1                     3          2            3.0   \n",
       "3         2                     4          2            2.0   \n",
       "4        -1                     3          1            5.0   \n",
       "\n",
       "   FINANZ_MINIMALIST  FINANZ_SPARER  FINANZ_VORSORGER  FINANZ_ANLEGER  \\\n",
       "0                  3              4                 3               5   \n",
       "1                  1              5                 2               5   \n",
       "2                  1              4                 1               2   \n",
       "3                  4              2                 5               2   \n",
       "4                  4              3                 4               1   \n",
       "\n",
       "   FINANZ_UNAUFFAELLIGER  FINANZ_HAUSBAUER    ...     PLZ8_ANTG1  PLZ8_ANTG2  \\\n",
       "0                      5                 3    ...            NaN         NaN   \n",
       "1                      4                 5    ...            2.0         3.0   \n",
       "2                      3                 5    ...            3.0         3.0   \n",
       "3                      1                 2    ...            2.0         2.0   \n",
       "4                      3                 2    ...            2.0         4.0   \n",
       "\n",
       "   PLZ8_ANTG3  PLZ8_ANTG4  PLZ8_BAUMAX  PLZ8_HHZ  PLZ8_GBZ  ARBEIT  \\\n",
       "0         NaN         NaN          NaN       NaN       NaN     NaN   \n",
       "1         2.0         1.0          1.0       5.0       4.0     3.0   \n",
       "2         1.0         0.0          1.0       4.0       4.0     3.0   \n",
       "3         2.0         0.0          1.0       3.0       4.0     2.0   \n",
       "4         2.0         1.0          2.0       3.0       3.0     4.0   \n",
       "\n",
       "   ORTSGR_KLS9  RELAT_AB  \n",
       "0          NaN       NaN  \n",
       "1          5.0       4.0  \n",
       "2          5.0       2.0  \n",
       "3          3.0       3.0  \n",
       "4          6.0       5.0  \n",
       "\n",
       "[5 rows x 85 columns]"
      ]
     },
     "execution_count": 3,
     "metadata": {},
     "output_type": "execute_result"
    }
   ],
   "source": [
    "# Check the structure of the data after it's loaded (e.g. print the number of\n",
    "# rows and columns, print the first few rows).\n",
    "azdias.head()\n"
   ]
  },
  {
   "cell_type": "code",
   "execution_count": 4,
   "metadata": {},
   "outputs": [
    {
     "data": {
      "text/html": [
       "<div>\n",
       "<style scoped>\n",
       "    .dataframe tbody tr th:only-of-type {\n",
       "        vertical-align: middle;\n",
       "    }\n",
       "\n",
       "    .dataframe tbody tr th {\n",
       "        vertical-align: top;\n",
       "    }\n",
       "\n",
       "    .dataframe thead th {\n",
       "        text-align: right;\n",
       "    }\n",
       "</style>\n",
       "<table border=\"1\" class=\"dataframe\">\n",
       "  <thead>\n",
       "    <tr style=\"text-align: right;\">\n",
       "      <th></th>\n",
       "      <th>attribute</th>\n",
       "      <th>information_level</th>\n",
       "      <th>type</th>\n",
       "      <th>missing_or_unknown</th>\n",
       "    </tr>\n",
       "  </thead>\n",
       "  <tbody>\n",
       "    <tr>\n",
       "      <th>0</th>\n",
       "      <td>AGER_TYP</td>\n",
       "      <td>person</td>\n",
       "      <td>categorical</td>\n",
       "      <td>[-1,0]</td>\n",
       "    </tr>\n",
       "    <tr>\n",
       "      <th>1</th>\n",
       "      <td>ALTERSKATEGORIE_GROB</td>\n",
       "      <td>person</td>\n",
       "      <td>ordinal</td>\n",
       "      <td>[-1,0,9]</td>\n",
       "    </tr>\n",
       "    <tr>\n",
       "      <th>2</th>\n",
       "      <td>ANREDE_KZ</td>\n",
       "      <td>person</td>\n",
       "      <td>categorical</td>\n",
       "      <td>[-1,0]</td>\n",
       "    </tr>\n",
       "    <tr>\n",
       "      <th>3</th>\n",
       "      <td>CJT_GESAMTTYP</td>\n",
       "      <td>person</td>\n",
       "      <td>categorical</td>\n",
       "      <td>[0]</td>\n",
       "    </tr>\n",
       "    <tr>\n",
       "      <th>4</th>\n",
       "      <td>FINANZ_MINIMALIST</td>\n",
       "      <td>person</td>\n",
       "      <td>ordinal</td>\n",
       "      <td>[-1]</td>\n",
       "    </tr>\n",
       "  </tbody>\n",
       "</table>\n",
       "</div>"
      ],
      "text/plain": [
       "              attribute information_level         type missing_or_unknown\n",
       "0              AGER_TYP            person  categorical             [-1,0]\n",
       "1  ALTERSKATEGORIE_GROB            person      ordinal           [-1,0,9]\n",
       "2             ANREDE_KZ            person  categorical             [-1,0]\n",
       "3         CJT_GESAMTTYP            person  categorical                [0]\n",
       "4     FINANZ_MINIMALIST            person      ordinal               [-1]"
      ]
     },
     "execution_count": 4,
     "metadata": {},
     "output_type": "execute_result"
    }
   ],
   "source": [
    "feat_info.head()"
   ]
  },
  {
   "cell_type": "code",
   "execution_count": 5,
   "metadata": {},
   "outputs": [
    {
     "data": {
      "text/plain": [
       "(891221, 85)"
      ]
     },
     "execution_count": 5,
     "metadata": {},
     "output_type": "execute_result"
    }
   ],
   "source": [
    "azdias.shape\n"
   ]
  },
  {
   "cell_type": "code",
   "execution_count": 6,
   "metadata": {},
   "outputs": [
    {
     "data": {
      "text/plain": [
       "(85, 4)"
      ]
     },
     "execution_count": 6,
     "metadata": {},
     "output_type": "execute_result"
    }
   ],
   "source": [
    "feat_info.shape"
   ]
  },
  {
   "cell_type": "code",
   "execution_count": 7,
   "metadata": {},
   "outputs": [
    {
     "name": "stdout",
     "output_type": "stream",
     "text": [
      "<class 'pandas.core.frame.DataFrame'>\n",
      "RangeIndex: 85 entries, 0 to 84\n",
      "Data columns (total 4 columns):\n",
      "attribute             85 non-null object\n",
      "information_level     85 non-null object\n",
      "type                  85 non-null object\n",
      "missing_or_unknown    85 non-null object\n",
      "dtypes: object(4)\n",
      "memory usage: 2.7+ KB\n"
     ]
    }
   ],
   "source": [
    "feat_info.info()"
   ]
  },
  {
   "cell_type": "code",
   "execution_count": 8,
   "metadata": {},
   "outputs": [
    {
     "data": {
      "text/plain": [
       "5"
      ]
     },
     "execution_count": 8,
     "metadata": {},
     "output_type": "execute_result"
    }
   ],
   "source": [
    "azdias['FINANZ_SPARER'].max()"
   ]
  },
  {
   "cell_type": "markdown",
   "metadata": {},
   "source": [
    "> **Tip**: Add additional cells to keep everything in reasonably-sized chunks! Keyboard shortcut `esc --> a` (press escape to enter command mode, then press the 'A' key) adds a new cell before the active cell, and `esc --> b` adds a new cell after the active cell. If you need to convert an active cell to a markdown cell, use `esc --> m` and to convert to a code cell, use `esc --> y`. \n",
    "\n",
    "## Step 1: Preprocessing\n",
    "\n",
    "### Step 1.1: Assess Missing Data\n",
    "\n",
    "The feature summary file contains a summary of properties for each demographics data column. You will use this file to help you make cleaning decisions during this stage of the project. First of all, you should assess the demographics data in terms of missing data. Pay attention to the following points as you perform your analysis, and take notes on what you observe. Make sure that you fill in the **Discussion** cell with your findings and decisions at the end of each step that has one!\n",
    "\n",
    "#### Step 1.1.1: Convert Missing Value Codes to NaNs\n",
    "The fourth column of the feature attributes summary (loaded in above as `feat_info`) documents the codes from the data dictionary that indicate missing or unknown data. While the file encodes this as a list (e.g. `[-1,0]`), this will get read in as a string object. You'll need to do a little bit of parsing to make use of it to identify and clean the data. Convert data that matches a 'missing' or 'unknown' value code into a numpy NaN value. You might want to see how much data takes on a 'missing' or 'unknown' code, and how much data is naturally missing, as a point of interest.\n",
    "\n",
    "**As one more reminder, you are encouraged to add additional cells to break up your analysis into manageable chunks.**"
   ]
  },
  {
   "cell_type": "code",
   "execution_count": 9,
   "metadata": {},
   "outputs": [
    {
     "name": "stdout",
     "output_type": "stream",
     "text": [
      "<class 'pandas.core.frame.DataFrame'>\n",
      "RangeIndex: 891221 entries, 0 to 891220\n",
      "Data columns (total 85 columns):\n",
      "AGER_TYP                 891221 non-null int64\n",
      "ALTERSKATEGORIE_GROB     891221 non-null int64\n",
      "ANREDE_KZ                891221 non-null int64\n",
      "CJT_GESAMTTYP            886367 non-null float64\n",
      "FINANZ_MINIMALIST        891221 non-null int64\n",
      "FINANZ_SPARER            891221 non-null int64\n",
      "FINANZ_VORSORGER         891221 non-null int64\n",
      "FINANZ_ANLEGER           891221 non-null int64\n",
      "FINANZ_UNAUFFAELLIGER    891221 non-null int64\n",
      "FINANZ_HAUSBAUER         891221 non-null int64\n",
      "FINANZTYP                891221 non-null int64\n",
      "GEBURTSJAHR              891221 non-null int64\n",
      "GFK_URLAUBERTYP          886367 non-null float64\n",
      "GREEN_AVANTGARDE         891221 non-null int64\n",
      "HEALTH_TYP               891221 non-null int64\n",
      "LP_LEBENSPHASE_FEIN      886367 non-null float64\n",
      "LP_LEBENSPHASE_GROB      886367 non-null float64\n",
      "LP_FAMILIE_FEIN          886367 non-null float64\n",
      "LP_FAMILIE_GROB          886367 non-null float64\n",
      "LP_STATUS_FEIN           886367 non-null float64\n",
      "LP_STATUS_GROB           886367 non-null float64\n",
      "NATIONALITAET_KZ         891221 non-null int64\n",
      "PRAEGENDE_JUGENDJAHRE    891221 non-null int64\n",
      "RETOURTYP_BK_S           886367 non-null float64\n",
      "SEMIO_SOZ                891221 non-null int64\n",
      "SEMIO_FAM                891221 non-null int64\n",
      "SEMIO_REL                891221 non-null int64\n",
      "SEMIO_MAT                891221 non-null int64\n",
      "SEMIO_VERT               891221 non-null int64\n",
      "SEMIO_LUST               891221 non-null int64\n",
      "SEMIO_ERL                891221 non-null int64\n",
      "SEMIO_KULT               891221 non-null int64\n",
      "SEMIO_RAT                891221 non-null int64\n",
      "SEMIO_KRIT               891221 non-null int64\n",
      "SEMIO_DOM                891221 non-null int64\n",
      "SEMIO_KAEM               891221 non-null int64\n",
      "SEMIO_PFLICHT            891221 non-null int64\n",
      "SEMIO_TRADV              891221 non-null int64\n",
      "SHOPPER_TYP              891221 non-null int64\n",
      "SOHO_KZ                  817722 non-null float64\n",
      "TITEL_KZ                 817722 non-null float64\n",
      "VERS_TYP                 891221 non-null int64\n",
      "ZABEOTYP                 891221 non-null int64\n",
      "ALTER_HH                 817722 non-null float64\n",
      "ANZ_PERSONEN             817722 non-null float64\n",
      "ANZ_TITEL                817722 non-null float64\n",
      "HH_EINKOMMEN_SCORE       872873 non-null float64\n",
      "KK_KUNDENTYP             306609 non-null float64\n",
      "W_KEIT_KIND_HH           783619 non-null float64\n",
      "WOHNDAUER_2008           817722 non-null float64\n",
      "ANZ_HAUSHALTE_AKTIV      798073 non-null float64\n",
      "ANZ_HH_TITEL             794213 non-null float64\n",
      "GEBAEUDETYP              798073 non-null float64\n",
      "KONSUMNAEHE              817252 non-null float64\n",
      "MIN_GEBAEUDEJAHR         798073 non-null float64\n",
      "OST_WEST_KZ              798073 non-null object\n",
      "WOHNLAGE                 798073 non-null float64\n",
      "CAMEO_DEUG_2015          792242 non-null object\n",
      "CAMEO_DEU_2015           792242 non-null object\n",
      "CAMEO_INTL_2015          792242 non-null object\n",
      "KBA05_ANTG1              757897 non-null float64\n",
      "KBA05_ANTG2              757897 non-null float64\n",
      "KBA05_ANTG3              757897 non-null float64\n",
      "KBA05_ANTG4              757897 non-null float64\n",
      "KBA05_BAUMAX             757897 non-null float64\n",
      "KBA05_GBZ                757897 non-null float64\n",
      "BALLRAUM                 797481 non-null float64\n",
      "EWDICHTE                 797481 non-null float64\n",
      "INNENSTADT               797481 non-null float64\n",
      "GEBAEUDETYP_RASTER       798066 non-null float64\n",
      "KKK                      770025 non-null float64\n",
      "MOBI_REGIO               757897 non-null float64\n",
      "ONLINE_AFFINITAET        886367 non-null float64\n",
      "REGIOTYP                 770025 non-null float64\n",
      "KBA13_ANZAHL_PKW         785421 non-null float64\n",
      "PLZ8_ANTG1               774706 non-null float64\n",
      "PLZ8_ANTG2               774706 non-null float64\n",
      "PLZ8_ANTG3               774706 non-null float64\n",
      "PLZ8_ANTG4               774706 non-null float64\n",
      "PLZ8_BAUMAX              774706 non-null float64\n",
      "PLZ8_HHZ                 774706 non-null float64\n",
      "PLZ8_GBZ                 774706 non-null float64\n",
      "ARBEIT                   794005 non-null float64\n",
      "ORTSGR_KLS9              794005 non-null float64\n",
      "RELAT_AB                 794005 non-null float64\n",
      "dtypes: float64(49), int64(32), object(4)\n",
      "memory usage: 578.0+ MB\n"
     ]
    }
   ],
   "source": [
    "# Identify missing or unknown data values and convert them to NaNs.\n",
    "azdias.info()\n"
   ]
  },
  {
   "cell_type": "code",
   "execution_count": 10,
   "metadata": {},
   "outputs": [],
   "source": [
    "#convert the missing values to NaN's \n",
    "def convert(df):\n",
    "    for i, V in enumerate(df.iteritems()):\n",
    "        missing_unknown = feat_info['missing_or_unknown'][i]\n",
    "        column_name = V[0]\n",
    "        missing_unknown = missing_unknown[1:-1].split(',')\n",
    "        if missing_unknown != ['']:\n",
    "            hold = []\n",
    "            for x in missing_unknown:\n",
    "                if x in ['X', 'XX']:\n",
    "                    hold.append(x)\n",
    "                else:\n",
    "                    hold.append(int(x))\n",
    "            df[column_name] = df[column_name].replace(hold,np.nan)\n",
    "            \n",
    "            \n",
    "    return df           "
   ]
  },
  {
   "cell_type": "code",
   "execution_count": 11,
   "metadata": {},
   "outputs": [],
   "source": [
    "azdias = convert(azdias)"
   ]
  },
  {
   "cell_type": "markdown",
   "metadata": {},
   "source": [
    "#### Step 1.1.2: Assess Missing Data in Each Column\n",
    "\n",
    "How much missing data is present in each column? There are a few columns that are outliers in terms of the proportion of values that are missing. You will want to use matplotlib's [`hist()`](https://matplotlib.org/api/_as_gen/matplotlib.pyplot.hist.html) function to visualize the distribution of missing value counts to find these columns. Identify and document these columns. While some of these columns might have justifications for keeping or re-encoding the data, for this project you should just remove them from the dataframe. (Feel free to make remarks about these outlier columns in the discussion, however!)\n",
    "\n",
    "For the remaining features, are there any patterns in which columns have, or share, missing data?"
   ]
  },
  {
   "cell_type": "code",
   "execution_count": 12,
   "metadata": {},
   "outputs": [
    {
     "data": {
      "text/plain": [
       "AGER_TYP                 685843\n",
       "ALTERSKATEGORIE_GROB       2881\n",
       "ANREDE_KZ                     0\n",
       "CJT_GESAMTTYP              4854\n",
       "FINANZ_MINIMALIST             0\n",
       "FINANZ_SPARER                 0\n",
       "FINANZ_VORSORGER              0\n",
       "FINANZ_ANLEGER                0\n",
       "FINANZ_UNAUFFAELLIGER         0\n",
       "FINANZ_HAUSBAUER              0\n",
       "FINANZTYP                     0\n",
       "GEBURTSJAHR              392318\n",
       "GFK_URLAUBERTYP            4854\n",
       "GREEN_AVANTGARDE              0\n",
       "HEALTH_TYP               111196\n",
       "LP_LEBENSPHASE_FEIN       97632\n",
       "LP_LEBENSPHASE_GROB       94572\n",
       "LP_FAMILIE_FEIN           77792\n",
       "LP_FAMILIE_GROB           77792\n",
       "LP_STATUS_FEIN             4854\n",
       "LP_STATUS_GROB             4854\n",
       "NATIONALITAET_KZ         108315\n",
       "PRAEGENDE_JUGENDJAHRE    108164\n",
       "RETOURTYP_BK_S             4854\n",
       "SEMIO_SOZ                     0\n",
       "SEMIO_FAM                     0\n",
       "SEMIO_REL                     0\n",
       "SEMIO_MAT                     0\n",
       "SEMIO_VERT                    0\n",
       "SEMIO_LUST                    0\n",
       "                          ...  \n",
       "OST_WEST_KZ               93148\n",
       "WOHNLAGE                  93148\n",
       "CAMEO_DEUG_2015           99352\n",
       "CAMEO_DEU_2015            99352\n",
       "CAMEO_INTL_2015           99352\n",
       "KBA05_ANTG1              133324\n",
       "KBA05_ANTG2              133324\n",
       "KBA05_ANTG3              133324\n",
       "KBA05_ANTG4              133324\n",
       "KBA05_BAUMAX             476524\n",
       "KBA05_GBZ                133324\n",
       "BALLRAUM                  93740\n",
       "EWDICHTE                  93740\n",
       "INNENSTADT                93740\n",
       "GEBAEUDETYP_RASTER        93155\n",
       "KKK                      158064\n",
       "MOBI_REGIO               133324\n",
       "ONLINE_AFFINITAET          4854\n",
       "REGIOTYP                 158064\n",
       "KBA13_ANZAHL_PKW         105800\n",
       "PLZ8_ANTG1               116515\n",
       "PLZ8_ANTG2               116515\n",
       "PLZ8_ANTG3               116515\n",
       "PLZ8_ANTG4               116515\n",
       "PLZ8_BAUMAX              116515\n",
       "PLZ8_HHZ                 116515\n",
       "PLZ8_GBZ                 116515\n",
       "ARBEIT                    97375\n",
       "ORTSGR_KLS9               97274\n",
       "RELAT_AB                  97375\n",
       "Length: 85, dtype: int64"
      ]
     },
     "execution_count": 12,
     "metadata": {},
     "output_type": "execute_result"
    }
   ],
   "source": [
    "# Perform an assessment of how much missing data there is in each column of the\n",
    "# dataset.\n",
    "azdias.isnull().sum()\n"
   ]
  },
  {
   "cell_type": "code",
   "execution_count": 13,
   "metadata": {},
   "outputs": [
    {
     "data": {
      "text/plain": [
       "AGER_TYP                685843\n",
       "ALTERSKATEGORIE_GROB      2881\n",
       "ANREDE_KZ                    0\n",
       "CJT_GESAMTTYP             4854\n",
       "FINANZ_MINIMALIST            0\n",
       "dtype: int64"
      ]
     },
     "execution_count": 13,
     "metadata": {},
     "output_type": "execute_result"
    }
   ],
   "source": [
    "# Investigate patterns in the amount of missing data in each column.\n",
    "nullest = azdias.isnull().sum()\n",
    "nullest.head()"
   ]
  },
  {
   "cell_type": "code",
   "execution_count": 14,
   "metadata": {},
   "outputs": [],
   "source": [
    "#create dataframe that has the missing values by column \n",
    "missing_value_df = pd.DataFrame({'column_name': azdias.columns,\n",
    "                                 'NaNs': nullest})"
   ]
  },
  {
   "cell_type": "code",
   "execution_count": 15,
   "metadata": {},
   "outputs": [
    {
     "data": {
      "text/html": [
       "<div>\n",
       "<style scoped>\n",
       "    .dataframe tbody tr th:only-of-type {\n",
       "        vertical-align: middle;\n",
       "    }\n",
       "\n",
       "    .dataframe tbody tr th {\n",
       "        vertical-align: top;\n",
       "    }\n",
       "\n",
       "    .dataframe thead th {\n",
       "        text-align: right;\n",
       "    }\n",
       "</style>\n",
       "<table border=\"1\" class=\"dataframe\">\n",
       "  <thead>\n",
       "    <tr style=\"text-align: right;\">\n",
       "      <th></th>\n",
       "      <th>column_name</th>\n",
       "      <th>NaNs</th>\n",
       "    </tr>\n",
       "  </thead>\n",
       "  <tbody>\n",
       "    <tr>\n",
       "      <th>AGER_TYP</th>\n",
       "      <td>AGER_TYP</td>\n",
       "      <td>685843</td>\n",
       "    </tr>\n",
       "    <tr>\n",
       "      <th>ALTERSKATEGORIE_GROB</th>\n",
       "      <td>ALTERSKATEGORIE_GROB</td>\n",
       "      <td>2881</td>\n",
       "    </tr>\n",
       "    <tr>\n",
       "      <th>ANREDE_KZ</th>\n",
       "      <td>ANREDE_KZ</td>\n",
       "      <td>0</td>\n",
       "    </tr>\n",
       "    <tr>\n",
       "      <th>CJT_GESAMTTYP</th>\n",
       "      <td>CJT_GESAMTTYP</td>\n",
       "      <td>4854</td>\n",
       "    </tr>\n",
       "    <tr>\n",
       "      <th>FINANZ_MINIMALIST</th>\n",
       "      <td>FINANZ_MINIMALIST</td>\n",
       "      <td>0</td>\n",
       "    </tr>\n",
       "  </tbody>\n",
       "</table>\n",
       "</div>"
      ],
      "text/plain": [
       "                               column_name    NaNs\n",
       "AGER_TYP                          AGER_TYP  685843\n",
       "ALTERSKATEGORIE_GROB  ALTERSKATEGORIE_GROB    2881\n",
       "ANREDE_KZ                        ANREDE_KZ       0\n",
       "CJT_GESAMTTYP                CJT_GESAMTTYP    4854\n",
       "FINANZ_MINIMALIST        FINANZ_MINIMALIST       0"
      ]
     },
     "execution_count": 15,
     "metadata": {},
     "output_type": "execute_result"
    }
   ],
   "source": [
    "missing_value_df.head()"
   ]
  },
  {
   "cell_type": "code",
   "execution_count": 16,
   "metadata": {},
   "outputs": [],
   "source": [
    "#plt.hist(missing_value_df)"
   ]
  },
  {
   "cell_type": "code",
   "execution_count": 17,
   "metadata": {},
   "outputs": [],
   "source": [
    "# create dataframe that has missing value by percent \n",
    "\n",
    "percent_missing = azdias.isnull().sum() * 100 / (len(azdias))\n",
    "missing_value_percent = pd.DataFrame({'column_name': azdias.columns,\n",
    "                                 'percent_missing': percent_missing})"
   ]
  },
  {
   "cell_type": "code",
   "execution_count": 18,
   "metadata": {},
   "outputs": [
    {
     "data": {
      "text/html": [
       "<div>\n",
       "<style scoped>\n",
       "    .dataframe tbody tr th:only-of-type {\n",
       "        vertical-align: middle;\n",
       "    }\n",
       "\n",
       "    .dataframe tbody tr th {\n",
       "        vertical-align: top;\n",
       "    }\n",
       "\n",
       "    .dataframe thead th {\n",
       "        text-align: right;\n",
       "    }\n",
       "</style>\n",
       "<table border=\"1\" class=\"dataframe\">\n",
       "  <thead>\n",
       "    <tr style=\"text-align: right;\">\n",
       "      <th></th>\n",
       "      <th>column_name</th>\n",
       "      <th>percent_missing</th>\n",
       "    </tr>\n",
       "  </thead>\n",
       "  <tbody>\n",
       "    <tr>\n",
       "      <th>AGER_TYP</th>\n",
       "      <td>AGER_TYP</td>\n",
       "      <td>76.955435</td>\n",
       "    </tr>\n",
       "    <tr>\n",
       "      <th>ALTERSKATEGORIE_GROB</th>\n",
       "      <td>ALTERSKATEGORIE_GROB</td>\n",
       "      <td>0.323264</td>\n",
       "    </tr>\n",
       "    <tr>\n",
       "      <th>ANREDE_KZ</th>\n",
       "      <td>ANREDE_KZ</td>\n",
       "      <td>0.000000</td>\n",
       "    </tr>\n",
       "    <tr>\n",
       "      <th>CJT_GESAMTTYP</th>\n",
       "      <td>CJT_GESAMTTYP</td>\n",
       "      <td>0.544646</td>\n",
       "    </tr>\n",
       "    <tr>\n",
       "      <th>FINANZ_MINIMALIST</th>\n",
       "      <td>FINANZ_MINIMALIST</td>\n",
       "      <td>0.000000</td>\n",
       "    </tr>\n",
       "  </tbody>\n",
       "</table>\n",
       "</div>"
      ],
      "text/plain": [
       "                               column_name  percent_missing\n",
       "AGER_TYP                          AGER_TYP        76.955435\n",
       "ALTERSKATEGORIE_GROB  ALTERSKATEGORIE_GROB         0.323264\n",
       "ANREDE_KZ                        ANREDE_KZ         0.000000\n",
       "CJT_GESAMTTYP                CJT_GESAMTTYP         0.544646\n",
       "FINANZ_MINIMALIST        FINANZ_MINIMALIST         0.000000"
      ]
     },
     "execution_count": 18,
     "metadata": {},
     "output_type": "execute_result"
    }
   ],
   "source": [
    "missing_value_percent.head()"
   ]
  },
  {
   "cell_type": "code",
   "execution_count": 19,
   "metadata": {},
   "outputs": [],
   "source": [
    "x = missing_value_percent['column_name']\n",
    "y = missing_value_percent['percent_missing']"
   ]
  },
  {
   "cell_type": "code",
   "execution_count": 20,
   "metadata": {},
   "outputs": [
    {
     "data": {
      "text/plain": [
       "<BarContainer object of 85 artists>"
      ]
     },
     "execution_count": 20,
     "metadata": {},
     "output_type": "execute_result"
    },
    {
     "data": {
      "image/png": "[encoded data removed]",
      "text/plain": [
       "<Figure size 432x288 with 1 Axes>"
      ]
     },
     "metadata": {},
     "output_type": "display_data"
    }
   ],
   "source": [
    "#look at bar chart of percent missing \n",
    "plt.bar(x, y)"
   ]
  },
  {
   "cell_type": "code",
   "execution_count": 21,
   "metadata": {},
   "outputs": [],
   "source": [
    "#look at columns with over 30% missing values \n",
    "most_null = missing_value_percent[missing_value_percent.percent_missing > 30]"
   ]
  },
  {
   "cell_type": "code",
   "execution_count": 22,
   "metadata": {},
   "outputs": [
    {
     "data": {
      "text/html": [
       "<div>\n",
       "<style scoped>\n",
       "    .dataframe tbody tr th:only-of-type {\n",
       "        vertical-align: middle;\n",
       "    }\n",
       "\n",
       "    .dataframe tbody tr th {\n",
       "        vertical-align: top;\n",
       "    }\n",
       "\n",
       "    .dataframe thead th {\n",
       "        text-align: right;\n",
       "    }\n",
       "</style>\n",
       "<table border=\"1\" class=\"dataframe\">\n",
       "  <thead>\n",
       "    <tr style=\"text-align: right;\">\n",
       "      <th></th>\n",
       "      <th>column_name</th>\n",
       "      <th>percent_missing</th>\n",
       "    </tr>\n",
       "  </thead>\n",
       "  <tbody>\n",
       "    <tr>\n",
       "      <th>AGER_TYP</th>\n",
       "      <td>AGER_TYP</td>\n",
       "      <td>76.955435</td>\n",
       "    </tr>\n",
       "    <tr>\n",
       "      <th>GEBURTSJAHR</th>\n",
       "      <td>GEBURTSJAHR</td>\n",
       "      <td>44.020282</td>\n",
       "    </tr>\n",
       "    <tr>\n",
       "      <th>TITEL_KZ</th>\n",
       "      <td>TITEL_KZ</td>\n",
       "      <td>99.757636</td>\n",
       "    </tr>\n",
       "    <tr>\n",
       "      <th>ALTER_HH</th>\n",
       "      <td>ALTER_HH</td>\n",
       "      <td>34.813699</td>\n",
       "    </tr>\n",
       "    <tr>\n",
       "      <th>KK_KUNDENTYP</th>\n",
       "      <td>KK_KUNDENTYP</td>\n",
       "      <td>65.596749</td>\n",
       "    </tr>\n",
       "    <tr>\n",
       "      <th>KBA05_BAUMAX</th>\n",
       "      <td>KBA05_BAUMAX</td>\n",
       "      <td>53.468668</td>\n",
       "    </tr>\n",
       "  </tbody>\n",
       "</table>\n",
       "</div>"
      ],
      "text/plain": [
       "               column_name  percent_missing\n",
       "AGER_TYP          AGER_TYP        76.955435\n",
       "GEBURTSJAHR    GEBURTSJAHR        44.020282\n",
       "TITEL_KZ          TITEL_KZ        99.757636\n",
       "ALTER_HH          ALTER_HH        34.813699\n",
       "KK_KUNDENTYP  KK_KUNDENTYP        65.596749\n",
       "KBA05_BAUMAX  KBA05_BAUMAX        53.468668"
      ]
     },
     "execution_count": 22,
     "metadata": {},
     "output_type": "execute_result"
    }
   ],
   "source": [
    "most_null"
   ]
  },
  {
   "cell_type": "code",
   "execution_count": 23,
   "metadata": {},
   "outputs": [],
   "source": [
    "some_nulls = missing_value_percent[missing_value_percent.percent_missing > 0]"
   ]
  },
  {
   "cell_type": "code",
   "execution_count": 24,
   "metadata": {},
   "outputs": [
    {
     "data": {
      "text/plain": [
       "61"
      ]
     },
     "execution_count": 24,
     "metadata": {},
     "output_type": "execute_result"
    }
   ],
   "source": [
    "len(some_nulls)"
   ]
  },
  {
   "cell_type": "code",
   "execution_count": 25,
   "metadata": {},
   "outputs": [],
   "source": [
    "ten_to_twenty_nulls = missing_value_percent[(missing_value_percent['percent_missing'] > 8) & (missing_value_percent['percent_missing'] < 18)]"
   ]
  },
  {
   "cell_type": "code",
   "execution_count": 26,
   "metadata": {},
   "outputs": [
    {
     "data": {
      "text/plain": [
       "47"
      ]
     },
     "execution_count": 26,
     "metadata": {},
     "output_type": "execute_result"
    }
   ],
   "source": [
    "len(ten_to_twenty_nulls)"
   ]
  },
  {
   "cell_type": "code",
   "execution_count": 27,
   "metadata": {},
   "outputs": [
    {
     "data": {
      "text/plain": [
       "0.7704918032786885"
      ]
     },
     "execution_count": 27,
     "metadata": {},
     "output_type": "execute_result"
    }
   ],
   "source": [
    "len(ten_to_twenty_nulls) / len(some_nulls)"
   ]
  },
  {
   "cell_type": "code",
   "execution_count": 28,
   "metadata": {},
   "outputs": [
    {
     "data": {
      "text/plain": [
       "891078"
      ]
     },
     "execution_count": 28,
     "metadata": {},
     "output_type": "execute_result"
    }
   ],
   "source": [
    "azdias.isnull().any(axis = 1).sum()"
   ]
  },
  {
   "cell_type": "code",
   "execution_count": 29,
   "metadata": {},
   "outputs": [],
   "source": [
    "# Remove the outlier columns from the dataset. (You'll perform other data\n",
    "# engineering tasks such as re-encoding and imputation later.)\n",
    "\n"
   ]
  },
  {
   "cell_type": "code",
   "execution_count": 30,
   "metadata": {},
   "outputs": [],
   "source": [
    "#copy of dataset before cleaning\n",
    "df_clean = azdias.copy()\n"
   ]
  },
  {
   "cell_type": "code",
   "execution_count": 31,
   "metadata": {},
   "outputs": [
    {
     "data": {
      "text/plain": [
       "98516.81176470588"
      ]
     },
     "execution_count": 31,
     "metadata": {},
     "output_type": "execute_result"
    }
   ],
   "source": [
    "NU = df_clean.isnull().sum()\n",
    "NU.mean()"
   ]
  },
  {
   "cell_type": "code",
   "execution_count": 32,
   "metadata": {},
   "outputs": [],
   "source": [
    "#drop column with over 30% missing \n",
    "del df_clean['AGER_TYP']\n",
    "del df_clean['GEBURTSJAHR']\n",
    "del df_clean['TITEL_KZ']\n",
    "del df_clean['ALTER_HH']\n",
    "del df_clean['KK_KUNDENTYP']\n",
    "del df_clean['KBA05_BAUMAX']"
   ]
  },
  {
   "cell_type": "code",
   "execution_count": 33,
   "metadata": {},
   "outputs": [
    {
     "name": "stdout",
     "output_type": "stream",
     "text": [
      "No\n"
     ]
    }
   ],
   "source": [
    "#test to ensure column was drop \n",
    "if 'TITEL_KZ' in df_clean.columns:\n",
    "    print(\"Yes\")\n",
    "else:\n",
    "    print(\"No\")"
   ]
  },
  {
   "cell_type": "code",
   "execution_count": null,
   "metadata": {},
   "outputs": [],
   "source": []
  },
  {
   "cell_type": "markdown",
   "metadata": {},
   "source": [
    "#### Discussion 1.1.2: Assess Missing Data in Each Column\n",
    "\n",
    "\n",
    "\n",
    "61 out of the 85 columns have some missing values.  Of those columns with missing values, most (77%) seem to cluster between 8% and 18%.  Six columns had more than 30% missing values; 'KK_KUNDENTYP', 'AGER_TYP', 'TITEL_KZ', 'ALTER_HH', 'KK_KUNDENTYP', 'KBA05_BAUMAX'  These columns were removed from the dataframe.   "
   ]
  },
  {
   "cell_type": "markdown",
   "metadata": {},
   "source": [
    "#### Step 1.1.3: Assess Missing Data in Each Row\n",
    "\n",
    "Now, you'll perform a similar assessment for the rows of the dataset. How much data is missing in each row? As with the columns, you should see some groups of points that have a very different numbers of missing values. Divide the data into two subsets: one for data points that are above some threshold for missing values, and a second subset for points below that threshold.\n",
    "\n",
    "In order to know what to do with the outlier rows, we should see if the distribution of data values on columns that are not missing data (or are missing very little data) are similar or different between the two groups. Select at least five of these columns and compare the distribution of values.\n",
    "- You can use seaborn's [`countplot()`](https://seaborn.pydata.org/generated/seaborn.countplot.html) function to create a bar chart of code frequencies and matplotlib's [`subplot()`](https://matplotlib.org/api/_as_gen/matplotlib.pyplot.subplot.html) function to put bar charts for the two subplots side by side.\n",
    "- To reduce repeated code, you might want to write a function that can perform this comparison, taking as one of its arguments a column to be compared.\n",
    "\n",
    "Depending on what you observe in your comparison, this will have implications on how you approach your conclusions later in the analysis. If the distributions of non-missing features look similar between the data with many missing values and the data with few or no missing values, then we could argue that simply dropping those points from the analysis won't present a major issue. On the other hand, if the data with many missing values looks very different from the data with few or no missing values, then we should make a note on those data as special. We'll revisit these data later on. **Either way, you should continue your analysis for now using just the subset of the data with few or no missing values.**"
   ]
  },
  {
   "cell_type": "code",
   "execution_count": 34,
   "metadata": {},
   "outputs": [],
   "source": [
    "no_nulls = missing_value_percent[missing_value_percent.percent_missing == 0]"
   ]
  },
  {
   "cell_type": "code",
   "execution_count": 35,
   "metadata": {},
   "outputs": [
    {
     "data": {
      "text/html": [
       "<div>\n",
       "<style scoped>\n",
       "    .dataframe tbody tr th:only-of-type {\n",
       "        vertical-align: middle;\n",
       "    }\n",
       "\n",
       "    .dataframe tbody tr th {\n",
       "        vertical-align: top;\n",
       "    }\n",
       "\n",
       "    .dataframe thead th {\n",
       "        text-align: right;\n",
       "    }\n",
       "</style>\n",
       "<table border=\"1\" class=\"dataframe\">\n",
       "  <thead>\n",
       "    <tr style=\"text-align: right;\">\n",
       "      <th></th>\n",
       "      <th>column_name</th>\n",
       "      <th>percent_missing</th>\n",
       "    </tr>\n",
       "  </thead>\n",
       "  <tbody>\n",
       "    <tr>\n",
       "      <th>ANREDE_KZ</th>\n",
       "      <td>ANREDE_KZ</td>\n",
       "      <td>0.0</td>\n",
       "    </tr>\n",
       "    <tr>\n",
       "      <th>FINANZ_MINIMALIST</th>\n",
       "      <td>FINANZ_MINIMALIST</td>\n",
       "      <td>0.0</td>\n",
       "    </tr>\n",
       "    <tr>\n",
       "      <th>FINANZ_SPARER</th>\n",
       "      <td>FINANZ_SPARER</td>\n",
       "      <td>0.0</td>\n",
       "    </tr>\n",
       "    <tr>\n",
       "      <th>FINANZ_VORSORGER</th>\n",
       "      <td>FINANZ_VORSORGER</td>\n",
       "      <td>0.0</td>\n",
       "    </tr>\n",
       "    <tr>\n",
       "      <th>FINANZ_ANLEGER</th>\n",
       "      <td>FINANZ_ANLEGER</td>\n",
       "      <td>0.0</td>\n",
       "    </tr>\n",
       "    <tr>\n",
       "      <th>FINANZ_UNAUFFAELLIGER</th>\n",
       "      <td>FINANZ_UNAUFFAELLIGER</td>\n",
       "      <td>0.0</td>\n",
       "    </tr>\n",
       "    <tr>\n",
       "      <th>FINANZ_HAUSBAUER</th>\n",
       "      <td>FINANZ_HAUSBAUER</td>\n",
       "      <td>0.0</td>\n",
       "    </tr>\n",
       "    <tr>\n",
       "      <th>FINANZTYP</th>\n",
       "      <td>FINANZTYP</td>\n",
       "      <td>0.0</td>\n",
       "    </tr>\n",
       "    <tr>\n",
       "      <th>GREEN_AVANTGARDE</th>\n",
       "      <td>GREEN_AVANTGARDE</td>\n",
       "      <td>0.0</td>\n",
       "    </tr>\n",
       "    <tr>\n",
       "      <th>SEMIO_SOZ</th>\n",
       "      <td>SEMIO_SOZ</td>\n",
       "      <td>0.0</td>\n",
       "    </tr>\n",
       "    <tr>\n",
       "      <th>SEMIO_FAM</th>\n",
       "      <td>SEMIO_FAM</td>\n",
       "      <td>0.0</td>\n",
       "    </tr>\n",
       "    <tr>\n",
       "      <th>SEMIO_REL</th>\n",
       "      <td>SEMIO_REL</td>\n",
       "      <td>0.0</td>\n",
       "    </tr>\n",
       "    <tr>\n",
       "      <th>SEMIO_MAT</th>\n",
       "      <td>SEMIO_MAT</td>\n",
       "      <td>0.0</td>\n",
       "    </tr>\n",
       "    <tr>\n",
       "      <th>SEMIO_VERT</th>\n",
       "      <td>SEMIO_VERT</td>\n",
       "      <td>0.0</td>\n",
       "    </tr>\n",
       "    <tr>\n",
       "      <th>SEMIO_LUST</th>\n",
       "      <td>SEMIO_LUST</td>\n",
       "      <td>0.0</td>\n",
       "    </tr>\n",
       "    <tr>\n",
       "      <th>SEMIO_ERL</th>\n",
       "      <td>SEMIO_ERL</td>\n",
       "      <td>0.0</td>\n",
       "    </tr>\n",
       "    <tr>\n",
       "      <th>SEMIO_KULT</th>\n",
       "      <td>SEMIO_KULT</td>\n",
       "      <td>0.0</td>\n",
       "    </tr>\n",
       "    <tr>\n",
       "      <th>SEMIO_RAT</th>\n",
       "      <td>SEMIO_RAT</td>\n",
       "      <td>0.0</td>\n",
       "    </tr>\n",
       "    <tr>\n",
       "      <th>SEMIO_KRIT</th>\n",
       "      <td>SEMIO_KRIT</td>\n",
       "      <td>0.0</td>\n",
       "    </tr>\n",
       "    <tr>\n",
       "      <th>SEMIO_DOM</th>\n",
       "      <td>SEMIO_DOM</td>\n",
       "      <td>0.0</td>\n",
       "    </tr>\n",
       "    <tr>\n",
       "      <th>SEMIO_KAEM</th>\n",
       "      <td>SEMIO_KAEM</td>\n",
       "      <td>0.0</td>\n",
       "    </tr>\n",
       "    <tr>\n",
       "      <th>SEMIO_PFLICHT</th>\n",
       "      <td>SEMIO_PFLICHT</td>\n",
       "      <td>0.0</td>\n",
       "    </tr>\n",
       "    <tr>\n",
       "      <th>SEMIO_TRADV</th>\n",
       "      <td>SEMIO_TRADV</td>\n",
       "      <td>0.0</td>\n",
       "    </tr>\n",
       "    <tr>\n",
       "      <th>ZABEOTYP</th>\n",
       "      <td>ZABEOTYP</td>\n",
       "      <td>0.0</td>\n",
       "    </tr>\n",
       "  </tbody>\n",
       "</table>\n",
       "</div>"
      ],
      "text/plain": [
       "                                 column_name  percent_missing\n",
       "ANREDE_KZ                          ANREDE_KZ              0.0\n",
       "FINANZ_MINIMALIST          FINANZ_MINIMALIST              0.0\n",
       "FINANZ_SPARER                  FINANZ_SPARER              0.0\n",
       "FINANZ_VORSORGER            FINANZ_VORSORGER              0.0\n",
       "FINANZ_ANLEGER                FINANZ_ANLEGER              0.0\n",
       "FINANZ_UNAUFFAELLIGER  FINANZ_UNAUFFAELLIGER              0.0\n",
       "FINANZ_HAUSBAUER            FINANZ_HAUSBAUER              0.0\n",
       "FINANZTYP                          FINANZTYP              0.0\n",
       "GREEN_AVANTGARDE            GREEN_AVANTGARDE              0.0\n",
       "SEMIO_SOZ                          SEMIO_SOZ              0.0\n",
       "SEMIO_FAM                          SEMIO_FAM              0.0\n",
       "SEMIO_REL                          SEMIO_REL              0.0\n",
       "SEMIO_MAT                          SEMIO_MAT              0.0\n",
       "SEMIO_VERT                        SEMIO_VERT              0.0\n",
       "SEMIO_LUST                        SEMIO_LUST              0.0\n",
       "SEMIO_ERL                          SEMIO_ERL              0.0\n",
       "SEMIO_KULT                        SEMIO_KULT              0.0\n",
       "SEMIO_RAT                          SEMIO_RAT              0.0\n",
       "SEMIO_KRIT                        SEMIO_KRIT              0.0\n",
       "SEMIO_DOM                          SEMIO_DOM              0.0\n",
       "SEMIO_KAEM                        SEMIO_KAEM              0.0\n",
       "SEMIO_PFLICHT                  SEMIO_PFLICHT              0.0\n",
       "SEMIO_TRADV                      SEMIO_TRADV              0.0\n",
       "ZABEOTYP                            ZABEOTYP              0.0"
      ]
     },
     "execution_count": 35,
     "metadata": {},
     "output_type": "execute_result"
    }
   ],
   "source": [
    "no_nulls"
   ]
  },
  {
   "cell_type": "code",
   "execution_count": 36,
   "metadata": {},
   "outputs": [
    {
     "data": {
      "text/plain": [
       "79"
      ]
     },
     "execution_count": 36,
     "metadata": {},
     "output_type": "execute_result"
    }
   ],
   "source": [
    "df_clean.columns.size"
   ]
  },
  {
   "cell_type": "code",
   "execution_count": 37,
   "metadata": {},
   "outputs": [],
   "source": [
    "# create dataframe that shows much data is missing in each row of the dataset\n",
    "percent_missing_rows = df_clean.isnull().sum(axis=1) * 100 / (df_clean.columns.size)\n",
    "nan_percent = pd.DataFrame({'percent_missing': percent_missing_rows})\n"
   ]
  },
  {
   "cell_type": "code",
   "execution_count": 38,
   "metadata": {},
   "outputs": [
    {
     "data": {
      "text/html": [
       "<div>\n",
       "<style scoped>\n",
       "    .dataframe tbody tr th:only-of-type {\n",
       "        vertical-align: middle;\n",
       "    }\n",
       "\n",
       "    .dataframe tbody tr th {\n",
       "        vertical-align: top;\n",
       "    }\n",
       "\n",
       "    .dataframe thead th {\n",
       "        text-align: right;\n",
       "    }\n",
       "</style>\n",
       "<table border=\"1\" class=\"dataframe\">\n",
       "  <thead>\n",
       "    <tr style=\"text-align: right;\">\n",
       "      <th></th>\n",
       "      <th>percent_missing</th>\n",
       "    </tr>\n",
       "  </thead>\n",
       "  <tbody>\n",
       "    <tr>\n",
       "      <th>0</th>\n",
       "      <td>54.430380</td>\n",
       "    </tr>\n",
       "    <tr>\n",
       "      <th>1</th>\n",
       "      <td>0.000000</td>\n",
       "    </tr>\n",
       "    <tr>\n",
       "      <th>2</th>\n",
       "      <td>0.000000</td>\n",
       "    </tr>\n",
       "    <tr>\n",
       "      <th>3</th>\n",
       "      <td>8.860759</td>\n",
       "    </tr>\n",
       "    <tr>\n",
       "      <th>4</th>\n",
       "      <td>0.000000</td>\n",
       "    </tr>\n",
       "  </tbody>\n",
       "</table>\n",
       "</div>"
      ],
      "text/plain": [
       "   percent_missing\n",
       "0        54.430380\n",
       "1         0.000000\n",
       "2         0.000000\n",
       "3         8.860759\n",
       "4         0.000000"
      ]
     },
     "execution_count": 38,
     "metadata": {},
     "output_type": "execute_result"
    }
   ],
   "source": [
    "nan_percent.head()"
   ]
  },
  {
   "cell_type": "code",
   "execution_count": 39,
   "metadata": {},
   "outputs": [],
   "source": [
    "z = nan_percent.iloc[:,0]\n",
    "b = nan_percent['percent_missing']\n"
   ]
  },
  {
   "cell_type": "code",
   "execution_count": 40,
   "metadata": {},
   "outputs": [],
   "source": [
    "#function that will show percentage of rows in the dataframe with a given percent of missing variables \n",
    "def separator(n):\n",
    "    lame_rows = nan_percent[nan_percent.percent_missing >= n]\n",
    "    cool_rows = nan_percent[nan_percent.percent_missing < n]\n",
    "    percent_lame = len(lame_rows) / len(nan_percent)\n",
    "    \n",
    "    return percent_lame"
   ]
  },
  {
   "cell_type": "code",
   "execution_count": 41,
   "metadata": {},
   "outputs": [
    {
     "data": {
      "text/plain": [
       "0.23195032433032883"
      ]
     },
     "execution_count": 41,
     "metadata": {},
     "output_type": "execute_result"
    }
   ],
   "source": [
    "separator(5)"
   ]
  },
  {
   "cell_type": "code",
   "execution_count": 42,
   "metadata": {},
   "outputs": [],
   "source": [
    "#create column variable 'mia' that shows how many values missing in that row\n",
    "df_clean['mia'] = df_clean.isnull().sum(axis=1) * 100 / (df_clean.columns.size)"
   ]
  },
  {
   "cell_type": "code",
   "execution_count": 43,
   "metadata": {},
   "outputs": [
    {
     "data": {
      "text/plain": [
       "80"
      ]
     },
     "execution_count": 43,
     "metadata": {},
     "output_type": "execute_result"
    }
   ],
   "source": [
    "df_clean.columns.size"
   ]
  },
  {
   "cell_type": "code",
   "execution_count": 44,
   "metadata": {},
   "outputs": [
    {
     "data": {
      "text/plain": [
       "count    891221.000000\n",
       "mean          7.151764\n",
       "std          16.752768\n",
       "min           0.000000\n",
       "25%           0.000000\n",
       "50%           0.000000\n",
       "75%           3.797468\n",
       "max          62.025316\n",
       "Name: mia, dtype: float64"
      ]
     },
     "execution_count": 44,
     "metadata": {},
     "output_type": "execute_result"
    }
   ],
   "source": [
    "df_clean['mia'].describe()"
   ]
  },
  {
   "cell_type": "code",
   "execution_count": 45,
   "metadata": {},
   "outputs": [],
   "source": [
    "lame_rows = df_clean[df_clean.mia >= 25]"
   ]
  },
  {
   "cell_type": "code",
   "execution_count": 46,
   "metadata": {},
   "outputs": [
    {
     "data": {
      "text/plain": [
       "0.10563485375681228"
      ]
     },
     "execution_count": 46,
     "metadata": {},
     "output_type": "execute_result"
    }
   ],
   "source": [
    "len(lame_rows) / len(df_clean)"
   ]
  },
  {
   "cell_type": "code",
   "execution_count": null,
   "metadata": {},
   "outputs": [],
   "source": []
  },
  {
   "cell_type": "code",
   "execution_count": 47,
   "metadata": {},
   "outputs": [
    {
     "data": {
      "text/plain": [
       "24"
      ]
     },
     "execution_count": 47,
     "metadata": {},
     "output_type": "execute_result"
    }
   ],
   "source": [
    "# Compare the distribution of values for at least five columns where there are\n",
    "# no or few missing values, between the two subsets.\n",
    "no_nulls = missing_value_percent[missing_value_percent.percent_missing == 0]\n",
    "len(no_nulls)"
   ]
  },
  {
   "cell_type": "code",
   "execution_count": 48,
   "metadata": {},
   "outputs": [],
   "source": [
    "full_rows = df_clean[df_clean.mia == 0]"
   ]
  },
  {
   "cell_type": "code",
   "execution_count": 49,
   "metadata": {},
   "outputs": [
    {
     "data": {
      "text/plain": [
       "623209"
      ]
     },
     "execution_count": 49,
     "metadata": {},
     "output_type": "execute_result"
    }
   ],
   "source": [
    "len(full_rows)"
   ]
  },
  {
   "cell_type": "code",
   "execution_count": 50,
   "metadata": {},
   "outputs": [
    {
     "data": {
      "text/html": [
       "<div>\n",
       "<style scoped>\n",
       "    .dataframe tbody tr th:only-of-type {\n",
       "        vertical-align: middle;\n",
       "    }\n",
       "\n",
       "    .dataframe tbody tr th {\n",
       "        vertical-align: top;\n",
       "    }\n",
       "\n",
       "    .dataframe thead th {\n",
       "        text-align: right;\n",
       "    }\n",
       "</style>\n",
       "<table border=\"1\" class=\"dataframe\">\n",
       "  <thead>\n",
       "    <tr style=\"text-align: right;\">\n",
       "      <th></th>\n",
       "      <th>column_name</th>\n",
       "      <th>percent_missing</th>\n",
       "    </tr>\n",
       "  </thead>\n",
       "  <tbody>\n",
       "    <tr>\n",
       "      <th>ANREDE_KZ</th>\n",
       "      <td>ANREDE_KZ</td>\n",
       "      <td>0.0</td>\n",
       "    </tr>\n",
       "    <tr>\n",
       "      <th>FINANZ_MINIMALIST</th>\n",
       "      <td>FINANZ_MINIMALIST</td>\n",
       "      <td>0.0</td>\n",
       "    </tr>\n",
       "    <tr>\n",
       "      <th>FINANZ_SPARER</th>\n",
       "      <td>FINANZ_SPARER</td>\n",
       "      <td>0.0</td>\n",
       "    </tr>\n",
       "    <tr>\n",
       "      <th>FINANZ_VORSORGER</th>\n",
       "      <td>FINANZ_VORSORGER</td>\n",
       "      <td>0.0</td>\n",
       "    </tr>\n",
       "    <tr>\n",
       "      <th>FINANZ_ANLEGER</th>\n",
       "      <td>FINANZ_ANLEGER</td>\n",
       "      <td>0.0</td>\n",
       "    </tr>\n",
       "  </tbody>\n",
       "</table>\n",
       "</div>"
      ],
      "text/plain": [
       "                         column_name  percent_missing\n",
       "ANREDE_KZ                  ANREDE_KZ              0.0\n",
       "FINANZ_MINIMALIST  FINANZ_MINIMALIST              0.0\n",
       "FINANZ_SPARER          FINANZ_SPARER              0.0\n",
       "FINANZ_VORSORGER    FINANZ_VORSORGER              0.0\n",
       "FINANZ_ANLEGER        FINANZ_ANLEGER              0.0"
      ]
     },
     "execution_count": 50,
     "metadata": {},
     "output_type": "execute_result"
    }
   ],
   "source": [
    "no_nulls.head(n=5)"
   ]
  },
  {
   "cell_type": "code",
   "execution_count": 51,
   "metadata": {},
   "outputs": [
    {
     "data": {
      "text/plain": [
       "<matplotlib.axes._subplots.AxesSubplot at 0xb8bc9b0>"
      ]
     },
     "execution_count": 51,
     "metadata": {},
     "output_type": "execute_result"
    },
    {
     "data": {
      "image/png": "[encoded data removed]",
      "text/plain": [
       "<Figure size 432x288 with 1 Axes>"
      ]
     },
     "metadata": {},
     "output_type": "display_data"
    }
   ],
   "source": [
    "sns.countplot(x='ANREDE_KZ', data=full_rows)"
   ]
  },
  {
   "cell_type": "code",
   "execution_count": 52,
   "metadata": {},
   "outputs": [
    {
     "data": {
      "text/plain": [
       "<matplotlib.axes._subplots.AxesSubplot at 0xb8f50f0>"
      ]
     },
     "execution_count": 52,
     "metadata": {},
     "output_type": "execute_result"
    },
    {
     "data": {
      "image/png": "[encoded data removed]",
      "text/plain": [
       "<Figure size 432x288 with 1 Axes>"
      ]
     },
     "metadata": {},
     "output_type": "display_data"
    }
   ],
   "source": [
    "sns.countplot(x='ANREDE_KZ', data=lame_rows)"
   ]
  },
  {
   "cell_type": "code",
   "execution_count": 53,
   "metadata": {},
   "outputs": [
    {
     "data": {
      "text/plain": [
       "Text(0.5,1,'Lame Rows')"
      ]
     },
     "execution_count": 53,
     "metadata": {},
     "output_type": "execute_result"
    },
    {
     "data": {
      "image/png": "[encoded data removed]",
      "text/plain": [
       "<Figure size 360x720 with 2 Axes>"
      ]
     },
     "metadata": {},
     "output_type": "display_data"
    }
   ],
   "source": [
    "fig, axes = plt.subplots(nrows = 2, ncols = 1, figsize=(5,10))\n",
    "sns.countplot(x='ANREDE_KZ', data=full_rows, ax = axes[0])\n",
    "sns.countplot(x='ANREDE_KZ', data=lame_rows, ax = axes[1])\n",
    "\n",
    "axes[0].set_title('Full Rows')\n",
    "axes[1].set_title('Lame Rows')"
   ]
  },
  {
   "cell_type": "code",
   "execution_count": 54,
   "metadata": {},
   "outputs": [],
   "source": [
    "#function to compare distributions between full rows and less than full (lame) rows\n",
    "\n",
    "def dis_plots(vertical):\n",
    "    fig, axes = plt.subplots(nrows = 2, ncols = 1, figsize=(5,10))\n",
    "    sns.countplot(x= vertical, data=full_rows, ax = axes[0])\n",
    "    sns.countplot(x= vertical, data=lame_rows, ax = axes[1])\n",
    "    \n",
    "    axes[0].set_title('Full Rows')\n",
    "    axes[1].set_title('Lame Rows')\n",
    "    \n",
    "    return()"
   ]
  },
  {
   "cell_type": "code",
   "execution_count": 55,
   "metadata": {},
   "outputs": [
    {
     "data": {
      "text/plain": [
       "()"
      ]
     },
     "execution_count": 55,
     "metadata": {},
     "output_type": "execute_result"
    },
    {
     "data": {
      "image/png": "[encoded data removed]",
      "text/plain": [
       "<Figure size 360x720 with 2 Axes>"
      ]
     },
     "metadata": {},
     "output_type": "display_data"
    }
   ],
   "source": [
    "dis_plots('FINANZ_ANLEGER')"
   ]
  },
  {
   "cell_type": "code",
   "execution_count": 56,
   "metadata": {},
   "outputs": [],
   "source": [
    "#continue analysis with a dataframe that has less than the threshold of 25% missing values in row \n",
    "#set df_clean to rows with less than 25% missing values\n",
    "df_clean = df_clean[df_clean.mia < 25]\n"
   ]
  },
  {
   "cell_type": "markdown",
   "metadata": {},
   "source": [
    "#### Discussion 1.1.3: Assess Missing Data in Each Row\n",
    "\n",
    "\n",
    "\n",
    "We set a threshold of 25% for missing values in a row to seperate.  This is one standard deviation above the mean value for missing value percents for the rows.  About 10% of the dataframe is represented in this set (lame_rows).  \n",
    "\n",
    "Of the columns I compared with no missing values, most had distributions that were very different between rows high percent of  missing values (25% or more) versus rows with little or no missing values (less than 25%).   "
   ]
  },
  {
   "cell_type": "markdown",
   "metadata": {},
   "source": [
    "### Step 1.2: Select and Re-Encode Features\n",
    "\n",
    "Checking for missing data isn't the only way in which you can prepare a dataset for analysis. Since the unsupervised learning techniques to be used will only work on data that is encoded numerically, you need to make a few encoding changes or additional assumptions to be able to make progress. In addition, while almost all of the values in the dataset are encoded using numbers, not all of them represent numeric values. Check the third column of the feature summary (`feat_info`) for a summary of types of measurement.\n",
    "- For numeric and interval data, these features can be kept without changes.\n",
    "- Most of the variables in the dataset are ordinal in nature. While ordinal values may technically be non-linear in spacing, make the simplifying assumption that the ordinal variables can be treated as being interval in nature (that is, kept without any changes).\n",
    "- Special handling may be necessary for the remaining two variable types: categorical, and 'mixed'.\n",
    "\n",
    "In the first two parts of this sub-step, you will perform an investigation of the categorical and mixed-type features and make a decision on each of them, whether you will keep, drop, or re-encode each. Then, in the last part, you will create a new data frame with only the selected and engineered columns.\n",
    "\n",
    "Data wrangling is often the trickiest part of the data analysis process, and there's a lot of it to be done here. But stick with it: once you're done with this step, you'll be ready to get to the machine learning parts of the project!"
   ]
  },
  {
   "cell_type": "code",
   "execution_count": 57,
   "metadata": {},
   "outputs": [
    {
     "data": {
      "text/html": [
       "<div>\n",
       "<style scoped>\n",
       "    .dataframe tbody tr th:only-of-type {\n",
       "        vertical-align: middle;\n",
       "    }\n",
       "\n",
       "    .dataframe tbody tr th {\n",
       "        vertical-align: top;\n",
       "    }\n",
       "\n",
       "    .dataframe thead th {\n",
       "        text-align: right;\n",
       "    }\n",
       "</style>\n",
       "<table border=\"1\" class=\"dataframe\">\n",
       "  <thead>\n",
       "    <tr style=\"text-align: right;\">\n",
       "      <th></th>\n",
       "      <th>attribute</th>\n",
       "      <th>information_level</th>\n",
       "      <th>type</th>\n",
       "      <th>missing_or_unknown</th>\n",
       "    </tr>\n",
       "  </thead>\n",
       "  <tbody>\n",
       "    <tr>\n",
       "      <th>0</th>\n",
       "      <td>AGER_TYP</td>\n",
       "      <td>person</td>\n",
       "      <td>categorical</td>\n",
       "      <td>[-1,0]</td>\n",
       "    </tr>\n",
       "    <tr>\n",
       "      <th>1</th>\n",
       "      <td>ALTERSKATEGORIE_GROB</td>\n",
       "      <td>person</td>\n",
       "      <td>ordinal</td>\n",
       "      <td>[-1,0,9]</td>\n",
       "    </tr>\n",
       "    <tr>\n",
       "      <th>2</th>\n",
       "      <td>ANREDE_KZ</td>\n",
       "      <td>person</td>\n",
       "      <td>categorical</td>\n",
       "      <td>[-1,0]</td>\n",
       "    </tr>\n",
       "    <tr>\n",
       "      <th>3</th>\n",
       "      <td>CJT_GESAMTTYP</td>\n",
       "      <td>person</td>\n",
       "      <td>categorical</td>\n",
       "      <td>[0]</td>\n",
       "    </tr>\n",
       "    <tr>\n",
       "      <th>4</th>\n",
       "      <td>FINANZ_MINIMALIST</td>\n",
       "      <td>person</td>\n",
       "      <td>ordinal</td>\n",
       "      <td>[-1]</td>\n",
       "    </tr>\n",
       "  </tbody>\n",
       "</table>\n",
       "</div>"
      ],
      "text/plain": [
       "              attribute information_level         type missing_or_unknown\n",
       "0              AGER_TYP            person  categorical             [-1,0]\n",
       "1  ALTERSKATEGORIE_GROB            person      ordinal           [-1,0,9]\n",
       "2             ANREDE_KZ            person  categorical             [-1,0]\n",
       "3         CJT_GESAMTTYP            person  categorical                [0]\n",
       "4     FINANZ_MINIMALIST            person      ordinal               [-1]"
      ]
     },
     "execution_count": 57,
     "metadata": {},
     "output_type": "execute_result"
    }
   ],
   "source": [
    "# How many features are there of each data type?\n",
    "feat_info.head()\n"
   ]
  },
  {
   "cell_type": "code",
   "execution_count": 58,
   "metadata": {},
   "outputs": [
    {
     "data": {
      "text/plain": [
       "array(['categorical', 'ordinal', 'numeric', 'mixed', 'interval'],\n",
       "      dtype=object)"
      ]
     },
     "execution_count": 58,
     "metadata": {},
     "output_type": "execute_result"
    }
   ],
   "source": [
    "feat_info['type'].unique()"
   ]
  },
  {
   "cell_type": "markdown",
   "metadata": {},
   "source": []
  },
  {
   "cell_type": "markdown",
   "metadata": {},
   "source": [
    "#### Step 1.2.1: Re-Encode Categorical Features\n",
    "\n",
    "For categorical data, you would ordinarily need to encode the levels as dummy variables. Depending on the number of categories, perform one of the following:\n",
    "- For binary (two-level) categoricals that take numeric values, you can keep them without needing to do anything.\n",
    "- There is one binary variable that takes on non-numeric values. For this one, you need to re-encode the values as numbers or create a dummy variable.\n",
    "- For multi-level categoricals (three or more values), you can choose to encode the values using multiple dummy variables (e.g. via [OneHotEncoder](http://scikit-learn.org/stable/modules/generated/sklearn.preprocessing.OneHotEncoder.html)), or (to keep things straightforward) just drop them from the analysis. As always, document your choices in the Discussion section."
   ]
  },
  {
   "cell_type": "code",
   "execution_count": 59,
   "metadata": {},
   "outputs": [
    {
     "data": {
      "text/html": [
       "<div>\n",
       "<style scoped>\n",
       "    .dataframe tbody tr th:only-of-type {\n",
       "        vertical-align: middle;\n",
       "    }\n",
       "\n",
       "    .dataframe tbody tr th {\n",
       "        vertical-align: top;\n",
       "    }\n",
       "\n",
       "    .dataframe thead th {\n",
       "        text-align: right;\n",
       "    }\n",
       "</style>\n",
       "<table border=\"1\" class=\"dataframe\">\n",
       "  <thead>\n",
       "    <tr style=\"text-align: right;\">\n",
       "      <th></th>\n",
       "      <th>attribute</th>\n",
       "      <th>information_level</th>\n",
       "      <th>type</th>\n",
       "      <th>missing_or_unknown</th>\n",
       "    </tr>\n",
       "  </thead>\n",
       "  <tbody>\n",
       "    <tr>\n",
       "      <th>0</th>\n",
       "      <td>AGER_TYP</td>\n",
       "      <td>person</td>\n",
       "      <td>categorical</td>\n",
       "      <td>[-1,0]</td>\n",
       "    </tr>\n",
       "    <tr>\n",
       "      <th>2</th>\n",
       "      <td>ANREDE_KZ</td>\n",
       "      <td>person</td>\n",
       "      <td>categorical</td>\n",
       "      <td>[-1,0]</td>\n",
       "    </tr>\n",
       "    <tr>\n",
       "      <th>3</th>\n",
       "      <td>CJT_GESAMTTYP</td>\n",
       "      <td>person</td>\n",
       "      <td>categorical</td>\n",
       "      <td>[0]</td>\n",
       "    </tr>\n",
       "    <tr>\n",
       "      <th>10</th>\n",
       "      <td>FINANZTYP</td>\n",
       "      <td>person</td>\n",
       "      <td>categorical</td>\n",
       "      <td>[-1]</td>\n",
       "    </tr>\n",
       "    <tr>\n",
       "      <th>12</th>\n",
       "      <td>GFK_URLAUBERTYP</td>\n",
       "      <td>person</td>\n",
       "      <td>categorical</td>\n",
       "      <td>[]</td>\n",
       "    </tr>\n",
       "  </tbody>\n",
       "</table>\n",
       "</div>"
      ],
      "text/plain": [
       "          attribute information_level         type missing_or_unknown\n",
       "0          AGER_TYP            person  categorical             [-1,0]\n",
       "2         ANREDE_KZ            person  categorical             [-1,0]\n",
       "3     CJT_GESAMTTYP            person  categorical                [0]\n",
       "10        FINANZTYP            person  categorical               [-1]\n",
       "12  GFK_URLAUBERTYP            person  categorical                 []"
      ]
     },
     "execution_count": 59,
     "metadata": {},
     "output_type": "execute_result"
    }
   ],
   "source": [
    "# Assess categorical variables: which are binary, which are multi-level, and\n",
    "# which one needs to be re-encoded?\n",
    "categorical = feat_info[feat_info.type == 'categorical'] \n",
    "categorical.head()"
   ]
  },
  {
   "cell_type": "code",
   "execution_count": 60,
   "metadata": {},
   "outputs": [],
   "source": [
    "cat_attributes = categorical.attribute.get_values()"
   ]
  },
  {
   "cell_type": "code",
   "execution_count": 61,
   "metadata": {},
   "outputs": [],
   "source": [
    "cat_attributes = cat_attributes.tolist()"
   ]
  },
  {
   "cell_type": "code",
   "execution_count": 62,
   "metadata": {},
   "outputs": [
    {
     "data": {
      "text/plain": [
       "['AGER_TYP',\n",
       " 'ANREDE_KZ',\n",
       " 'CJT_GESAMTTYP',\n",
       " 'FINANZTYP',\n",
       " 'GFK_URLAUBERTYP',\n",
       " 'GREEN_AVANTGARDE',\n",
       " 'LP_FAMILIE_FEIN',\n",
       " 'LP_FAMILIE_GROB',\n",
       " 'LP_STATUS_FEIN',\n",
       " 'LP_STATUS_GROB',\n",
       " 'NATIONALITAET_KZ',\n",
       " 'SHOPPER_TYP',\n",
       " 'SOHO_KZ',\n",
       " 'TITEL_KZ',\n",
       " 'VERS_TYP',\n",
       " 'ZABEOTYP',\n",
       " 'KK_KUNDENTYP',\n",
       " 'GEBAEUDETYP',\n",
       " 'OST_WEST_KZ',\n",
       " 'CAMEO_DEUG_2015',\n",
       " 'CAMEO_DEU_2015']"
      ]
     },
     "execution_count": 62,
     "metadata": {},
     "output_type": "execute_result"
    }
   ],
   "source": [
    "cat_attributes"
   ]
  },
  {
   "cell_type": "code",
   "execution_count": 63,
   "metadata": {},
   "outputs": [
    {
     "data": {
      "text/plain": [
       "21"
      ]
     },
     "execution_count": 63,
     "metadata": {},
     "output_type": "execute_result"
    }
   ],
   "source": [
    "len(cat_attributes)"
   ]
  },
  {
   "cell_type": "code",
   "execution_count": 64,
   "metadata": {},
   "outputs": [
    {
     "data": {
      "text/html": [
       "<div>\n",
       "<style scoped>\n",
       "    .dataframe tbody tr th:only-of-type {\n",
       "        vertical-align: middle;\n",
       "    }\n",
       "\n",
       "    .dataframe tbody tr th {\n",
       "        vertical-align: top;\n",
       "    }\n",
       "\n",
       "    .dataframe thead th {\n",
       "        text-align: right;\n",
       "    }\n",
       "</style>\n",
       "<table border=\"1\" class=\"dataframe\">\n",
       "  <thead>\n",
       "    <tr style=\"text-align: right;\">\n",
       "      <th></th>\n",
       "      <th>ALTERSKATEGORIE_GROB</th>\n",
       "      <th>ANREDE_KZ</th>\n",
       "      <th>CJT_GESAMTTYP</th>\n",
       "      <th>FINANZ_MINIMALIST</th>\n",
       "      <th>FINANZ_SPARER</th>\n",
       "      <th>FINANZ_VORSORGER</th>\n",
       "      <th>FINANZ_ANLEGER</th>\n",
       "      <th>FINANZ_UNAUFFAELLIGER</th>\n",
       "      <th>FINANZ_HAUSBAUER</th>\n",
       "      <th>FINANZTYP</th>\n",
       "      <th>...</th>\n",
       "      <th>PLZ8_ANTG2</th>\n",
       "      <th>PLZ8_ANTG3</th>\n",
       "      <th>PLZ8_ANTG4</th>\n",
       "      <th>PLZ8_BAUMAX</th>\n",
       "      <th>PLZ8_HHZ</th>\n",
       "      <th>PLZ8_GBZ</th>\n",
       "      <th>ARBEIT</th>\n",
       "      <th>ORTSGR_KLS9</th>\n",
       "      <th>RELAT_AB</th>\n",
       "      <th>mia</th>\n",
       "    </tr>\n",
       "  </thead>\n",
       "  <tbody>\n",
       "    <tr>\n",
       "      <th>1</th>\n",
       "      <td>1.0</td>\n",
       "      <td>2</td>\n",
       "      <td>5.0</td>\n",
       "      <td>1</td>\n",
       "      <td>5</td>\n",
       "      <td>2</td>\n",
       "      <td>5</td>\n",
       "      <td>4</td>\n",
       "      <td>5</td>\n",
       "      <td>1</td>\n",
       "      <td>...</td>\n",
       "      <td>3.0</td>\n",
       "      <td>2.0</td>\n",
       "      <td>1.0</td>\n",
       "      <td>1.0</td>\n",
       "      <td>5.0</td>\n",
       "      <td>4.0</td>\n",
       "      <td>3.0</td>\n",
       "      <td>5.0</td>\n",
       "      <td>4.0</td>\n",
       "      <td>0.000000</td>\n",
       "    </tr>\n",
       "    <tr>\n",
       "      <th>2</th>\n",
       "      <td>3.0</td>\n",
       "      <td>2</td>\n",
       "      <td>3.0</td>\n",
       "      <td>1</td>\n",
       "      <td>4</td>\n",
       "      <td>1</td>\n",
       "      <td>2</td>\n",
       "      <td>3</td>\n",
       "      <td>5</td>\n",
       "      <td>1</td>\n",
       "      <td>...</td>\n",
       "      <td>3.0</td>\n",
       "      <td>1.0</td>\n",
       "      <td>0.0</td>\n",
       "      <td>1.0</td>\n",
       "      <td>4.0</td>\n",
       "      <td>4.0</td>\n",
       "      <td>3.0</td>\n",
       "      <td>5.0</td>\n",
       "      <td>2.0</td>\n",
       "      <td>0.000000</td>\n",
       "    </tr>\n",
       "    <tr>\n",
       "      <th>3</th>\n",
       "      <td>4.0</td>\n",
       "      <td>2</td>\n",
       "      <td>2.0</td>\n",
       "      <td>4</td>\n",
       "      <td>2</td>\n",
       "      <td>5</td>\n",
       "      <td>2</td>\n",
       "      <td>1</td>\n",
       "      <td>2</td>\n",
       "      <td>6</td>\n",
       "      <td>...</td>\n",
       "      <td>2.0</td>\n",
       "      <td>2.0</td>\n",
       "      <td>0.0</td>\n",
       "      <td>1.0</td>\n",
       "      <td>3.0</td>\n",
       "      <td>4.0</td>\n",
       "      <td>2.0</td>\n",
       "      <td>3.0</td>\n",
       "      <td>3.0</td>\n",
       "      <td>8.860759</td>\n",
       "    </tr>\n",
       "    <tr>\n",
       "      <th>4</th>\n",
       "      <td>3.0</td>\n",
       "      <td>1</td>\n",
       "      <td>5.0</td>\n",
       "      <td>4</td>\n",
       "      <td>3</td>\n",
       "      <td>4</td>\n",
       "      <td>1</td>\n",
       "      <td>3</td>\n",
       "      <td>2</td>\n",
       "      <td>5</td>\n",
       "      <td>...</td>\n",
       "      <td>4.0</td>\n",
       "      <td>2.0</td>\n",
       "      <td>1.0</td>\n",
       "      <td>2.0</td>\n",
       "      <td>3.0</td>\n",
       "      <td>3.0</td>\n",
       "      <td>4.0</td>\n",
       "      <td>6.0</td>\n",
       "      <td>5.0</td>\n",
       "      <td>0.000000</td>\n",
       "    </tr>\n",
       "    <tr>\n",
       "      <th>5</th>\n",
       "      <td>1.0</td>\n",
       "      <td>2</td>\n",
       "      <td>2.0</td>\n",
       "      <td>3</td>\n",
       "      <td>1</td>\n",
       "      <td>5</td>\n",
       "      <td>2</td>\n",
       "      <td>2</td>\n",
       "      <td>5</td>\n",
       "      <td>2</td>\n",
       "      <td>...</td>\n",
       "      <td>3.0</td>\n",
       "      <td>1.0</td>\n",
       "      <td>1.0</td>\n",
       "      <td>1.0</td>\n",
       "      <td>5.0</td>\n",
       "      <td>5.0</td>\n",
       "      <td>2.0</td>\n",
       "      <td>3.0</td>\n",
       "      <td>3.0</td>\n",
       "      <td>0.000000</td>\n",
       "    </tr>\n",
       "  </tbody>\n",
       "</table>\n",
       "<p>5 rows × 80 columns</p>\n",
       "</div>"
      ],
      "text/plain": [
       "   ALTERSKATEGORIE_GROB  ANREDE_KZ  CJT_GESAMTTYP  FINANZ_MINIMALIST  \\\n",
       "1                   1.0          2            5.0                  1   \n",
       "2                   3.0          2            3.0                  1   \n",
       "3                   4.0          2            2.0                  4   \n",
       "4                   3.0          1            5.0                  4   \n",
       "5                   1.0          2            2.0                  3   \n",
       "\n",
       "   FINANZ_SPARER  FINANZ_VORSORGER  FINANZ_ANLEGER  FINANZ_UNAUFFAELLIGER  \\\n",
       "1              5                 2               5                      4   \n",
       "2              4                 1               2                      3   \n",
       "3              2                 5               2                      1   \n",
       "4              3                 4               1                      3   \n",
       "5              1                 5               2                      2   \n",
       "\n",
       "   FINANZ_HAUSBAUER  FINANZTYP    ...     PLZ8_ANTG2  PLZ8_ANTG3  PLZ8_ANTG4  \\\n",
       "1                 5          1    ...            3.0         2.0         1.0   \n",
       "2                 5          1    ...            3.0         1.0         0.0   \n",
       "3                 2          6    ...            2.0         2.0         0.0   \n",
       "4                 2          5    ...            4.0         2.0         1.0   \n",
       "5                 5          2    ...            3.0         1.0         1.0   \n",
       "\n",
       "   PLZ8_BAUMAX  PLZ8_HHZ  PLZ8_GBZ  ARBEIT  ORTSGR_KLS9  RELAT_AB       mia  \n",
       "1          1.0       5.0       4.0     3.0          5.0       4.0  0.000000  \n",
       "2          1.0       4.0       4.0     3.0          5.0       2.0  0.000000  \n",
       "3          1.0       3.0       4.0     2.0          3.0       3.0  8.860759  \n",
       "4          2.0       3.0       3.0     4.0          6.0       5.0  0.000000  \n",
       "5          1.0       5.0       5.0     2.0          3.0       3.0  0.000000  \n",
       "\n",
       "[5 rows x 80 columns]"
      ]
     },
     "execution_count": 64,
     "metadata": {},
     "output_type": "execute_result"
    }
   ],
   "source": [
    "df_clean.head()"
   ]
  },
  {
   "cell_type": "code",
   "execution_count": 65,
   "metadata": {},
   "outputs": [],
   "source": [
    "df_clean_cat = df_clean[df_clean.columns.intersection(cat_attributes)]"
   ]
  },
  {
   "cell_type": "code",
   "execution_count": 66,
   "metadata": {},
   "outputs": [
    {
     "data": {
      "text/html": [
       "<div>\n",
       "<style scoped>\n",
       "    .dataframe tbody tr th:only-of-type {\n",
       "        vertical-align: middle;\n",
       "    }\n",
       "\n",
       "    .dataframe tbody tr th {\n",
       "        vertical-align: top;\n",
       "    }\n",
       "\n",
       "    .dataframe thead th {\n",
       "        text-align: right;\n",
       "    }\n",
       "</style>\n",
       "<table border=\"1\" class=\"dataframe\">\n",
       "  <thead>\n",
       "    <tr style=\"text-align: right;\">\n",
       "      <th></th>\n",
       "      <th>ANREDE_KZ</th>\n",
       "      <th>CJT_GESAMTTYP</th>\n",
       "      <th>FINANZTYP</th>\n",
       "      <th>GFK_URLAUBERTYP</th>\n",
       "      <th>GREEN_AVANTGARDE</th>\n",
       "      <th>LP_FAMILIE_FEIN</th>\n",
       "      <th>LP_FAMILIE_GROB</th>\n",
       "      <th>LP_STATUS_FEIN</th>\n",
       "      <th>LP_STATUS_GROB</th>\n",
       "      <th>NATIONALITAET_KZ</th>\n",
       "      <th>SHOPPER_TYP</th>\n",
       "      <th>SOHO_KZ</th>\n",
       "      <th>VERS_TYP</th>\n",
       "      <th>ZABEOTYP</th>\n",
       "      <th>GEBAEUDETYP</th>\n",
       "      <th>OST_WEST_KZ</th>\n",
       "      <th>CAMEO_DEUG_2015</th>\n",
       "      <th>CAMEO_DEU_2015</th>\n",
       "    </tr>\n",
       "  </thead>\n",
       "  <tbody>\n",
       "    <tr>\n",
       "      <th>1</th>\n",
       "      <td>2</td>\n",
       "      <td>5.0</td>\n",
       "      <td>1</td>\n",
       "      <td>10.0</td>\n",
       "      <td>0</td>\n",
       "      <td>5.0</td>\n",
       "      <td>3.0</td>\n",
       "      <td>2.0</td>\n",
       "      <td>1.0</td>\n",
       "      <td>1.0</td>\n",
       "      <td>3.0</td>\n",
       "      <td>1.0</td>\n",
       "      <td>2.0</td>\n",
       "      <td>5</td>\n",
       "      <td>8.0</td>\n",
       "      <td>W</td>\n",
       "      <td>8</td>\n",
       "      <td>8A</td>\n",
       "    </tr>\n",
       "    <tr>\n",
       "      <th>2</th>\n",
       "      <td>2</td>\n",
       "      <td>3.0</td>\n",
       "      <td>1</td>\n",
       "      <td>10.0</td>\n",
       "      <td>1</td>\n",
       "      <td>1.0</td>\n",
       "      <td>1.0</td>\n",
       "      <td>3.0</td>\n",
       "      <td>2.0</td>\n",
       "      <td>1.0</td>\n",
       "      <td>2.0</td>\n",
       "      <td>0.0</td>\n",
       "      <td>1.0</td>\n",
       "      <td>5</td>\n",
       "      <td>1.0</td>\n",
       "      <td>W</td>\n",
       "      <td>4</td>\n",
       "      <td>4C</td>\n",
       "    </tr>\n",
       "    <tr>\n",
       "      <th>3</th>\n",
       "      <td>2</td>\n",
       "      <td>2.0</td>\n",
       "      <td>6</td>\n",
       "      <td>1.0</td>\n",
       "      <td>0</td>\n",
       "      <td>NaN</td>\n",
       "      <td>NaN</td>\n",
       "      <td>9.0</td>\n",
       "      <td>4.0</td>\n",
       "      <td>1.0</td>\n",
       "      <td>1.0</td>\n",
       "      <td>0.0</td>\n",
       "      <td>1.0</td>\n",
       "      <td>3</td>\n",
       "      <td>1.0</td>\n",
       "      <td>W</td>\n",
       "      <td>2</td>\n",
       "      <td>2A</td>\n",
       "    </tr>\n",
       "    <tr>\n",
       "      <th>4</th>\n",
       "      <td>1</td>\n",
       "      <td>5.0</td>\n",
       "      <td>5</td>\n",
       "      <td>5.0</td>\n",
       "      <td>0</td>\n",
       "      <td>10.0</td>\n",
       "      <td>5.0</td>\n",
       "      <td>3.0</td>\n",
       "      <td>2.0</td>\n",
       "      <td>1.0</td>\n",
       "      <td>2.0</td>\n",
       "      <td>0.0</td>\n",
       "      <td>2.0</td>\n",
       "      <td>4</td>\n",
       "      <td>1.0</td>\n",
       "      <td>W</td>\n",
       "      <td>6</td>\n",
       "      <td>6B</td>\n",
       "    </tr>\n",
       "    <tr>\n",
       "      <th>5</th>\n",
       "      <td>2</td>\n",
       "      <td>2.0</td>\n",
       "      <td>2</td>\n",
       "      <td>1.0</td>\n",
       "      <td>0</td>\n",
       "      <td>1.0</td>\n",
       "      <td>1.0</td>\n",
       "      <td>4.0</td>\n",
       "      <td>2.0</td>\n",
       "      <td>1.0</td>\n",
       "      <td>0.0</td>\n",
       "      <td>0.0</td>\n",
       "      <td>2.0</td>\n",
       "      <td>4</td>\n",
       "      <td>1.0</td>\n",
       "      <td>W</td>\n",
       "      <td>8</td>\n",
       "      <td>8C</td>\n",
       "    </tr>\n",
       "  </tbody>\n",
       "</table>\n",
       "</div>"
      ],
      "text/plain": [
       "   ANREDE_KZ  CJT_GESAMTTYP  FINANZTYP  GFK_URLAUBERTYP  GREEN_AVANTGARDE  \\\n",
       "1          2            5.0          1             10.0                 0   \n",
       "2          2            3.0          1             10.0                 1   \n",
       "3          2            2.0          6              1.0                 0   \n",
       "4          1            5.0          5              5.0                 0   \n",
       "5          2            2.0          2              1.0                 0   \n",
       "\n",
       "   LP_FAMILIE_FEIN  LP_FAMILIE_GROB  LP_STATUS_FEIN  LP_STATUS_GROB  \\\n",
       "1              5.0              3.0             2.0             1.0   \n",
       "2              1.0              1.0             3.0             2.0   \n",
       "3              NaN              NaN             9.0             4.0   \n",
       "4             10.0              5.0             3.0             2.0   \n",
       "5              1.0              1.0             4.0             2.0   \n",
       "\n",
       "   NATIONALITAET_KZ  SHOPPER_TYP  SOHO_KZ  VERS_TYP  ZABEOTYP  GEBAEUDETYP  \\\n",
       "1               1.0          3.0      1.0       2.0         5          8.0   \n",
       "2               1.0          2.0      0.0       1.0         5          1.0   \n",
       "3               1.0          1.0      0.0       1.0         3          1.0   \n",
       "4               1.0          2.0      0.0       2.0         4          1.0   \n",
       "5               1.0          0.0      0.0       2.0         4          1.0   \n",
       "\n",
       "  OST_WEST_KZ CAMEO_DEUG_2015 CAMEO_DEU_2015  \n",
       "1           W               8             8A  \n",
       "2           W               4             4C  \n",
       "3           W               2             2A  \n",
       "4           W               6             6B  \n",
       "5           W               8             8C  "
      ]
     },
     "execution_count": 66,
     "metadata": {},
     "output_type": "execute_result"
    }
   ],
   "source": [
    "df_clean_cat.head()"
   ]
  },
  {
   "cell_type": "code",
   "execution_count": 67,
   "metadata": {},
   "outputs": [],
   "source": [
    "numerics = ['int16', 'int32', 'int64', 'float16', 'float32', 'float64']\n",
    "\n",
    "categorical_numeric = df_clean_cat.select_dtypes(include=numerics) "
   ]
  },
  {
   "cell_type": "code",
   "execution_count": 68,
   "metadata": {},
   "outputs": [],
   "source": [
    "numerics = ['int16', 'int32', 'int64', 'float16', 'float32', 'float64']\n",
    "categorical_non_numeric = df_clean_cat.select_dtypes(exclude=numerics)"
   ]
  },
  {
   "cell_type": "code",
   "execution_count": 69,
   "metadata": {},
   "outputs": [
    {
     "data": {
      "text/html": [
       "<div>\n",
       "<style scoped>\n",
       "    .dataframe tbody tr th:only-of-type {\n",
       "        vertical-align: middle;\n",
       "    }\n",
       "\n",
       "    .dataframe tbody tr th {\n",
       "        vertical-align: top;\n",
       "    }\n",
       "\n",
       "    .dataframe thead th {\n",
       "        text-align: right;\n",
       "    }\n",
       "</style>\n",
       "<table border=\"1\" class=\"dataframe\">\n",
       "  <thead>\n",
       "    <tr style=\"text-align: right;\">\n",
       "      <th></th>\n",
       "      <th>OST_WEST_KZ</th>\n",
       "      <th>CAMEO_DEUG_2015</th>\n",
       "      <th>CAMEO_DEU_2015</th>\n",
       "    </tr>\n",
       "  </thead>\n",
       "  <tbody>\n",
       "    <tr>\n",
       "      <th>1</th>\n",
       "      <td>W</td>\n",
       "      <td>8</td>\n",
       "      <td>8A</td>\n",
       "    </tr>\n",
       "    <tr>\n",
       "      <th>2</th>\n",
       "      <td>W</td>\n",
       "      <td>4</td>\n",
       "      <td>4C</td>\n",
       "    </tr>\n",
       "    <tr>\n",
       "      <th>3</th>\n",
       "      <td>W</td>\n",
       "      <td>2</td>\n",
       "      <td>2A</td>\n",
       "    </tr>\n",
       "    <tr>\n",
       "      <th>4</th>\n",
       "      <td>W</td>\n",
       "      <td>6</td>\n",
       "      <td>6B</td>\n",
       "    </tr>\n",
       "    <tr>\n",
       "      <th>5</th>\n",
       "      <td>W</td>\n",
       "      <td>8</td>\n",
       "      <td>8C</td>\n",
       "    </tr>\n",
       "  </tbody>\n",
       "</table>\n",
       "</div>"
      ],
      "text/plain": [
       "  OST_WEST_KZ CAMEO_DEUG_2015 CAMEO_DEU_2015\n",
       "1           W               8             8A\n",
       "2           W               4             4C\n",
       "3           W               2             2A\n",
       "4           W               6             6B\n",
       "5           W               8             8C"
      ]
     },
     "execution_count": 69,
     "metadata": {},
     "output_type": "execute_result"
    }
   ],
   "source": [
    "categorical_non_numeric.head()"
   ]
  },
  {
   "cell_type": "code",
   "execution_count": 70,
   "metadata": {},
   "outputs": [
    {
     "data": {
      "text/html": [
       "<div>\n",
       "<style scoped>\n",
       "    .dataframe tbody tr th:only-of-type {\n",
       "        vertical-align: middle;\n",
       "    }\n",
       "\n",
       "    .dataframe tbody tr th {\n",
       "        vertical-align: top;\n",
       "    }\n",
       "\n",
       "    .dataframe thead th {\n",
       "        text-align: right;\n",
       "    }\n",
       "</style>\n",
       "<table border=\"1\" class=\"dataframe\">\n",
       "  <thead>\n",
       "    <tr style=\"text-align: right;\">\n",
       "      <th></th>\n",
       "      <th>ANREDE_KZ</th>\n",
       "      <th>CJT_GESAMTTYP</th>\n",
       "      <th>FINANZTYP</th>\n",
       "      <th>GFK_URLAUBERTYP</th>\n",
       "      <th>GREEN_AVANTGARDE</th>\n",
       "      <th>LP_FAMILIE_FEIN</th>\n",
       "      <th>LP_FAMILIE_GROB</th>\n",
       "      <th>LP_STATUS_FEIN</th>\n",
       "      <th>LP_STATUS_GROB</th>\n",
       "      <th>NATIONALITAET_KZ</th>\n",
       "      <th>SHOPPER_TYP</th>\n",
       "      <th>SOHO_KZ</th>\n",
       "      <th>VERS_TYP</th>\n",
       "      <th>ZABEOTYP</th>\n",
       "      <th>GEBAEUDETYP</th>\n",
       "    </tr>\n",
       "  </thead>\n",
       "  <tbody>\n",
       "    <tr>\n",
       "      <th>1</th>\n",
       "      <td>2</td>\n",
       "      <td>5.0</td>\n",
       "      <td>1</td>\n",
       "      <td>10.0</td>\n",
       "      <td>0</td>\n",
       "      <td>5.0</td>\n",
       "      <td>3.0</td>\n",
       "      <td>2.0</td>\n",
       "      <td>1.0</td>\n",
       "      <td>1.0</td>\n",
       "      <td>3.0</td>\n",
       "      <td>1.0</td>\n",
       "      <td>2.0</td>\n",
       "      <td>5</td>\n",
       "      <td>8.0</td>\n",
       "    </tr>\n",
       "    <tr>\n",
       "      <th>2</th>\n",
       "      <td>2</td>\n",
       "      <td>3.0</td>\n",
       "      <td>1</td>\n",
       "      <td>10.0</td>\n",
       "      <td>1</td>\n",
       "      <td>1.0</td>\n",
       "      <td>1.0</td>\n",
       "      <td>3.0</td>\n",
       "      <td>2.0</td>\n",
       "      <td>1.0</td>\n",
       "      <td>2.0</td>\n",
       "      <td>0.0</td>\n",
       "      <td>1.0</td>\n",
       "      <td>5</td>\n",
       "      <td>1.0</td>\n",
       "    </tr>\n",
       "    <tr>\n",
       "      <th>3</th>\n",
       "      <td>2</td>\n",
       "      <td>2.0</td>\n",
       "      <td>6</td>\n",
       "      <td>1.0</td>\n",
       "      <td>0</td>\n",
       "      <td>NaN</td>\n",
       "      <td>NaN</td>\n",
       "      <td>9.0</td>\n",
       "      <td>4.0</td>\n",
       "      <td>1.0</td>\n",
       "      <td>1.0</td>\n",
       "      <td>0.0</td>\n",
       "      <td>1.0</td>\n",
       "      <td>3</td>\n",
       "      <td>1.0</td>\n",
       "    </tr>\n",
       "    <tr>\n",
       "      <th>4</th>\n",
       "      <td>1</td>\n",
       "      <td>5.0</td>\n",
       "      <td>5</td>\n",
       "      <td>5.0</td>\n",
       "      <td>0</td>\n",
       "      <td>10.0</td>\n",
       "      <td>5.0</td>\n",
       "      <td>3.0</td>\n",
       "      <td>2.0</td>\n",
       "      <td>1.0</td>\n",
       "      <td>2.0</td>\n",
       "      <td>0.0</td>\n",
       "      <td>2.0</td>\n",
       "      <td>4</td>\n",
       "      <td>1.0</td>\n",
       "    </tr>\n",
       "    <tr>\n",
       "      <th>5</th>\n",
       "      <td>2</td>\n",
       "      <td>2.0</td>\n",
       "      <td>2</td>\n",
       "      <td>1.0</td>\n",
       "      <td>0</td>\n",
       "      <td>1.0</td>\n",
       "      <td>1.0</td>\n",
       "      <td>4.0</td>\n",
       "      <td>2.0</td>\n",
       "      <td>1.0</td>\n",
       "      <td>0.0</td>\n",
       "      <td>0.0</td>\n",
       "      <td>2.0</td>\n",
       "      <td>4</td>\n",
       "      <td>1.0</td>\n",
       "    </tr>\n",
       "  </tbody>\n",
       "</table>\n",
       "</div>"
      ],
      "text/plain": [
       "   ANREDE_KZ  CJT_GESAMTTYP  FINANZTYP  GFK_URLAUBERTYP  GREEN_AVANTGARDE  \\\n",
       "1          2            5.0          1             10.0                 0   \n",
       "2          2            3.0          1             10.0                 1   \n",
       "3          2            2.0          6              1.0                 0   \n",
       "4          1            5.0          5              5.0                 0   \n",
       "5          2            2.0          2              1.0                 0   \n",
       "\n",
       "   LP_FAMILIE_FEIN  LP_FAMILIE_GROB  LP_STATUS_FEIN  LP_STATUS_GROB  \\\n",
       "1              5.0              3.0             2.0             1.0   \n",
       "2              1.0              1.0             3.0             2.0   \n",
       "3              NaN              NaN             9.0             4.0   \n",
       "4             10.0              5.0             3.0             2.0   \n",
       "5              1.0              1.0             4.0             2.0   \n",
       "\n",
       "   NATIONALITAET_KZ  SHOPPER_TYP  SOHO_KZ  VERS_TYP  ZABEOTYP  GEBAEUDETYP  \n",
       "1               1.0          3.0      1.0       2.0         5          8.0  \n",
       "2               1.0          2.0      0.0       1.0         5          1.0  \n",
       "3               1.0          1.0      0.0       1.0         3          1.0  \n",
       "4               1.0          2.0      0.0       2.0         4          1.0  \n",
       "5               1.0          0.0      0.0       2.0         4          1.0  "
      ]
     },
     "execution_count": 70,
     "metadata": {},
     "output_type": "execute_result"
    }
   ],
   "source": [
    "categorical_numeric.head()"
   ]
  },
  {
   "cell_type": "code",
   "execution_count": 71,
   "metadata": {},
   "outputs": [
    {
     "data": {
      "text/plain": [
       "array(['W', 'O'], dtype=object)"
      ]
     },
     "execution_count": 71,
     "metadata": {},
     "output_type": "execute_result"
    }
   ],
   "source": [
    "categorical_non_numeric['OST_WEST_KZ'].unique()"
   ]
  },
  {
   "cell_type": "code",
   "execution_count": 72,
   "metadata": {},
   "outputs": [
    {
     "data": {
      "text/plain": [
       "2"
      ]
     },
     "execution_count": 72,
     "metadata": {},
     "output_type": "execute_result"
    }
   ],
   "source": [
    "categorical_non_numeric['OST_WEST_KZ'].nunique()"
   ]
  },
  {
   "cell_type": "code",
   "execution_count": 73,
   "metadata": {},
   "outputs": [
    {
     "data": {
      "text/plain": [
       "array(['8', '4', '2', '6', '1', '9', '5', '7', nan, '3'], dtype=object)"
      ]
     },
     "execution_count": 73,
     "metadata": {},
     "output_type": "execute_result"
    }
   ],
   "source": [
    "categorical_non_numeric['CAMEO_DEUG_2015'].unique()"
   ]
  },
  {
   "cell_type": "code",
   "execution_count": 74,
   "metadata": {},
   "outputs": [
    {
     "data": {
      "text/plain": [
       "array(['8A', '4C', '2A', '6B', '8C', '4A', '2D', '1A', '1E', '9D', '5C',\n",
       "       '8B', '7A', '5D', '9E', nan, '9B', '1B', '3D', '4E', '4B', '3C',\n",
       "       '5A', '7B', '9A', '6D', '6E', '2C', '7C', '9C', '7D', '5E', '1D',\n",
       "       '8D', '6C', '6A', '5B', '4D', '3A', '2B', '7E', '3B', '6F', '5F',\n",
       "       '1C'], dtype=object)"
      ]
     },
     "execution_count": 74,
     "metadata": {},
     "output_type": "execute_result"
    }
   ],
   "source": [
    "categorical_non_numeric['CAMEO_DEU_2015'].unique()"
   ]
  },
  {
   "cell_type": "code",
   "execution_count": 75,
   "metadata": {},
   "outputs": [
    {
     "data": {
      "text/plain": [
       "array([ 5.,  3.,  2.,  4.,  1.,  6., nan])"
      ]
     },
     "execution_count": 75,
     "metadata": {},
     "output_type": "execute_result"
    }
   ],
   "source": [
    "categorical_numeric['CJT_GESAMTTYP'].unique()"
   ]
  },
  {
   "cell_type": "code",
   "execution_count": 76,
   "metadata": {},
   "outputs": [
    {
     "data": {
      "text/plain": [
       "ANREDE_KZ           False\n",
       "CJT_GESAMTTYP        True\n",
       "FINANZTYP            True\n",
       "GFK_URLAUBERTYP      True\n",
       "GREEN_AVANTGARDE    False\n",
       "LP_FAMILIE_FEIN      True\n",
       "LP_FAMILIE_GROB      True\n",
       "LP_STATUS_FEIN       True\n",
       "LP_STATUS_GROB       True\n",
       "NATIONALITAET_KZ     True\n",
       "SHOPPER_TYP          True\n",
       "SOHO_KZ             False\n",
       "VERS_TYP            False\n",
       "ZABEOTYP             True\n",
       "GEBAEUDETYP          True\n",
       "dtype: bool"
      ]
     },
     "execution_count": 76,
     "metadata": {},
     "output_type": "execute_result"
    }
   ],
   "source": [
    "categorical_numeric.nunique() > 2\n"
   ]
  },
  {
   "cell_type": "code",
   "execution_count": 77,
   "metadata": {},
   "outputs": [
    {
     "data": {
      "text/plain": [
       "ANREDE_KZ            True\n",
       "CJT_GESAMTTYP       False\n",
       "FINANZTYP           False\n",
       "GFK_URLAUBERTYP     False\n",
       "GREEN_AVANTGARDE     True\n",
       "LP_FAMILIE_FEIN     False\n",
       "LP_FAMILIE_GROB     False\n",
       "LP_STATUS_FEIN      False\n",
       "LP_STATUS_GROB      False\n",
       "NATIONALITAET_KZ    False\n",
       "SHOPPER_TYP         False\n",
       "SOHO_KZ              True\n",
       "VERS_TYP             True\n",
       "ZABEOTYP            False\n",
       "GEBAEUDETYP         False\n",
       "dtype: bool"
      ]
     },
     "execution_count": 77,
     "metadata": {},
     "output_type": "execute_result"
    }
   ],
   "source": [
    "categorical_numeric.nunique() == 2"
   ]
  },
  {
   "cell_type": "code",
   "execution_count": null,
   "metadata": {},
   "outputs": [],
   "source": []
  },
  {
   "cell_type": "code",
   "execution_count": 78,
   "metadata": {},
   "outputs": [
    {
     "data": {
      "text/plain": [
       "array([1., 0.])"
      ]
     },
     "execution_count": 78,
     "metadata": {},
     "output_type": "execute_result"
    }
   ],
   "source": [
    "df_clean['SOHO_KZ'].unique()"
   ]
  },
  {
   "cell_type": "code",
   "execution_count": 79,
   "metadata": {},
   "outputs": [],
   "source": [
    "# Re-encode categorical variable(s) to be kept in the analysis."
   ]
  },
  {
   "cell_type": "code",
   "execution_count": 80,
   "metadata": {},
   "outputs": [],
   "source": [
    "#use dummy variables to encode east / west german building location\n",
    "\n",
    "df_clean['east_west'] = df_clean.OST_WEST_KZ.map({'O':0, 'W':1, 7:np.NaN})"
   ]
  },
  {
   "cell_type": "code",
   "execution_count": 81,
   "metadata": {},
   "outputs": [
    {
     "data": {
      "text/html": [
       "<div>\n",
       "<style scoped>\n",
       "    .dataframe tbody tr th:only-of-type {\n",
       "        vertical-align: middle;\n",
       "    }\n",
       "\n",
       "    .dataframe tbody tr th {\n",
       "        vertical-align: top;\n",
       "    }\n",
       "\n",
       "    .dataframe thead th {\n",
       "        text-align: right;\n",
       "    }\n",
       "</style>\n",
       "<table border=\"1\" class=\"dataframe\">\n",
       "  <thead>\n",
       "    <tr style=\"text-align: right;\">\n",
       "      <th></th>\n",
       "      <th>ALTERSKATEGORIE_GROB</th>\n",
       "      <th>ANREDE_KZ</th>\n",
       "      <th>CJT_GESAMTTYP</th>\n",
       "      <th>FINANZ_MINIMALIST</th>\n",
       "      <th>FINANZ_SPARER</th>\n",
       "      <th>FINANZ_VORSORGER</th>\n",
       "      <th>FINANZ_ANLEGER</th>\n",
       "      <th>FINANZ_UNAUFFAELLIGER</th>\n",
       "      <th>FINANZ_HAUSBAUER</th>\n",
       "      <th>FINANZTYP</th>\n",
       "      <th>...</th>\n",
       "      <th>PLZ8_ANTG3</th>\n",
       "      <th>PLZ8_ANTG4</th>\n",
       "      <th>PLZ8_BAUMAX</th>\n",
       "      <th>PLZ8_HHZ</th>\n",
       "      <th>PLZ8_GBZ</th>\n",
       "      <th>ARBEIT</th>\n",
       "      <th>ORTSGR_KLS9</th>\n",
       "      <th>RELAT_AB</th>\n",
       "      <th>mia</th>\n",
       "      <th>east_west</th>\n",
       "    </tr>\n",
       "  </thead>\n",
       "  <tbody>\n",
       "    <tr>\n",
       "      <th>1</th>\n",
       "      <td>1.0</td>\n",
       "      <td>2</td>\n",
       "      <td>5.0</td>\n",
       "      <td>1</td>\n",
       "      <td>5</td>\n",
       "      <td>2</td>\n",
       "      <td>5</td>\n",
       "      <td>4</td>\n",
       "      <td>5</td>\n",
       "      <td>1</td>\n",
       "      <td>...</td>\n",
       "      <td>2.0</td>\n",
       "      <td>1.0</td>\n",
       "      <td>1.0</td>\n",
       "      <td>5.0</td>\n",
       "      <td>4.0</td>\n",
       "      <td>3.0</td>\n",
       "      <td>5.0</td>\n",
       "      <td>4.0</td>\n",
       "      <td>0.000000</td>\n",
       "      <td>1.0</td>\n",
       "    </tr>\n",
       "    <tr>\n",
       "      <th>2</th>\n",
       "      <td>3.0</td>\n",
       "      <td>2</td>\n",
       "      <td>3.0</td>\n",
       "      <td>1</td>\n",
       "      <td>4</td>\n",
       "      <td>1</td>\n",
       "      <td>2</td>\n",
       "      <td>3</td>\n",
       "      <td>5</td>\n",
       "      <td>1</td>\n",
       "      <td>...</td>\n",
       "      <td>1.0</td>\n",
       "      <td>0.0</td>\n",
       "      <td>1.0</td>\n",
       "      <td>4.0</td>\n",
       "      <td>4.0</td>\n",
       "      <td>3.0</td>\n",
       "      <td>5.0</td>\n",
       "      <td>2.0</td>\n",
       "      <td>0.000000</td>\n",
       "      <td>1.0</td>\n",
       "    </tr>\n",
       "    <tr>\n",
       "      <th>3</th>\n",
       "      <td>4.0</td>\n",
       "      <td>2</td>\n",
       "      <td>2.0</td>\n",
       "      <td>4</td>\n",
       "      <td>2</td>\n",
       "      <td>5</td>\n",
       "      <td>2</td>\n",
       "      <td>1</td>\n",
       "      <td>2</td>\n",
       "      <td>6</td>\n",
       "      <td>...</td>\n",
       "      <td>2.0</td>\n",
       "      <td>0.0</td>\n",
       "      <td>1.0</td>\n",
       "      <td>3.0</td>\n",
       "      <td>4.0</td>\n",
       "      <td>2.0</td>\n",
       "      <td>3.0</td>\n",
       "      <td>3.0</td>\n",
       "      <td>8.860759</td>\n",
       "      <td>1.0</td>\n",
       "    </tr>\n",
       "  </tbody>\n",
       "</table>\n",
       "<p>3 rows × 81 columns</p>\n",
       "</div>"
      ],
      "text/plain": [
       "   ALTERSKATEGORIE_GROB  ANREDE_KZ  CJT_GESAMTTYP  FINANZ_MINIMALIST  \\\n",
       "1                   1.0          2            5.0                  1   \n",
       "2                   3.0          2            3.0                  1   \n",
       "3                   4.0          2            2.0                  4   \n",
       "\n",
       "   FINANZ_SPARER  FINANZ_VORSORGER  FINANZ_ANLEGER  FINANZ_UNAUFFAELLIGER  \\\n",
       "1              5                 2               5                      4   \n",
       "2              4                 1               2                      3   \n",
       "3              2                 5               2                      1   \n",
       "\n",
       "   FINANZ_HAUSBAUER  FINANZTYP    ...      PLZ8_ANTG3  PLZ8_ANTG4  \\\n",
       "1                 5          1    ...             2.0         1.0   \n",
       "2                 5          1    ...             1.0         0.0   \n",
       "3                 2          6    ...             2.0         0.0   \n",
       "\n",
       "   PLZ8_BAUMAX  PLZ8_HHZ  PLZ8_GBZ  ARBEIT  ORTSGR_KLS9  RELAT_AB       mia  \\\n",
       "1          1.0       5.0       4.0     3.0          5.0       4.0  0.000000   \n",
       "2          1.0       4.0       4.0     3.0          5.0       2.0  0.000000   \n",
       "3          1.0       3.0       4.0     2.0          3.0       3.0  8.860759   \n",
       "\n",
       "   east_west  \n",
       "1        1.0  \n",
       "2        1.0  \n",
       "3        1.0  \n",
       "\n",
       "[3 rows x 81 columns]"
      ]
     },
     "execution_count": 81,
     "metadata": {},
     "output_type": "execute_result"
    }
   ],
   "source": [
    "#check new column was created\n",
    "df_clean.head(3)"
   ]
  },
  {
   "cell_type": "code",
   "execution_count": 82,
   "metadata": {},
   "outputs": [],
   "source": [
    "#drop 'OST_WEST_KZ'\n",
    "df_clean = df_clean.drop(['OST_WEST_KZ'], axis = 1 )"
   ]
  },
  {
   "cell_type": "code",
   "execution_count": 83,
   "metadata": {},
   "outputs": [
    {
     "data": {
      "text/plain": [
       "array([1., 0.])"
      ]
     },
     "execution_count": 83,
     "metadata": {},
     "output_type": "execute_result"
    }
   ],
   "source": [
    "df_clean['east_west'].unique()"
   ]
  },
  {
   "cell_type": "code",
   "execution_count": 84,
   "metadata": {},
   "outputs": [],
   "source": [
    "#Drop CAMEO_DEUG_2015 CAMEO_DEU_2015\n",
    "df_clean = df_clean.drop(['CAMEO_DEUG_2015', 'CAMEO_DEU_2015'], axis = 1 )"
   ]
  },
  {
   "cell_type": "code",
   "execution_count": 85,
   "metadata": {},
   "outputs": [],
   "source": [
    "#create function to ensure columns were drop\n",
    "def drop_hot(col):\n",
    "    if col in df_clean.columns:\n",
    "        print(\"Yes\")\n",
    "    else:\n",
    "        print(\"No\")"
   ]
  },
  {
   "cell_type": "code",
   "execution_count": 86,
   "metadata": {},
   "outputs": [
    {
     "name": "stdout",
     "output_type": "stream",
     "text": [
      "No\n"
     ]
    }
   ],
   "source": [
    "drop_hot('OST_WEST_KZ')"
   ]
  },
  {
   "cell_type": "code",
   "execution_count": 87,
   "metadata": {},
   "outputs": [
    {
     "name": "stdout",
     "output_type": "stream",
     "text": [
      "No\n"
     ]
    }
   ],
   "source": [
    "drop_hot('CAMEO_DEU_2015')"
   ]
  },
  {
   "cell_type": "code",
   "execution_count": 88,
   "metadata": {},
   "outputs": [],
   "source": [
    "# create list of numeric columns with more than one variable that we decided to drop \n",
    "drop_chosen = ['FINANZTYP', 'GFK_URLAUBERTYP','LP_FAMILIE_GROB', 'LP_STATUS_FEIN', 'LP_STATUS_GROB', \n",
    "            'NATIONALITAET_KZ', 'SHOPPER_TYP', 'VERS_TYP', 'ZABEOTYP', 'GEBAEUDETYP']"
   ]
  },
  {
   "cell_type": "code",
   "execution_count": 89,
   "metadata": {},
   "outputs": [
    {
     "data": {
      "text/plain": [
       "10"
      ]
     },
     "execution_count": 89,
     "metadata": {},
     "output_type": "execute_result"
    }
   ],
   "source": [
    "len(drop_chosen)"
   ]
  },
  {
   "cell_type": "code",
   "execution_count": 90,
   "metadata": {},
   "outputs": [],
   "source": [
    "#Drop numeric classification columns with more than one variable (see explanation below for reasoning)\n",
    "df_clean = df_clean.drop(drop_chosen, axis = 1 )"
   ]
  },
  {
   "cell_type": "code",
   "execution_count": 91,
   "metadata": {},
   "outputs": [
    {
     "name": "stdout",
     "output_type": "stream",
     "text": [
      "No\n"
     ]
    }
   ],
   "source": [
    "#test some columns to ensure they were drop with drop_hot, if it was drop, it returns No\n",
    "drop_hot('SHOPPER_TYP')"
   ]
  },
  {
   "cell_type": "code",
   "execution_count": 92,
   "metadata": {},
   "outputs": [
    {
     "data": {
      "text/html": [
       "<div>\n",
       "<style scoped>\n",
       "    .dataframe tbody tr th:only-of-type {\n",
       "        vertical-align: middle;\n",
       "    }\n",
       "\n",
       "    .dataframe tbody tr th {\n",
       "        vertical-align: top;\n",
       "    }\n",
       "\n",
       "    .dataframe thead th {\n",
       "        text-align: right;\n",
       "    }\n",
       "</style>\n",
       "<table border=\"1\" class=\"dataframe\">\n",
       "  <thead>\n",
       "    <tr style=\"text-align: right;\">\n",
       "      <th></th>\n",
       "      <th>buying_channel_1.0</th>\n",
       "      <th>buying_channel_2.0</th>\n",
       "      <th>buying_channel_3.0</th>\n",
       "      <th>buying_channel_4.0</th>\n",
       "      <th>buying_channel_5.0</th>\n",
       "      <th>buying_channel_6.0</th>\n",
       "    </tr>\n",
       "  </thead>\n",
       "  <tbody>\n",
       "    <tr>\n",
       "      <th>1</th>\n",
       "      <td>0</td>\n",
       "      <td>0</td>\n",
       "      <td>0</td>\n",
       "      <td>0</td>\n",
       "      <td>1</td>\n",
       "      <td>0</td>\n",
       "    </tr>\n",
       "    <tr>\n",
       "      <th>2</th>\n",
       "      <td>0</td>\n",
       "      <td>0</td>\n",
       "      <td>1</td>\n",
       "      <td>0</td>\n",
       "      <td>0</td>\n",
       "      <td>0</td>\n",
       "    </tr>\n",
       "    <tr>\n",
       "      <th>3</th>\n",
       "      <td>0</td>\n",
       "      <td>1</td>\n",
       "      <td>0</td>\n",
       "      <td>0</td>\n",
       "      <td>0</td>\n",
       "      <td>0</td>\n",
       "    </tr>\n",
       "    <tr>\n",
       "      <th>4</th>\n",
       "      <td>0</td>\n",
       "      <td>0</td>\n",
       "      <td>0</td>\n",
       "      <td>0</td>\n",
       "      <td>1</td>\n",
       "      <td>0</td>\n",
       "    </tr>\n",
       "    <tr>\n",
       "      <th>5</th>\n",
       "      <td>0</td>\n",
       "      <td>1</td>\n",
       "      <td>0</td>\n",
       "      <td>0</td>\n",
       "      <td>0</td>\n",
       "      <td>0</td>\n",
       "    </tr>\n",
       "  </tbody>\n",
       "</table>\n",
       "</div>"
      ],
      "text/plain": [
       "   buying_channel_1.0  buying_channel_2.0  buying_channel_3.0  \\\n",
       "1                   0                   0                   0   \n",
       "2                   0                   0                   1   \n",
       "3                   0                   1                   0   \n",
       "4                   0                   0                   0   \n",
       "5                   0                   1                   0   \n",
       "\n",
       "   buying_channel_4.0  buying_channel_5.0  buying_channel_6.0  \n",
       "1                   0                   1                   0  \n",
       "2                   0                   0                   0  \n",
       "3                   0                   0                   0  \n",
       "4                   0                   1                   0  \n",
       "5                   0                   0                   0  "
      ]
     },
     "execution_count": 92,
     "metadata": {},
     "output_type": "execute_result"
    }
   ],
   "source": [
    "#use get_dummies to encode binary variables for CJT_GESAMTTYP \n",
    "buy_dummy = pd.get_dummies(df_clean.CJT_GESAMTTYP, prefix = 'buying_channel')\n",
    "buy_dummy.head()"
   ]
  },
  {
   "cell_type": "code",
   "execution_count": 93,
   "metadata": {},
   "outputs": [],
   "source": [
    "#concat to df_clean\n",
    "df_clean = pd.concat([df_clean, buy_dummy], axis = 1)"
   ]
  },
  {
   "cell_type": "code",
   "execution_count": 94,
   "metadata": {},
   "outputs": [
    {
     "name": "stdout",
     "output_type": "stream",
     "text": [
      "Yes\n"
     ]
    }
   ],
   "source": [
    "#test to make sure columns concat\n",
    "drop_hot('buying_channel_3.0')"
   ]
  },
  {
   "cell_type": "code",
   "execution_count": 95,
   "metadata": {},
   "outputs": [],
   "source": [
    "df_clean = df_clean.drop(['CJT_GESAMTTYP'], axis = 1 )"
   ]
  },
  {
   "cell_type": "code",
   "execution_count": 96,
   "metadata": {},
   "outputs": [
    {
     "name": "stdout",
     "output_type": "stream",
     "text": [
      "No\n"
     ]
    }
   ],
   "source": [
    "drop_hot('CJT_GESAMTTYP')"
   ]
  },
  {
   "cell_type": "code",
   "execution_count": 97,
   "metadata": {},
   "outputs": [
    {
     "data": {
      "text/html": [
       "<div>\n",
       "<style scoped>\n",
       "    .dataframe tbody tr th:only-of-type {\n",
       "        vertical-align: middle;\n",
       "    }\n",
       "\n",
       "    .dataframe tbody tr th {\n",
       "        vertical-align: top;\n",
       "    }\n",
       "\n",
       "    .dataframe thead th {\n",
       "        text-align: right;\n",
       "    }\n",
       "</style>\n",
       "<table border=\"1\" class=\"dataframe\">\n",
       "  <thead>\n",
       "    <tr style=\"text-align: right;\">\n",
       "      <th></th>\n",
       "      <th>family_type_1.0</th>\n",
       "      <th>family_type_2.0</th>\n",
       "      <th>family_type_3.0</th>\n",
       "      <th>family_type_4.0</th>\n",
       "      <th>family_type_5.0</th>\n",
       "      <th>family_type_6.0</th>\n",
       "      <th>family_type_7.0</th>\n",
       "      <th>family_type_8.0</th>\n",
       "      <th>family_type_9.0</th>\n",
       "      <th>family_type_10.0</th>\n",
       "      <th>family_type_11.0</th>\n",
       "    </tr>\n",
       "  </thead>\n",
       "  <tbody>\n",
       "    <tr>\n",
       "      <th>1</th>\n",
       "      <td>0</td>\n",
       "      <td>0</td>\n",
       "      <td>0</td>\n",
       "      <td>0</td>\n",
       "      <td>1</td>\n",
       "      <td>0</td>\n",
       "      <td>0</td>\n",
       "      <td>0</td>\n",
       "      <td>0</td>\n",
       "      <td>0</td>\n",
       "      <td>0</td>\n",
       "    </tr>\n",
       "    <tr>\n",
       "      <th>2</th>\n",
       "      <td>1</td>\n",
       "      <td>0</td>\n",
       "      <td>0</td>\n",
       "      <td>0</td>\n",
       "      <td>0</td>\n",
       "      <td>0</td>\n",
       "      <td>0</td>\n",
       "      <td>0</td>\n",
       "      <td>0</td>\n",
       "      <td>0</td>\n",
       "      <td>0</td>\n",
       "    </tr>\n",
       "    <tr>\n",
       "      <th>3</th>\n",
       "      <td>0</td>\n",
       "      <td>0</td>\n",
       "      <td>0</td>\n",
       "      <td>0</td>\n",
       "      <td>0</td>\n",
       "      <td>0</td>\n",
       "      <td>0</td>\n",
       "      <td>0</td>\n",
       "      <td>0</td>\n",
       "      <td>0</td>\n",
       "      <td>0</td>\n",
       "    </tr>\n",
       "    <tr>\n",
       "      <th>4</th>\n",
       "      <td>0</td>\n",
       "      <td>0</td>\n",
       "      <td>0</td>\n",
       "      <td>0</td>\n",
       "      <td>0</td>\n",
       "      <td>0</td>\n",
       "      <td>0</td>\n",
       "      <td>0</td>\n",
       "      <td>0</td>\n",
       "      <td>1</td>\n",
       "      <td>0</td>\n",
       "    </tr>\n",
       "    <tr>\n",
       "      <th>5</th>\n",
       "      <td>1</td>\n",
       "      <td>0</td>\n",
       "      <td>0</td>\n",
       "      <td>0</td>\n",
       "      <td>0</td>\n",
       "      <td>0</td>\n",
       "      <td>0</td>\n",
       "      <td>0</td>\n",
       "      <td>0</td>\n",
       "      <td>0</td>\n",
       "      <td>0</td>\n",
       "    </tr>\n",
       "  </tbody>\n",
       "</table>\n",
       "</div>"
      ],
      "text/plain": [
       "   family_type_1.0  family_type_2.0  family_type_3.0  family_type_4.0  \\\n",
       "1                0                0                0                0   \n",
       "2                1                0                0                0   \n",
       "3                0                0                0                0   \n",
       "4                0                0                0                0   \n",
       "5                1                0                0                0   \n",
       "\n",
       "   family_type_5.0  family_type_6.0  family_type_7.0  family_type_8.0  \\\n",
       "1                1                0                0                0   \n",
       "2                0                0                0                0   \n",
       "3                0                0                0                0   \n",
       "4                0                0                0                0   \n",
       "5                0                0                0                0   \n",
       "\n",
       "   family_type_9.0  family_type_10.0  family_type_11.0  \n",
       "1                0                 0                 0  \n",
       "2                0                 0                 0  \n",
       "3                0                 0                 0  \n",
       "4                0                 1                 0  \n",
       "5                0                 0                 0  "
      ]
     },
     "execution_count": 97,
     "metadata": {},
     "output_type": "execute_result"
    }
   ],
   "source": [
    "#use get_dummies to encode binary variables for LP_FAMILIE_FEIN \n",
    "family_dummy = pd.get_dummies(df_clean.LP_FAMILIE_FEIN, prefix = 'family_type')\n",
    "family_dummy.head()"
   ]
  },
  {
   "cell_type": "code",
   "execution_count": 98,
   "metadata": {},
   "outputs": [],
   "source": [
    "#concat to df_clean\n",
    "df_clean = pd.concat([df_clean, family_dummy], axis = 1)"
   ]
  },
  {
   "cell_type": "code",
   "execution_count": 99,
   "metadata": {},
   "outputs": [
    {
     "name": "stdout",
     "output_type": "stream",
     "text": [
      "Yes\n"
     ]
    }
   ],
   "source": [
    "#test to make sure columns concat\n",
    "drop_hot('family_type_4.0')"
   ]
  },
  {
   "cell_type": "code",
   "execution_count": 100,
   "metadata": {},
   "outputs": [],
   "source": [
    "df_clean = df_clean.drop(['LP_FAMILIE_FEIN'], axis = 1 )"
   ]
  },
  {
   "cell_type": "code",
   "execution_count": 101,
   "metadata": {},
   "outputs": [
    {
     "name": "stdout",
     "output_type": "stream",
     "text": [
      "No\n"
     ]
    }
   ],
   "source": [
    "drop_hot('LP_FAMILIE_FEIN')"
   ]
  },
  {
   "cell_type": "markdown",
   "metadata": {},
   "source": [
    "#### Discussion 1.2.1: Re-Encode Categorical Features\n",
    "\n",
    "\n",
    "Created Dummy variables for east/west germany.  \n",
    "\n",
    "We drop the two non-numeric categorical columns CAMEO_DEUG_2015\tand CAMEO_DEU_2015 to make the analysis more straight forward as these columns classifications are very broad and subjective.  \n",
    "\n",
    "For the numeric classification columns with more than two variables we decided to encode CJT_GESAMTTYP and LP_FAMILIE_FEIN.  \n",
    "\n",
    "CJT_GESAMTTYP shows a person's buying channels and therefore might be very informative to our analysis considering we are examining a person's preference to respond to a specific advertising channel.  We are thinking that certain advertising channels and subsequent buying channels would be related.  \n",
    "\n",
    "LP_FAMILIE_FEIN shows a person's family type.  This could be very relative to the customers receptiveness to certain type of advertising.  It also would be more informative than just the amount of people in a person's family.  \n",
    "\n",
    "We decided to drop all the other numeric classification columns with more than two variables because they were not informative or too broad and subjective.  Or like in LP_STATUS_GROB, we drop because information was more relative and specific in other columns in the dataframe.  Or like in NATIONALITAET_KZ the informational gain would probably not be great given our objectives and considering that the classification probably has many inaccuracies.  \n",
    "\n",
    "We encoded CJT_GESAMTTYP and LP_FAMILIE_FEIN using get_dummies.  "
   ]
  },
  {
   "cell_type": "markdown",
   "metadata": {},
   "source": [
    "#### Step 1.2.2: Engineer Mixed-Type Features\n",
    "\n",
    "There are a handful of features that are marked as \"mixed\" in the feature summary that require special treatment in order to be included in the analysis. There are two in particular that deserve attention; the handling of the rest are up to your own choices:\n",
    "- \"PRAEGENDE_JUGENDJAHRE\" combines information on three dimensions: generation by decade, movement (mainstream vs. avantgarde), and nation (east vs. west). While there aren't enough levels to disentangle east from west, you should create two new variables to capture the other two dimensions: an interval-type variable for decade, and a binary variable for movement.\n",
    "- \"CAMEO_INTL_2015\" combines information on two axes: wealth and life stage. Break up the two-digit codes by their 'tens'-place and 'ones'-place digits into two new ordinal variables (which, for the purposes of this project, is equivalent to just treating them as their raw numeric values).\n",
    "- If you decide to keep or engineer new features around the other mixed-type features, make sure you note your steps in the Discussion section.\n",
    "\n",
    "Be sure to check `Data_Dictionary.md` for the details needed to finish these tasks."
   ]
  },
  {
   "cell_type": "code",
   "execution_count": 102,
   "metadata": {},
   "outputs": [
    {
     "data": {
      "text/plain": [
       "array(['51', '24', '12', '43', '54', '22', '14', '13', '15', '33', '41',\n",
       "       '34', '55', nan, '25', '23', '31', '52', '35', '45', '44', '32'],\n",
       "      dtype=object)"
      ]
     },
     "execution_count": 102,
     "metadata": {},
     "output_type": "execute_result"
    }
   ],
   "source": [
    "# Investigate \"CAMEO_INTL_2015\" and engineer two new variables.\n",
    "df_clean['CAMEO_INTL_2015'].unique()"
   ]
  },
  {
   "cell_type": "code",
   "execution_count": 103,
   "metadata": {},
   "outputs": [],
   "source": [
    "#enginerring two new variables \n",
    "df_clean['wealth_stage'] = df_clean['CAMEO_INTL_2015'].astype(str)\n",
    "df_clean['wealth'] = df_clean['wealth_stage'].str[0:1]\n",
    "df_clean['life_stage'] = df_clean['wealth_stage'].str[1:2]"
   ]
  },
  {
   "cell_type": "code",
   "execution_count": null,
   "metadata": {},
   "outputs": [],
   "source": []
  },
  {
   "cell_type": "code",
   "execution_count": 104,
   "metadata": {},
   "outputs": [
    {
     "data": {
      "text/plain": [
       "array(['1', '4', '2', '3', '5', 'a'], dtype=object)"
      ]
     },
     "execution_count": 104,
     "metadata": {},
     "output_type": "execute_result"
    }
   ],
   "source": [
    "#check split\n",
    "df_clean['life_stage'].unique()"
   ]
  },
  {
   "cell_type": "code",
   "execution_count": 105,
   "metadata": {},
   "outputs": [
    {
     "data": {
      "text/plain": [
       "'51'"
      ]
     },
     "execution_count": 105,
     "metadata": {},
     "output_type": "execute_result"
    }
   ],
   "source": [
    "#check values\n",
    "df_clean['CAMEO_INTL_2015'][1]"
   ]
  },
  {
   "cell_type": "code",
   "execution_count": 106,
   "metadata": {},
   "outputs": [
    {
     "data": {
      "text/plain": [
       "'1'"
      ]
     },
     "execution_count": 106,
     "metadata": {},
     "output_type": "execute_result"
    }
   ],
   "source": [
    "df_clean['life_stage'][1]"
   ]
  },
  {
   "cell_type": "code",
   "execution_count": 107,
   "metadata": {},
   "outputs": [],
   "source": [
    "#after split - put back NaN values and replace XX with nan\n",
    "df_clean[(df_clean.life_stage == 'n')] = np.NaN\n",
    "df_clean[(df_clean.life_stage == 'X')] = np.NaN\n",
    "df_clean[(df_clean.life_stage == 'a')] = np.NaN"
   ]
  },
  {
   "cell_type": "code",
   "execution_count": 108,
   "metadata": {},
   "outputs": [
    {
     "data": {
      "text/plain": [
       "array(['1', '4', '2', '3', '5', nan], dtype=object)"
      ]
     },
     "execution_count": 108,
     "metadata": {},
     "output_type": "execute_result"
    }
   ],
   "source": [
    "df_clean['life_stage'].unique()"
   ]
  },
  {
   "cell_type": "code",
   "execution_count": 109,
   "metadata": {},
   "outputs": [],
   "source": [
    "#change life_stage column values to numeric\n",
    "s = df_clean['life_stage']\n",
    "temp = pd.to_numeric(s)"
   ]
  },
  {
   "cell_type": "code",
   "execution_count": 110,
   "metadata": {},
   "outputs": [
    {
     "data": {
      "text/plain": [
       "array([ 1.,  4.,  2.,  3.,  5., nan])"
      ]
     },
     "execution_count": 110,
     "metadata": {},
     "output_type": "execute_result"
    }
   ],
   "source": [
    "temp.unique()"
   ]
  },
  {
   "cell_type": "code",
   "execution_count": 111,
   "metadata": {},
   "outputs": [],
   "source": [
    "#create new column\n",
    "df_clean['integer_lifestage'] = temp.values"
   ]
  },
  {
   "cell_type": "code",
   "execution_count": 112,
   "metadata": {},
   "outputs": [
    {
     "data": {
      "text/plain": [
       "array([ 1.,  4.,  2.,  3.,  5., nan])"
      ]
     },
     "execution_count": 112,
     "metadata": {},
     "output_type": "execute_result"
    }
   ],
   "source": [
    "#look at values\n",
    "df_clean['integer_lifestage'].unique()"
   ]
  },
  {
   "cell_type": "code",
   "execution_count": 113,
   "metadata": {},
   "outputs": [],
   "source": [
    "#after split - put back NaN values and replace XX with nan\n",
    "df_clean[(df_clean.wealth == 'n')] = np.NaN\n",
    "df_clean[(df_clean.wealth == 'X')] = np.NaN\n",
    "df_clean[(df_clean.wealth == 'a')] = np.NaN"
   ]
  },
  {
   "cell_type": "code",
   "execution_count": 114,
   "metadata": {},
   "outputs": [],
   "source": [
    "#change wealth column values to numeric\n",
    "k = df_clean['wealth']\n",
    "ktemp = pd.to_numeric(k)"
   ]
  },
  {
   "cell_type": "code",
   "execution_count": 115,
   "metadata": {},
   "outputs": [],
   "source": [
    "#create new column\n",
    "df_clean['integer_wealth'] = ktemp.values"
   ]
  },
  {
   "cell_type": "code",
   "execution_count": 116,
   "metadata": {},
   "outputs": [
    {
     "data": {
      "text/plain": [
       "array([ 5.,  2.,  1.,  4.,  3., nan])"
      ]
     },
     "execution_count": 116,
     "metadata": {},
     "output_type": "execute_result"
    }
   ],
   "source": [
    "#look at values\n",
    "df_clean['integer_wealth'].unique()"
   ]
  },
  {
   "cell_type": "code",
   "execution_count": 117,
   "metadata": {},
   "outputs": [],
   "source": [
    "#drop wealth\n",
    "df_clean = df_clean.drop('wealth', axis=1)"
   ]
  },
  {
   "cell_type": "code",
   "execution_count": 118,
   "metadata": {},
   "outputs": [
    {
     "name": "stdout",
     "output_type": "stream",
     "text": [
      "No\n"
     ]
    }
   ],
   "source": [
    "drop_hot('wealth')"
   ]
  },
  {
   "cell_type": "code",
   "execution_count": 119,
   "metadata": {},
   "outputs": [],
   "source": [
    "#drop life stage\n",
    "df_clean = df_clean.drop('life_stage', axis=1)"
   ]
  },
  {
   "cell_type": "code",
   "execution_count": 120,
   "metadata": {},
   "outputs": [
    {
     "name": "stdout",
     "output_type": "stream",
     "text": [
      "No\n"
     ]
    }
   ],
   "source": [
    "drop_hot('life_stage')"
   ]
  },
  {
   "cell_type": "code",
   "execution_count": 121,
   "metadata": {},
   "outputs": [],
   "source": [
    "df_clean = df_clean.drop('wealth_stage', axis=1)"
   ]
  },
  {
   "cell_type": "code",
   "execution_count": 122,
   "metadata": {},
   "outputs": [
    {
     "name": "stdout",
     "output_type": "stream",
     "text": [
      "No\n"
     ]
    }
   ],
   "source": [
    "drop_hot('wealth_stage')"
   ]
  },
  {
   "cell_type": "code",
   "execution_count": 123,
   "metadata": {},
   "outputs": [],
   "source": [
    "df_clean = df_clean.drop('CAMEO_INTL_2015', axis=1)"
   ]
  },
  {
   "cell_type": "code",
   "execution_count": 124,
   "metadata": {},
   "outputs": [
    {
     "name": "stdout",
     "output_type": "stream",
     "text": [
      "No\n"
     ]
    }
   ],
   "source": [
    "drop_hot('CAMEO_INTL_2015')"
   ]
  },
  {
   "cell_type": "code",
   "execution_count": 125,
   "metadata": {},
   "outputs": [
    {
     "data": {
      "text/plain": [
       "array([14., 15.,  8.,  3., 10., 11.,  5.,  9., nan,  6.,  4.,  2.,  1.,\n",
       "       12., 13.,  7.])"
      ]
     },
     "execution_count": 125,
     "metadata": {},
     "output_type": "execute_result"
    }
   ],
   "source": [
    "# Investigate \"PRAEGENDE_JUGENDJAHRE\" and engineer two new variables.\n",
    "df_clean['PRAEGENDE_JUGENDJAHRE'].unique()"
   ]
  },
  {
   "cell_type": "code",
   "execution_count": 126,
   "metadata": {},
   "outputs": [],
   "source": [
    "#create dictionary to map to generation\n",
    "generation_dict = {1: 40, 2: 40, 3: 50, 4:50, 5:60, 6:60, 7:60, 8: 70, 9:70, 10:80, 11:80, 12:80, 12:80, 14:90, 15:90}"
   ]
  },
  {
   "cell_type": "code",
   "execution_count": 127,
   "metadata": {},
   "outputs": [],
   "source": [
    "df_clean['generation']= df_clean['PRAEGENDE_JUGENDJAHRE'].map(generation_dict)"
   ]
  },
  {
   "cell_type": "code",
   "execution_count": 128,
   "metadata": {},
   "outputs": [
    {
     "data": {
      "text/plain": [
       "array([90., 70., 50., 80., 60., nan, 40.])"
      ]
     },
     "execution_count": 128,
     "metadata": {},
     "output_type": "execute_result"
    }
   ],
   "source": [
    "df_clean['generation'].unique()"
   ]
  },
  {
   "cell_type": "code",
   "execution_count": 129,
   "metadata": {},
   "outputs": [],
   "source": [
    "#create dictionary to map to movement, 0 = avantgarde, 1 = mainstream\n",
    "avant_main_dict = {1:1, 2:0, 3:1, 4:0, 5:1, 6:0, 7:0, 8:1, 9:0, 10:1, 11:0, 12:1, 13:0, 14:1, 15:0 }"
   ]
  },
  {
   "cell_type": "code",
   "execution_count": 130,
   "metadata": {},
   "outputs": [],
   "source": [
    "df_clean['youth']= df_clean['PRAEGENDE_JUGENDJAHRE'].map(avant_main_dict)"
   ]
  },
  {
   "cell_type": "code",
   "execution_count": 131,
   "metadata": {},
   "outputs": [
    {
     "data": {
      "text/plain": [
       "array([90., 70., 50., 80., 60., nan, 40.])"
      ]
     },
     "execution_count": 131,
     "metadata": {},
     "output_type": "execute_result"
    }
   ],
   "source": [
    "df_clean['generation'].unique()"
   ]
  },
  {
   "cell_type": "code",
   "execution_count": 132,
   "metadata": {},
   "outputs": [
    {
     "data": {
      "text/plain": [
       "array([ 1.,  0., nan])"
      ]
     },
     "execution_count": 132,
     "metadata": {},
     "output_type": "execute_result"
    }
   ],
   "source": [
    "df_clean['youth'].unique()"
   ]
  },
  {
   "cell_type": "code",
   "execution_count": 133,
   "metadata": {},
   "outputs": [],
   "source": [
    "df_clean = df_clean.drop('PRAEGENDE_JUGENDJAHRE', axis=1)"
   ]
  },
  {
   "cell_type": "code",
   "execution_count": 134,
   "metadata": {},
   "outputs": [
    {
     "name": "stdout",
     "output_type": "stream",
     "text": [
      "No\n"
     ]
    }
   ],
   "source": [
    "drop_hot('PRAEGENDE_JUGENDJAHRE')"
   ]
  },
  {
   "cell_type": "code",
   "execution_count": 135,
   "metadata": {},
   "outputs": [
    {
     "data": {
      "text/html": [
       "<div>\n",
       "<style scoped>\n",
       "    .dataframe tbody tr th:only-of-type {\n",
       "        vertical-align: middle;\n",
       "    }\n",
       "\n",
       "    .dataframe tbody tr th {\n",
       "        vertical-align: top;\n",
       "    }\n",
       "\n",
       "    .dataframe thead th {\n",
       "        text-align: right;\n",
       "    }\n",
       "</style>\n",
       "<table border=\"1\" class=\"dataframe\">\n",
       "  <thead>\n",
       "    <tr style=\"text-align: right;\">\n",
       "      <th></th>\n",
       "      <th>attribute</th>\n",
       "      <th>information_level</th>\n",
       "      <th>type</th>\n",
       "      <th>missing_or_unknown</th>\n",
       "    </tr>\n",
       "  </thead>\n",
       "  <tbody>\n",
       "    <tr>\n",
       "      <th>15</th>\n",
       "      <td>LP_LEBENSPHASE_FEIN</td>\n",
       "      <td>person</td>\n",
       "      <td>mixed</td>\n",
       "      <td>[0]</td>\n",
       "    </tr>\n",
       "    <tr>\n",
       "      <th>16</th>\n",
       "      <td>LP_LEBENSPHASE_GROB</td>\n",
       "      <td>person</td>\n",
       "      <td>mixed</td>\n",
       "      <td>[0]</td>\n",
       "    </tr>\n",
       "    <tr>\n",
       "      <th>22</th>\n",
       "      <td>PRAEGENDE_JUGENDJAHRE</td>\n",
       "      <td>person</td>\n",
       "      <td>mixed</td>\n",
       "      <td>[-1,0]</td>\n",
       "    </tr>\n",
       "    <tr>\n",
       "      <th>56</th>\n",
       "      <td>WOHNLAGE</td>\n",
       "      <td>building</td>\n",
       "      <td>mixed</td>\n",
       "      <td>[-1]</td>\n",
       "    </tr>\n",
       "    <tr>\n",
       "      <th>59</th>\n",
       "      <td>CAMEO_INTL_2015</td>\n",
       "      <td>microcell_rr4</td>\n",
       "      <td>mixed</td>\n",
       "      <td>[-1,XX]</td>\n",
       "    </tr>\n",
       "    <tr>\n",
       "      <th>64</th>\n",
       "      <td>KBA05_BAUMAX</td>\n",
       "      <td>microcell_rr3</td>\n",
       "      <td>mixed</td>\n",
       "      <td>[-1,0]</td>\n",
       "    </tr>\n",
       "    <tr>\n",
       "      <th>79</th>\n",
       "      <td>PLZ8_BAUMAX</td>\n",
       "      <td>macrocell_plz8</td>\n",
       "      <td>mixed</td>\n",
       "      <td>[-1,0]</td>\n",
       "    </tr>\n",
       "  </tbody>\n",
       "</table>\n",
       "</div>"
      ],
      "text/plain": [
       "                attribute information_level   type missing_or_unknown\n",
       "15    LP_LEBENSPHASE_FEIN            person  mixed                [0]\n",
       "16    LP_LEBENSPHASE_GROB            person  mixed                [0]\n",
       "22  PRAEGENDE_JUGENDJAHRE            person  mixed             [-1,0]\n",
       "56               WOHNLAGE          building  mixed               [-1]\n",
       "59        CAMEO_INTL_2015     microcell_rr4  mixed            [-1,XX]\n",
       "64           KBA05_BAUMAX     microcell_rr3  mixed             [-1,0]\n",
       "79            PLZ8_BAUMAX    macrocell_plz8  mixed             [-1,0]"
      ]
     },
     "execution_count": 135,
     "metadata": {},
     "output_type": "execute_result"
    }
   ],
   "source": [
    "#find mixed columns\n",
    "\n",
    "mixed = feat_info[feat_info.type == 'mixed'] \n",
    "\n",
    "\n",
    "mixed"
   ]
  },
  {
   "cell_type": "code",
   "execution_count": 136,
   "metadata": {},
   "outputs": [
    {
     "data": {
      "text/plain": [
       "array([ 4.,  2.,  7.,  3.,  5.,  1., nan,  8.,  0.])"
      ]
     },
     "execution_count": 136,
     "metadata": {},
     "output_type": "execute_result"
    }
   ],
   "source": [
    "#for 'WOHNLAGE' there just seems to be one value that represents a mixed category\n",
    "df_clean['WOHNLAGE'].unique()"
   ]
  },
  {
   "cell_type": "code",
   "execution_count": 137,
   "metadata": {},
   "outputs": [],
   "source": [
    "#change 'WOHNLAGE' - number 7 and 8 both represent rural neighborhood, but number 8 also represents new building\n",
    "#since this is the only number that represents building type - replace 8 with 7\n",
    "df_clean[(df_clean.WOHNLAGE == 8)] = 7"
   ]
  },
  {
   "cell_type": "code",
   "execution_count": 138,
   "metadata": {},
   "outputs": [
    {
     "data": {
      "text/plain": [
       "array([ 4.,  2.,  7.,  3.,  5.,  1., nan,  0.])"
      ]
     },
     "execution_count": 138,
     "metadata": {},
     "output_type": "execute_result"
    }
   ],
   "source": [
    "#test to see change went through \n",
    "df_clean['WOHNLAGE'].unique()"
   ]
  },
  {
   "cell_type": "code",
   "execution_count": 139,
   "metadata": {},
   "outputs": [],
   "source": [
    "#replace 5 with nan values in PLZ8_BAUMAX\n",
    "df_clean[(df_clean.PLZ8_BAUMAX == 5)] = np.NaN"
   ]
  },
  {
   "cell_type": "code",
   "execution_count": 140,
   "metadata": {},
   "outputs": [
    {
     "data": {
      "text/plain": [
       "array([ 1.,  2., nan,  4.,  3.,  7.])"
      ]
     },
     "execution_count": 140,
     "metadata": {},
     "output_type": "execute_result"
    }
   ],
   "source": [
    "#test to see change went through \n",
    "df_clean['PLZ8_BAUMAX'].unique()"
   ]
  },
  {
   "cell_type": "markdown",
   "metadata": {},
   "source": [
    "#### Discussion 1.2.2: Engineer Mixed-Type Features\n",
    "\n",
    "\n",
    "For CAMEO_INTL_2015, I split the data and put them in two seperate columns, 'integer_wealth' and 'integer_stage'  by turning the column values into a string and splitting the string putting them in their respective columns.  For PRAEGENDE_JUGENDJAHRE I also created two columns 'generation' and 'youth' and split the data into their respective columns.  I made a dictionary for both variables and then used the dictionary to map the variables to their respective columns.  \n",
    "\n",
    "For LP_LEBENSPHASE_FEIN\tand LP_LEBENSPHASE_GROB, we decided to drop these columns as it would be more straight forward and the information contained is also better reflected in other columns.  \n",
    "\n",
    "For column 'WOHNLAGE' there was one value (8) that represented a mixed classification.  We replaced the 8s with 7s to represent just the one classification.  \n",
    "\n",
    "  \n",
    "\n",
    "Similar to KBA05_BAUMAX, PLZ8_BAUMAX had one number (5) that represented a different classification.  We replaced both 5 with nan.\n"
   ]
  },
  {
   "cell_type": "markdown",
   "metadata": {},
   "source": [
    "#### Step 1.2.3: Complete Feature Selection\n",
    "\n",
    "In order to finish this step up, you need to make sure that your data frame now only has the columns that you want to keep. To summarize, the dataframe should consist of the following:\n",
    "- All numeric, interval, and ordinal type columns from the original dataset.\n",
    "- Binary categorical features (all numerically-encoded).\n",
    "- Engineered features from other multi-level categorical features and mixed features.\n",
    "\n",
    "Make sure that for any new columns that you have engineered, that you've excluded the original columns from the final dataset. Otherwise, their values will interfere with the analysis later on the project. For example, you should not keep \"PRAEGENDE_JUGENDJAHRE\", since its values won't be useful for the algorithm: only the values derived from it in the engineered features you created should be retained. As a reminder, your data should only be from **the subset with few or no missing values**."
   ]
  },
  {
   "cell_type": "code",
   "execution_count": 141,
   "metadata": {},
   "outputs": [],
   "source": [
    "# If there are other re-engineering tasks you need to perform, make sure you\n",
    "# take care of them here. (Dealing with missing data will come in step 2.1.)\n",
    "\n"
   ]
  },
  {
   "cell_type": "code",
   "execution_count": 142,
   "metadata": {},
   "outputs": [],
   "source": [
    "# Do whatever you need to in order to ensure that the dataframe only contains\n",
    "# the columns that should be passed to the algorithm functions.\n",
    "\n",
    "#drop mia\n",
    "df_clean = df_clean.drop('mia', axis=1)\n"
   ]
  },
  {
   "cell_type": "code",
   "execution_count": 143,
   "metadata": {},
   "outputs": [
    {
     "name": "stdout",
     "output_type": "stream",
     "text": [
      "No\n"
     ]
    }
   ],
   "source": [
    "drop_hot('mia')"
   ]
  },
  {
   "cell_type": "code",
   "execution_count": null,
   "metadata": {},
   "outputs": [],
   "source": []
  },
  {
   "cell_type": "markdown",
   "metadata": {},
   "source": [
    "### Step 1.3: Create a Cleaning Function\n",
    "\n",
    "Even though you've finished cleaning up the general population demographics data, it's important to look ahead to the future and realize that you'll need to perform the same cleaning steps on the customer demographics data. In this substep, complete the function below to execute the main feature selection, encoding, and re-engineering steps you performed above. Then, when it comes to looking at the customer data in Step 3, you can just run this function on that DataFrame to get the trimmed dataset in a single step."
   ]
  },
  {
   "cell_type": "code",
   "execution_count": null,
   "metadata": {},
   "outputs": [],
   "source": [
    "\n",
    "    \n",
    "    "
   ]
  },
  {
   "cell_type": "code",
   "execution_count": 144,
   "metadata": {},
   "outputs": [],
   "source": [
    "def clean_data(df):\n",
    "    \"\"\"\n",
    "    Perform feature trimming, re-encoding, and engineering for demographics\n",
    "    data\n",
    "    \n",
    "    INPUT: Demographics DataFrame\n",
    "    OUTPUT: Trimmed and cleaned demographics DataFrame\n",
    "    \"\"\"\n",
    "    \n",
    "    # Put in code here to execute all main cleaning steps:\n",
    "    # convert missing value codes into NaNs, ...\n",
    "    \n",
    "    \n",
    "    # remove selected columns and rows, ...\n",
    "\n",
    "    \n",
    "    # select, re-encode, and engineer column values.\n",
    "\n",
    "    \n",
    "    # Return the cleaned dataframe.\n",
    "    \n",
    "    df = convert(df)\n",
    "    \n",
    "    df['east_west'] = df.OST_WEST_KZ.map({'O':0, 'W':1, 7:np.NaN})\n",
    "    \n",
    "    chan_dummy = pd.get_dummies(df.CJT_GESAMTTYP, prefix = 'buying_channel')\n",
    "    df = pd.concat([df, chan_dummy], axis = 1)\n",
    "    \n",
    "    fam_dummy = pd.get_dummies(df.LP_FAMILIE_FEIN, prefix = 'family_type')\n",
    "    df = pd.concat([df, fam_dummy], axis = 1)\n",
    "    \n",
    "   \n",
    "    \n",
    "    #enginerring two new variables \n",
    "    df['wealth_stage'] = df['CAMEO_INTL_2015'].astype(str)\n",
    "    df['wealth'] = df['wealth_stage'].str[0:1]\n",
    "    df['life_stage'] = df['wealth_stage'].str[1:2]\n",
    "    \n",
    "    df[(df.life_stage == 'n')] = np.NaN\n",
    "    df[(df.life_stage == 'X')] = np.NaN\n",
    "    df[(df.life_stage == 'a')] = np.NaN\n",
    "    \n",
    "    z = df['life_stage']\n",
    "    temp = pd.to_numeric(z)\n",
    "    \n",
    "    #create new column\n",
    "    df['integer_lifestage'] = temp.values\n",
    "    \n",
    "    #after split - put back NaN values and replace XX with nan\n",
    "    df[(df.wealth == 'n')] = np.NaN\n",
    "    df[(df.wealth == 'X')] = np.NaN\n",
    "    df[(df.wealth == 'a')] = np.NaN\n",
    "    \n",
    "    #change wealth column values to numeric\n",
    "    m = df['wealth']\n",
    "    ktemp = pd.to_numeric(m)\n",
    "    \n",
    "    #create new column\n",
    "    df['integer_wealth'] = ktemp.values\n",
    "    \n",
    "    generation_dict = {1: 40, 2: 40, 3: 50, 4:50, 5:60, 6:60, 7:60, 8: 70, 9:70, 10:80, 11:80, 12:80, 12:80, 14:90, 15:90}\n",
    "    \n",
    "    df['generation']= df['PRAEGENDE_JUGENDJAHRE'].map(generation_dict)\n",
    "    \n",
    "    avant_main_dict = {1:1, 2:0, 3:1, 4:0, 5:1, 6:0, 7:0, 8:1, 9:0, 10:1, 11:0, 12:1, 13:0, 14:1, 15:0 }\n",
    "    df['youth']= df['PRAEGENDE_JUGENDJAHRE'].map(avant_main_dict)\n",
    "    \n",
    "   \n",
    "    \n",
    "    #change 'WOHNLAGE' - number 7 and 8 both represent rural neighborhood, but number 8 also represents new building\n",
    "    #since this is the only number that represents building type - replace 8 with 7\n",
    "    df[(df.WOHNLAGE == 8)] = 7\n",
    "    \n",
    "    #replace 5 with nan values in PLZ8_BAUMAX\n",
    "    df[(df.PLZ8_BAUMAX == 5)] = np.NaN\n",
    "    \n",
    "    drop_chosen = ['FINANZTYP', 'GFK_URLAUBERTYP','LP_FAMILIE_GROB', 'LP_STATUS_FEIN', 'LP_STATUS_GROB', \n",
    "                   'NATIONALITAET_KZ', 'SHOPPER_TYP', 'VERS_TYP', 'ZABEOTYP', 'GEBAEUDETYP',\n",
    "                   'AGER_TYP', 'GEBURTSJAHR','TITEL_KZ', 'ALTER_HH', 'KK_KUNDENTYP', 'KBA05_BAUMAX',\n",
    "                  'OST_WEST_KZ','CAMEO_DEUG_2015', 'CAMEO_DEU_2015',\n",
    "                  'CJT_GESAMTTYP','LP_FAMILIE_FEIN',\n",
    "                  'wealth', 'life_stage', 'CAMEO_INTL_2015','wealth_stage',\n",
    "                  'PRAEGENDE_JUGENDJAHRE']\n",
    "    \n",
    "    df = df.drop(drop_chosen, axis = 1 )\n",
    "    \n",
    "    return df\n",
    "    "
   ]
  },
  {
   "cell_type": "code",
   "execution_count": null,
   "metadata": {},
   "outputs": [],
   "source": []
  },
  {
   "cell_type": "markdown",
   "metadata": {},
   "source": [
    "## Step 2: Feature Transformation\n",
    "\n",
    "### Step 2.1: Apply Feature Scaling\n",
    "\n",
    "Before we apply dimensionality reduction techniques to the data, we need to perform feature scaling so that the principal component vectors are not influenced by the natural differences in scale for features. Starting from this part of the project, you'll want to keep an eye on the [API reference page for sklearn](http://scikit-learn.org/stable/modules/classes.html) to help you navigate to all of the classes and functions that you'll need. In this substep, you'll need to check the following:\n",
    "\n",
    "- sklearn requires that data not have missing values in order for its estimators to work properly. So, before applying the scaler to your data, make sure that you've cleaned the DataFrame of the remaining missing values. This can be as simple as just removing all data points with missing data, or applying an [Imputer](http://scikit-learn.org/stable/modules/generated/sklearn.preprocessing.Imputer.html) to replace all missing values. You might also try a more complicated procedure where you temporarily remove missing values in order to compute the scaling parameters before re-introducing those missing values and applying imputation. Think about how much missing data you have and what possible effects each approach might have on your analysis, and justify your decision in the discussion section below.\n",
    "- For the actual scaling function, a [StandardScaler](http://scikit-learn.org/stable/modules/generated/sklearn.preprocessing.StandardScaler.html) instance is suggested, scaling each feature to mean 0 and standard deviation 1.\n",
    "- For these classes, you can make use of the `.fit_transform()` method to both fit a procedure to the data as well as apply the transformation to the data at the same time. Don't forget to keep the fit sklearn objects handy, since you'll be applying them to the customer demographics data towards the end of the project."
   ]
  },
  {
   "cell_type": "code",
   "execution_count": 145,
   "metadata": {},
   "outputs": [
    {
     "data": {
      "text/plain": [
       "797077"
      ]
     },
     "execution_count": 145,
     "metadata": {},
     "output_type": "execute_result"
    }
   ],
   "source": [
    "# If you've not yet cleaned the dataset of all NaN values, then investigate and\n",
    "# do that now.\n",
    "\n",
    "#df_clean.isnull().sum()\n",
    "len(df_clean)"
   ]
  },
  {
   "cell_type": "code",
   "execution_count": 146,
   "metadata": {},
   "outputs": [
    {
     "data": {
      "text/plain": [
       "110622.28571428571"
      ]
     },
     "execution_count": 146,
     "metadata": {},
     "output_type": "execute_result"
    }
   ],
   "source": [
    "NU = df_clean.isnull().sum()\n",
    "NU.mean()"
   ]
  },
  {
   "cell_type": "code",
   "execution_count": 147,
   "metadata": {},
   "outputs": [
    {
     "data": {
      "text/plain": [
       "ALTERSKATEGORIE_GROB     105160\n",
       "ANREDE_KZ                102827\n",
       "FINANZ_MINIMALIST        102827\n",
       "FINANZ_SPARER            102827\n",
       "FINANZ_VORSORGER         102827\n",
       "FINANZ_ANLEGER           102827\n",
       "FINANZ_UNAUFFAELLIGER    102827\n",
       "FINANZ_HAUSBAUER         102827\n",
       "GREEN_AVANTGARDE         102827\n",
       "HEALTH_TYP               132136\n",
       "LP_LEBENSPHASE_FEIN      143789\n",
       "LP_LEBENSPHASE_GROB      141563\n",
       "RETOURTYP_BK_S           106776\n",
       "SEMIO_SOZ                102827\n",
       "SEMIO_FAM                102827\n",
       "SEMIO_REL                102827\n",
       "SEMIO_MAT                102827\n",
       "SEMIO_VERT               102827\n",
       "SEMIO_LUST               102827\n",
       "SEMIO_ERL                102827\n",
       "SEMIO_KULT               102827\n",
       "SEMIO_RAT                102827\n",
       "SEMIO_KRIT               102827\n",
       "SEMIO_DOM                102827\n",
       "SEMIO_KAEM               102827\n",
       "SEMIO_PFLICHT            102827\n",
       "SEMIO_TRADV              102827\n",
       "SOHO_KZ                  102827\n",
       "ANZ_PERSONEN             102827\n",
       "ANZ_TITEL                102827\n",
       "                          ...  \n",
       "PLZ8_ANTG3               121172\n",
       "PLZ8_ANTG4               121172\n",
       "PLZ8_BAUMAX              121172\n",
       "PLZ8_HHZ                 121172\n",
       "PLZ8_GBZ                 121172\n",
       "ARBEIT                   106663\n",
       "ORTSGR_KLS9              106587\n",
       "RELAT_AB                 106663\n",
       "east_west                102827\n",
       "buying_channel_1.0       102827\n",
       "buying_channel_2.0       102827\n",
       "buying_channel_3.0       102827\n",
       "buying_channel_4.0       102827\n",
       "buying_channel_5.0       102827\n",
       "buying_channel_6.0       102827\n",
       "family_type_1.0          102827\n",
       "family_type_2.0          102827\n",
       "family_type_3.0          102827\n",
       "family_type_4.0          102827\n",
       "family_type_5.0          102827\n",
       "family_type_6.0          102827\n",
       "family_type_7.0          102827\n",
       "family_type_8.0          102827\n",
       "family_type_9.0          102827\n",
       "family_type_10.0         102827\n",
       "family_type_11.0         102827\n",
       "integer_lifestage        102827\n",
       "integer_wealth           102827\n",
       "generation               129467\n",
       "youth                    125063\n",
       "Length: 84, dtype: int64"
      ]
     },
     "execution_count": 147,
     "metadata": {},
     "output_type": "execute_result"
    }
   ],
   "source": [
    "df_clean.isnull().sum()"
   ]
  },
  {
   "cell_type": "code",
   "execution_count": 148,
   "metadata": {},
   "outputs": [
    {
     "data": {
      "text/plain": [
       "246698"
      ]
     },
     "execution_count": 148,
     "metadata": {},
     "output_type": "execute_result"
    }
   ],
   "source": [
    "df_clean.isnull().any(axis = 1).sum()"
   ]
  },
  {
   "cell_type": "code",
   "execution_count": 149,
   "metadata": {},
   "outputs": [
    {
     "data": {
      "text/plain": [
       " 1.0    215079\n",
       " 2.0    130198\n",
       " 5.0    115353\n",
       " 3.0    114842\n",
       "NaN     102827\n",
       " 4.0    101735\n",
       " 7.0     17043\n",
       "Name: FINANZ_SPARER, dtype: int64"
      ]
     },
     "execution_count": 149,
     "metadata": {},
     "output_type": "execute_result"
    }
   ],
   "source": [
    "df_clean['FINANZ_SPARER'].value_counts(dropna=False)"
   ]
  },
  {
   "cell_type": "code",
   "execution_count": 150,
   "metadata": {},
   "outputs": [],
   "source": [
    "#copy of dataset after cleaning but before tranforming\n",
    "df_tran = df_clean.copy()"
   ]
  },
  {
   "cell_type": "code",
   "execution_count": 151,
   "metadata": {},
   "outputs": [],
   "source": [
    "from sklearn.preprocessing import Imputer"
   ]
  },
  {
   "cell_type": "code",
   "execution_count": 152,
   "metadata": {},
   "outputs": [],
   "source": [
    "#drop all rows where all the values are 0\n",
    "df_drop = df_tran.dropna(how='all')\n"
   ]
  },
  {
   "cell_type": "code",
   "execution_count": 153,
   "metadata": {},
   "outputs": [
    {
     "data": {
      "text/plain": [
       "(694250, 84)"
      ]
     },
     "execution_count": 153,
     "metadata": {},
     "output_type": "execute_result"
    }
   ],
   "source": [
    "#look at shape\n",
    "df_drop.shape"
   ]
  },
  {
   "cell_type": "code",
   "execution_count": 154,
   "metadata": {},
   "outputs": [],
   "source": [
    "#use imputer to use means to fill in nan values\n",
    "fill_NaN = Imputer(missing_values=np.nan, strategy='mean', axis=1)\n",
    "imputed_DF = pd.DataFrame(fill_NaN.fit_transform(df_drop))\n",
    "imputed_DF.columns = df_drop.columns\n",
    "imputed_DF.index = df_drop.index"
   ]
  },
  {
   "cell_type": "code",
   "execution_count": 155,
   "metadata": {},
   "outputs": [],
   "source": [
    "#change dataframe name\n",
    "new_df = imputed_DF"
   ]
  },
  {
   "cell_type": "code",
   "execution_count": 156,
   "metadata": {},
   "outputs": [
    {
     "data": {
      "text/plain": [
       "0"
      ]
     },
     "execution_count": 156,
     "metadata": {},
     "output_type": "execute_result"
    }
   ],
   "source": [
    "#test that there is no nan\n",
    "new_df.isnull().any(axis = 1).sum()"
   ]
  },
  {
   "cell_type": "code",
   "execution_count": 157,
   "metadata": {},
   "outputs": [
    {
     "data": {
      "text/html": [
       "<div>\n",
       "<style scoped>\n",
       "    .dataframe tbody tr th:only-of-type {\n",
       "        vertical-align: middle;\n",
       "    }\n",
       "\n",
       "    .dataframe tbody tr th {\n",
       "        vertical-align: top;\n",
       "    }\n",
       "\n",
       "    .dataframe thead th {\n",
       "        text-align: right;\n",
       "    }\n",
       "</style>\n",
       "<table border=\"1\" class=\"dataframe\">\n",
       "  <thead>\n",
       "    <tr style=\"text-align: right;\">\n",
       "      <th></th>\n",
       "      <th>ALTERSKATEGORIE_GROB</th>\n",
       "      <th>ANREDE_KZ</th>\n",
       "      <th>FINANZ_MINIMALIST</th>\n",
       "      <th>FINANZ_SPARER</th>\n",
       "      <th>FINANZ_VORSORGER</th>\n",
       "      <th>FINANZ_ANLEGER</th>\n",
       "      <th>FINANZ_UNAUFFAELLIGER</th>\n",
       "      <th>FINANZ_HAUSBAUER</th>\n",
       "      <th>GREEN_AVANTGARDE</th>\n",
       "      <th>HEALTH_TYP</th>\n",
       "      <th>...</th>\n",
       "      <th>family_type_6.0</th>\n",
       "      <th>family_type_7.0</th>\n",
       "      <th>family_type_8.0</th>\n",
       "      <th>family_type_9.0</th>\n",
       "      <th>family_type_10.0</th>\n",
       "      <th>family_type_11.0</th>\n",
       "      <th>integer_lifestage</th>\n",
       "      <th>integer_wealth</th>\n",
       "      <th>generation</th>\n",
       "      <th>youth</th>\n",
       "    </tr>\n",
       "  </thead>\n",
       "  <tbody>\n",
       "    <tr>\n",
       "      <th>1</th>\n",
       "      <td>1.0</td>\n",
       "      <td>2.0</td>\n",
       "      <td>1.0</td>\n",
       "      <td>5.0</td>\n",
       "      <td>2.0</td>\n",
       "      <td>5.0</td>\n",
       "      <td>4.0</td>\n",
       "      <td>5.0</td>\n",
       "      <td>0.0</td>\n",
       "      <td>3.0</td>\n",
       "      <td>...</td>\n",
       "      <td>0.0</td>\n",
       "      <td>0.0</td>\n",
       "      <td>0.0</td>\n",
       "      <td>0.0</td>\n",
       "      <td>0.0</td>\n",
       "      <td>0.0</td>\n",
       "      <td>1.0</td>\n",
       "      <td>5.0</td>\n",
       "      <td>90.0</td>\n",
       "      <td>1.0</td>\n",
       "    </tr>\n",
       "    <tr>\n",
       "      <th>2</th>\n",
       "      <td>3.0</td>\n",
       "      <td>2.0</td>\n",
       "      <td>1.0</td>\n",
       "      <td>4.0</td>\n",
       "      <td>1.0</td>\n",
       "      <td>2.0</td>\n",
       "      <td>3.0</td>\n",
       "      <td>5.0</td>\n",
       "      <td>1.0</td>\n",
       "      <td>3.0</td>\n",
       "      <td>...</td>\n",
       "      <td>0.0</td>\n",
       "      <td>0.0</td>\n",
       "      <td>0.0</td>\n",
       "      <td>0.0</td>\n",
       "      <td>0.0</td>\n",
       "      <td>0.0</td>\n",
       "      <td>4.0</td>\n",
       "      <td>2.0</td>\n",
       "      <td>90.0</td>\n",
       "      <td>0.0</td>\n",
       "    </tr>\n",
       "    <tr>\n",
       "      <th>3</th>\n",
       "      <td>4.0</td>\n",
       "      <td>2.0</td>\n",
       "      <td>4.0</td>\n",
       "      <td>2.0</td>\n",
       "      <td>5.0</td>\n",
       "      <td>2.0</td>\n",
       "      <td>1.0</td>\n",
       "      <td>2.0</td>\n",
       "      <td>0.0</td>\n",
       "      <td>2.0</td>\n",
       "      <td>...</td>\n",
       "      <td>0.0</td>\n",
       "      <td>0.0</td>\n",
       "      <td>0.0</td>\n",
       "      <td>0.0</td>\n",
       "      <td>0.0</td>\n",
       "      <td>0.0</td>\n",
       "      <td>2.0</td>\n",
       "      <td>1.0</td>\n",
       "      <td>70.0</td>\n",
       "      <td>1.0</td>\n",
       "    </tr>\n",
       "    <tr>\n",
       "      <th>4</th>\n",
       "      <td>3.0</td>\n",
       "      <td>1.0</td>\n",
       "      <td>4.0</td>\n",
       "      <td>3.0</td>\n",
       "      <td>4.0</td>\n",
       "      <td>1.0</td>\n",
       "      <td>3.0</td>\n",
       "      <td>2.0</td>\n",
       "      <td>0.0</td>\n",
       "      <td>3.0</td>\n",
       "      <td>...</td>\n",
       "      <td>0.0</td>\n",
       "      <td>0.0</td>\n",
       "      <td>0.0</td>\n",
       "      <td>0.0</td>\n",
       "      <td>1.0</td>\n",
       "      <td>0.0</td>\n",
       "      <td>3.0</td>\n",
       "      <td>4.0</td>\n",
       "      <td>70.0</td>\n",
       "      <td>1.0</td>\n",
       "    </tr>\n",
       "    <tr>\n",
       "      <th>5</th>\n",
       "      <td>1.0</td>\n",
       "      <td>2.0</td>\n",
       "      <td>3.0</td>\n",
       "      <td>1.0</td>\n",
       "      <td>5.0</td>\n",
       "      <td>2.0</td>\n",
       "      <td>2.0</td>\n",
       "      <td>5.0</td>\n",
       "      <td>0.0</td>\n",
       "      <td>3.0</td>\n",
       "      <td>...</td>\n",
       "      <td>0.0</td>\n",
       "      <td>0.0</td>\n",
       "      <td>0.0</td>\n",
       "      <td>0.0</td>\n",
       "      <td>0.0</td>\n",
       "      <td>0.0</td>\n",
       "      <td>4.0</td>\n",
       "      <td>5.0</td>\n",
       "      <td>50.0</td>\n",
       "      <td>1.0</td>\n",
       "    </tr>\n",
       "  </tbody>\n",
       "</table>\n",
       "<p>5 rows × 84 columns</p>\n",
       "</div>"
      ],
      "text/plain": [
       "   ALTERSKATEGORIE_GROB  ANREDE_KZ  FINANZ_MINIMALIST  FINANZ_SPARER  \\\n",
       "1                   1.0        2.0                1.0            5.0   \n",
       "2                   3.0        2.0                1.0            4.0   \n",
       "3                   4.0        2.0                4.0            2.0   \n",
       "4                   3.0        1.0                4.0            3.0   \n",
       "5                   1.0        2.0                3.0            1.0   \n",
       "\n",
       "   FINANZ_VORSORGER  FINANZ_ANLEGER  FINANZ_UNAUFFAELLIGER  FINANZ_HAUSBAUER  \\\n",
       "1               2.0             5.0                    4.0               5.0   \n",
       "2               1.0             2.0                    3.0               5.0   \n",
       "3               5.0             2.0                    1.0               2.0   \n",
       "4               4.0             1.0                    3.0               2.0   \n",
       "5               5.0             2.0                    2.0               5.0   \n",
       "\n",
       "   GREEN_AVANTGARDE  HEALTH_TYP  ...    family_type_6.0  family_type_7.0  \\\n",
       "1               0.0         3.0  ...                0.0              0.0   \n",
       "2               1.0         3.0  ...                0.0              0.0   \n",
       "3               0.0         2.0  ...                0.0              0.0   \n",
       "4               0.0         3.0  ...                0.0              0.0   \n",
       "5               0.0         3.0  ...                0.0              0.0   \n",
       "\n",
       "   family_type_8.0  family_type_9.0  family_type_10.0  family_type_11.0  \\\n",
       "1              0.0              0.0               0.0               0.0   \n",
       "2              0.0              0.0               0.0               0.0   \n",
       "3              0.0              0.0               0.0               0.0   \n",
       "4              0.0              0.0               1.0               0.0   \n",
       "5              0.0              0.0               0.0               0.0   \n",
       "\n",
       "   integer_lifestage  integer_wealth  generation  youth  \n",
       "1                1.0             5.0        90.0    1.0  \n",
       "2                4.0             2.0        90.0    0.0  \n",
       "3                2.0             1.0        70.0    1.0  \n",
       "4                3.0             4.0        70.0    1.0  \n",
       "5                4.0             5.0        50.0    1.0  \n",
       "\n",
       "[5 rows x 84 columns]"
      ]
     },
     "execution_count": 157,
     "metadata": {},
     "output_type": "execute_result"
    }
   ],
   "source": [
    "new_df.head()"
   ]
  },
  {
   "cell_type": "code",
   "execution_count": 158,
   "metadata": {},
   "outputs": [],
   "source": [
    "# Apply feature scaling to the general population demographics data.\n",
    "from sklearn.preprocessing import StandardScaler\n",
    "\n"
   ]
  },
  {
   "cell_type": "code",
   "execution_count": 159,
   "metadata": {},
   "outputs": [],
   "source": [
    "#variable to standard scaler\n",
    "ss = StandardScaler()"
   ]
  },
  {
   "cell_type": "code",
   "execution_count": 160,
   "metadata": {},
   "outputs": [],
   "source": [
    "#create new scaled dataframe\n",
    "df_scaled = pd.DataFrame(ss.fit_transform(new_df),columns = new_df.columns)"
   ]
  },
  {
   "cell_type": "code",
   "execution_count": 161,
   "metadata": {},
   "outputs": [
    {
     "data": {
      "text/html": [
       "<div>\n",
       "<style scoped>\n",
       "    .dataframe tbody tr th:only-of-type {\n",
       "        vertical-align: middle;\n",
       "    }\n",
       "\n",
       "    .dataframe tbody tr th {\n",
       "        vertical-align: top;\n",
       "    }\n",
       "\n",
       "    .dataframe thead th {\n",
       "        text-align: right;\n",
       "    }\n",
       "</style>\n",
       "<table border=\"1\" class=\"dataframe\">\n",
       "  <thead>\n",
       "    <tr style=\"text-align: right;\">\n",
       "      <th></th>\n",
       "      <th>ALTERSKATEGORIE_GROB</th>\n",
       "      <th>ANREDE_KZ</th>\n",
       "      <th>FINANZ_MINIMALIST</th>\n",
       "      <th>FINANZ_SPARER</th>\n",
       "      <th>FINANZ_VORSORGER</th>\n",
       "      <th>FINANZ_ANLEGER</th>\n",
       "      <th>FINANZ_UNAUFFAELLIGER</th>\n",
       "      <th>FINANZ_HAUSBAUER</th>\n",
       "      <th>GREEN_AVANTGARDE</th>\n",
       "      <th>HEALTH_TYP</th>\n",
       "      <th>...</th>\n",
       "      <th>family_type_6.0</th>\n",
       "      <th>family_type_7.0</th>\n",
       "      <th>family_type_8.0</th>\n",
       "      <th>family_type_9.0</th>\n",
       "      <th>family_type_10.0</th>\n",
       "      <th>family_type_11.0</th>\n",
       "      <th>integer_lifestage</th>\n",
       "      <th>integer_wealth</th>\n",
       "      <th>generation</th>\n",
       "      <th>youth</th>\n",
       "    </tr>\n",
       "  </thead>\n",
       "  <tbody>\n",
       "    <tr>\n",
       "      <th>0</th>\n",
       "      <td>-0.887233</td>\n",
       "      <td>0.348885</td>\n",
       "      <td>-1.507954</td>\n",
       "      <td>1.389006</td>\n",
       "      <td>-1.080544</td>\n",
       "      <td>1.288689</td>\n",
       "      <td>0.813670</td>\n",
       "      <td>1.237668</td>\n",
       "      <td>-0.355143</td>\n",
       "      <td>-0.106835</td>\n",
       "      <td>...</td>\n",
       "      <td>-0.167951</td>\n",
       "      <td>-0.179924</td>\n",
       "      <td>-0.183244</td>\n",
       "      <td>-0.169962</td>\n",
       "      <td>-0.301119</td>\n",
       "      <td>-0.214679</td>\n",
       "      <td>-1.351416</td>\n",
       "      <td>1.127025</td>\n",
       "      <td>1.070095</td>\n",
       "      <td>-0.164524</td>\n",
       "    </tr>\n",
       "    <tr>\n",
       "      <th>1</th>\n",
       "      <td>-0.014349</td>\n",
       "      <td>0.348885</td>\n",
       "      <td>-1.507954</td>\n",
       "      <td>0.766160</td>\n",
       "      <td>-1.768423</td>\n",
       "      <td>-0.597787</td>\n",
       "      <td>0.162893</td>\n",
       "      <td>1.237668</td>\n",
       "      <td>0.531820</td>\n",
       "      <td>-0.106835</td>\n",
       "      <td>...</td>\n",
       "      <td>-0.167951</td>\n",
       "      <td>-0.179924</td>\n",
       "      <td>-0.183244</td>\n",
       "      <td>-0.169962</td>\n",
       "      <td>-0.301119</td>\n",
       "      <td>-0.214679</td>\n",
       "      <td>0.578352</td>\n",
       "      <td>-0.783754</td>\n",
       "      <td>1.070095</td>\n",
       "      <td>-0.322971</td>\n",
       "    </tr>\n",
       "    <tr>\n",
       "      <th>2</th>\n",
       "      <td>0.422093</td>\n",
       "      <td>0.348885</td>\n",
       "      <td>0.507008</td>\n",
       "      <td>-0.479533</td>\n",
       "      <td>0.983091</td>\n",
       "      <td>-0.597787</td>\n",
       "      <td>-1.138660</td>\n",
       "      <td>-0.748017</td>\n",
       "      <td>-0.355143</td>\n",
       "      <td>-0.251600</td>\n",
       "      <td>...</td>\n",
       "      <td>-0.167951</td>\n",
       "      <td>-0.179924</td>\n",
       "      <td>-0.183244</td>\n",
       "      <td>-0.169962</td>\n",
       "      <td>-0.301119</td>\n",
       "      <td>-0.214679</td>\n",
       "      <td>-0.708160</td>\n",
       "      <td>-1.420680</td>\n",
       "      <td>0.007099</td>\n",
       "      <td>-0.164524</td>\n",
       "    </tr>\n",
       "    <tr>\n",
       "      <th>3</th>\n",
       "      <td>-0.014349</td>\n",
       "      <td>-0.670922</td>\n",
       "      <td>0.507008</td>\n",
       "      <td>0.143313</td>\n",
       "      <td>0.295213</td>\n",
       "      <td>-1.226612</td>\n",
       "      <td>0.162893</td>\n",
       "      <td>-0.748017</td>\n",
       "      <td>-0.355143</td>\n",
       "      <td>-0.106835</td>\n",
       "      <td>...</td>\n",
       "      <td>-0.167951</td>\n",
       "      <td>-0.179924</td>\n",
       "      <td>-0.183244</td>\n",
       "      <td>-0.169962</td>\n",
       "      <td>0.591678</td>\n",
       "      <td>-0.214679</td>\n",
       "      <td>-0.064904</td>\n",
       "      <td>0.490099</td>\n",
       "      <td>0.007099</td>\n",
       "      <td>-0.164524</td>\n",
       "    </tr>\n",
       "    <tr>\n",
       "      <th>4</th>\n",
       "      <td>-0.887233</td>\n",
       "      <td>0.348885</td>\n",
       "      <td>-0.164646</td>\n",
       "      <td>-1.102379</td>\n",
       "      <td>0.983091</td>\n",
       "      <td>-0.597787</td>\n",
       "      <td>-0.487883</td>\n",
       "      <td>1.237668</td>\n",
       "      <td>-0.355143</td>\n",
       "      <td>-0.106835</td>\n",
       "      <td>...</td>\n",
       "      <td>-0.167951</td>\n",
       "      <td>-0.179924</td>\n",
       "      <td>-0.183244</td>\n",
       "      <td>-0.169962</td>\n",
       "      <td>-0.301119</td>\n",
       "      <td>-0.214679</td>\n",
       "      <td>0.578352</td>\n",
       "      <td>1.127025</td>\n",
       "      <td>-1.055896</td>\n",
       "      <td>-0.164524</td>\n",
       "    </tr>\n",
       "  </tbody>\n",
       "</table>\n",
       "<p>5 rows × 84 columns</p>\n",
       "</div>"
      ],
      "text/plain": [
       "   ALTERSKATEGORIE_GROB  ANREDE_KZ  FINANZ_MINIMALIST  FINANZ_SPARER  \\\n",
       "0             -0.887233   0.348885          -1.507954       1.389006   \n",
       "1             -0.014349   0.348885          -1.507954       0.766160   \n",
       "2              0.422093   0.348885           0.507008      -0.479533   \n",
       "3             -0.014349  -0.670922           0.507008       0.143313   \n",
       "4             -0.887233   0.348885          -0.164646      -1.102379   \n",
       "\n",
       "   FINANZ_VORSORGER  FINANZ_ANLEGER  FINANZ_UNAUFFAELLIGER  FINANZ_HAUSBAUER  \\\n",
       "0         -1.080544        1.288689               0.813670          1.237668   \n",
       "1         -1.768423       -0.597787               0.162893          1.237668   \n",
       "2          0.983091       -0.597787              -1.138660         -0.748017   \n",
       "3          0.295213       -1.226612               0.162893         -0.748017   \n",
       "4          0.983091       -0.597787              -0.487883          1.237668   \n",
       "\n",
       "   GREEN_AVANTGARDE  HEALTH_TYP    ...     family_type_6.0  family_type_7.0  \\\n",
       "0         -0.355143   -0.106835    ...           -0.167951        -0.179924   \n",
       "1          0.531820   -0.106835    ...           -0.167951        -0.179924   \n",
       "2         -0.355143   -0.251600    ...           -0.167951        -0.179924   \n",
       "3         -0.355143   -0.106835    ...           -0.167951        -0.179924   \n",
       "4         -0.355143   -0.106835    ...           -0.167951        -0.179924   \n",
       "\n",
       "   family_type_8.0  family_type_9.0  family_type_10.0  family_type_11.0  \\\n",
       "0        -0.183244        -0.169962         -0.301119         -0.214679   \n",
       "1        -0.183244        -0.169962         -0.301119         -0.214679   \n",
       "2        -0.183244        -0.169962         -0.301119         -0.214679   \n",
       "3        -0.183244        -0.169962          0.591678         -0.214679   \n",
       "4        -0.183244        -0.169962         -0.301119         -0.214679   \n",
       "\n",
       "   integer_lifestage  integer_wealth  generation     youth  \n",
       "0          -1.351416        1.127025    1.070095 -0.164524  \n",
       "1           0.578352       -0.783754    1.070095 -0.322971  \n",
       "2          -0.708160       -1.420680    0.007099 -0.164524  \n",
       "3          -0.064904        0.490099    0.007099 -0.164524  \n",
       "4           0.578352        1.127025   -1.055896 -0.164524  \n",
       "\n",
       "[5 rows x 84 columns]"
      ]
     },
     "execution_count": 161,
     "metadata": {},
     "output_type": "execute_result"
    }
   ],
   "source": [
    "df_scaled.head()"
   ]
  },
  {
   "cell_type": "markdown",
   "metadata": {},
   "source": [
    "### Discussion 2.1: Apply Feature Scaling\n",
    "\n",
    "\n",
    "\n",
    "We decided to drop any rows that had missing rows across all the columns.  Then we filled in the remaining nan's with mean of the column.  We then used the Standard Scaler to scale the dataframe.   \n"
   ]
  },
  {
   "cell_type": "code",
   "execution_count": null,
   "metadata": {},
   "outputs": [],
   "source": []
  },
  {
   "cell_type": "markdown",
   "metadata": {},
   "source": [
    "### Step 2.2: Perform Dimensionality Reduction\n",
    "\n",
    "On your scaled data, you are now ready to apply dimensionality reduction techniques.\n",
    "\n",
    "- Use sklearn's [PCA](http://scikit-learn.org/stable/modules/generated/sklearn.decomposition.PCA.html) class to apply principal component analysis on the data, thus finding the vectors of maximal variance in the data. To start, you should not set any parameters (so all components are computed) or set a number of components that is at least half the number of features (so there's enough features to see the general trend in variability).\n",
    "- Check out the ratio of variance explained by each principal component as well as the cumulative variance explained. Try plotting the cumulative or sequential values using matplotlib's [`plot()`](https://matplotlib.org/api/_as_gen/matplotlib.pyplot.plot.html) function. Based on what you find, select a value for the number of transformed features you'll retain for the clustering part of the project.\n",
    "- Once you've made a choice for the number of components to keep, make sure you re-fit a PCA instance to perform the decided-on transformation."
   ]
  },
  {
   "cell_type": "code",
   "execution_count": 162,
   "metadata": {},
   "outputs": [],
   "source": [
    "# Apply PCA to the data\n",
    "from sklearn.decomposition import PCA\n",
    "from sklearn.preprocessing import StandardScaler\n",
    "from sklearn.model_selection import train_test_split\n",
    "from sklearn.metrics import confusion_matrix, accuracy_score\n"
   ]
  },
  {
   "cell_type": "code",
   "execution_count": 163,
   "metadata": {},
   "outputs": [],
   "source": [
    "#create function that performs pca \n",
    "\n",
    "def apply_pca(n_columns, data):\n",
    "    X = StandardScaler().fit_transform(data)\n",
    "    pca = PCA(n_columns)\n",
    "    X_pca = pca.fit_transform(X)\n",
    "    return pca, X_pca"
   ]
  },
  {
   "cell_type": "code",
   "execution_count": 164,
   "metadata": {},
   "outputs": [],
   "source": [
    "#function to plot variance explained by pca\n",
    "def scree_plot(pca):\n",
    "\n",
    "    num_components = len(pca.explained_variance_ratio_)\n",
    "    ind = np.arange(num_components)\n",
    "    vals = pca.explained_variance_ratio_\n",
    " \n",
    "    plt.figure(figsize=(10, 6))\n",
    "    ax = plt.subplot(111)\n",
    "    cumvals = np.cumsum(vals)\n",
    "    ax.bar(ind, vals)\n",
    "    ax.plot(ind, cumvals)\n",
    "    for i in range(num_components):\n",
    "        ax.annotate(r\"%s%%\" % ((str(vals[i]*100)[:4])), (ind[i]+0.2, vals[i]), va=\"bottom\", ha=\"center\", fontsize=12)\n",
    " \n",
    "    ax.xaxis.set_tick_params(width=0)\n",
    "    ax.yaxis.set_tick_params(width=2, length=12)\n",
    " \n",
    "    ax.set_xlabel(\"Principal Component\")\n",
    "    ax.set_ylabel(\"Variance Explained (%)\")\n",
    "    plt.title('Explained Variance Per Principal Component')\n",
    "    \n"
   ]
  },
  {
   "cell_type": "code",
   "execution_count": 165,
   "metadata": {},
   "outputs": [],
   "source": [
    "pca, X_pca = apply_pca(23, df_scaled)"
   ]
  },
  {
   "cell_type": "code",
   "execution_count": 166,
   "metadata": {},
   "outputs": [
    {
     "data": {
      "image/png": "[encoded data removed]",
      "text/plain": [
       "<Figure size 720x432 with 1 Axes>"
      ]
     },
     "metadata": {},
     "output_type": "display_data"
    }
   ],
   "source": [
    "# Investigate the variance accounted for by each principal component.\n",
    "scree_plot(pca)"
   ]
  },
  {
   "cell_type": "code",
   "execution_count": 167,
   "metadata": {},
   "outputs": [
    {
     "data": {
      "text/plain": [
       "(694250, 23)"
      ]
     },
     "execution_count": 167,
     "metadata": {},
     "output_type": "execute_result"
    }
   ],
   "source": [
    "X_pca.shape"
   ]
  },
  {
   "cell_type": "code",
   "execution_count": 168,
   "metadata": {},
   "outputs": [
    {
     "data": {
      "text/plain": [
       "0.9034893461382302"
      ]
     },
     "execution_count": 168,
     "metadata": {},
     "output_type": "execute_result"
    }
   ],
   "source": [
    "pca.explained_variance_ratio_.sum()"
   ]
  },
  {
   "cell_type": "code",
   "execution_count": 169,
   "metadata": {},
   "outputs": [],
   "source": [
    "\n",
    "#def num_components(sum_total_percent_of_variability_wanted):\n",
    "#    xrange = range(15, 80)\n",
    "#    for x in xrange:\n",
    "#        apply_pca(x, df_scaled)\n",
    "#        num = x\n",
    "#        var_sum = pca.explained_variance_ratio_.sum()\n",
    "#        if var_sum > sum_total_percent_of_variability_wanted:\n",
    "#            print(num)\n",
    "#            break\n",
    "#        else: \n",
    "#            continue\n"
   ]
  },
  {
   "cell_type": "code",
   "execution_count": 170,
   "metadata": {},
   "outputs": [],
   "source": [
    "#num_components(.83)"
   ]
  },
  {
   "cell_type": "code",
   "execution_count": 171,
   "metadata": {},
   "outputs": [],
   "source": [
    "# Re-apply PCA to the data while selecting for number of components to retain.\n",
    "\n"
   ]
  },
  {
   "cell_type": "markdown",
   "metadata": {},
   "source": [
    "### Discussion 2.2: Perform Dimensionality Reduction\n",
    "\n",
    "\n",
    "\n",
    "We were looking to have a total of 90% of the variance explained by pca.  With some trial and error we found that level (90.36% with 23 principal components.  So we reduced our features by 73% and still retained over 90% of the variability.  \n"
   ]
  },
  {
   "cell_type": "markdown",
   "metadata": {},
   "source": [
    "### Step 2.3: Interpret Principal Components\n",
    "\n",
    "Now that we have our transformed principal components, it's a nice idea to check out the weight of each variable on the first few components to see if they can be interpreted in some fashion.\n",
    "\n",
    "As a reminder, each principal component is a unit vector that points in the direction of highest variance (after accounting for the variance captured by earlier principal components). The further a weight is from zero, the more the principal component is in the direction of the corresponding feature. If two features have large weights of the same sign (both positive or both negative), then increases in one tend expect to be associated with increases in the other. To contrast, features with different signs can be expected to show a negative correlation: increases in one variable should result in a decrease in the other.\n",
    "\n",
    "- To investigate the features, you should map each weight to their corresponding feature name, then sort the features according to weight. The most interesting features for each principal component, then, will be those at the beginning and end of the sorted list. Use the data dictionary document to help you understand these most prominent features, their relationships, and what a positive or negative value on the principal component might indicate.\n",
    "- You should investigate and interpret feature associations from the first three principal components in this substep. To help facilitate this, you should write a function that you can call at any time to print the sorted list of feature weights, for the *i*-th principal component. This might come in handy in the next step of the project, when you interpret the tendencies of the discovered clusters."
   ]
  },
  {
   "cell_type": "code",
   "execution_count": 172,
   "metadata": {},
   "outputs": [],
   "source": [
    "#function that creates a dataframe outlining the total and individual variability in each principal components by feature name\n",
    "def pca_results(full_dataset, pca):\n",
    "\n",
    "\t# Dimension indexing\n",
    "\tdimensions = dimensions = ['Dimension {}'.format(i) for i in range(1,len(pca.components_)+1)]\n",
    "\n",
    "\t# PCA components\n",
    "\tcomponents = pd.DataFrame(np.round(pca.components_, 4), columns = full_dataset.keys())\n",
    "\tcomponents.index = dimensions\n",
    "\n",
    "\t# PCA explained variance\n",
    "\tratios = pca.explained_variance_ratio_.reshape(len(pca.components_), 1)\n",
    "\tvariance_ratios = pd.DataFrame(np.round(ratios, 4), columns = ['Explained Variance'])\n",
    "\tvariance_ratios.index = dimensions\n",
    "\n",
    "\n",
    "\t# Return a concatenated DataFrame\n",
    "\treturn pd.concat([variance_ratios, components], axis = 1)\n"
   ]
  },
  {
   "cell_type": "code",
   "execution_count": 173,
   "metadata": {},
   "outputs": [],
   "source": [
    "var = pca_results(df_scaled, pca)"
   ]
  },
  {
   "cell_type": "code",
   "execution_count": 174,
   "metadata": {},
   "outputs": [
    {
     "data": {
      "text/html": [
       "<div>\n",
       "<style scoped>\n",
       "    .dataframe tbody tr th:only-of-type {\n",
       "        vertical-align: middle;\n",
       "    }\n",
       "\n",
       "    .dataframe tbody tr th {\n",
       "        vertical-align: top;\n",
       "    }\n",
       "\n",
       "    .dataframe thead th {\n",
       "        text-align: right;\n",
       "    }\n",
       "</style>\n",
       "<table border=\"1\" class=\"dataframe\">\n",
       "  <thead>\n",
       "    <tr style=\"text-align: right;\">\n",
       "      <th></th>\n",
       "      <th>Explained Variance</th>\n",
       "      <th>ALTERSKATEGORIE_GROB</th>\n",
       "      <th>ANREDE_KZ</th>\n",
       "      <th>FINANZ_MINIMALIST</th>\n",
       "      <th>FINANZ_SPARER</th>\n",
       "      <th>FINANZ_VORSORGER</th>\n",
       "      <th>FINANZ_ANLEGER</th>\n",
       "      <th>FINANZ_UNAUFFAELLIGER</th>\n",
       "      <th>FINANZ_HAUSBAUER</th>\n",
       "      <th>GREEN_AVANTGARDE</th>\n",
       "      <th>...</th>\n",
       "      <th>family_type_6.0</th>\n",
       "      <th>family_type_7.0</th>\n",
       "      <th>family_type_8.0</th>\n",
       "      <th>family_type_9.0</th>\n",
       "      <th>family_type_10.0</th>\n",
       "      <th>family_type_11.0</th>\n",
       "      <th>integer_lifestage</th>\n",
       "      <th>integer_wealth</th>\n",
       "      <th>generation</th>\n",
       "      <th>youth</th>\n",
       "    </tr>\n",
       "  </thead>\n",
       "  <tbody>\n",
       "    <tr>\n",
       "      <th>Dimension 1</th>\n",
       "      <td>0.3024</td>\n",
       "      <td>0.0527</td>\n",
       "      <td>0.1728</td>\n",
       "      <td>0.0739</td>\n",
       "      <td>0.0896</td>\n",
       "      <td>0.0685</td>\n",
       "      <td>0.0865</td>\n",
       "      <td>0.0945</td>\n",
       "      <td>0.0804</td>\n",
       "      <td>0.1833</td>\n",
       "      <td>...</td>\n",
       "      <td>0.1967</td>\n",
       "      <td>0.1956</td>\n",
       "      <td>0.1953</td>\n",
       "      <td>0.1964</td>\n",
       "      <td>0.1865</td>\n",
       "      <td>0.1927</td>\n",
       "      <td>0.0789</td>\n",
       "      <td>0.0763</td>\n",
       "      <td>-0.1017</td>\n",
       "      <td>0.0291</td>\n",
       "    </tr>\n",
       "    <tr>\n",
       "      <th>Dimension 2</th>\n",
       "      <td>0.1129</td>\n",
       "      <td>-0.0201</td>\n",
       "      <td>-0.0225</td>\n",
       "      <td>0.0081</td>\n",
       "      <td>0.0138</td>\n",
       "      <td>-0.0383</td>\n",
       "      <td>0.0042</td>\n",
       "      <td>0.0508</td>\n",
       "      <td>-0.0770</td>\n",
       "      <td>-0.0148</td>\n",
       "      <td>...</td>\n",
       "      <td>-0.0171</td>\n",
       "      <td>-0.0159</td>\n",
       "      <td>-0.0176</td>\n",
       "      <td>-0.0192</td>\n",
       "      <td>-0.0199</td>\n",
       "      <td>-0.0193</td>\n",
       "      <td>-0.0081</td>\n",
       "      <td>-0.0413</td>\n",
       "      <td>0.0386</td>\n",
       "      <td>0.0043</td>\n",
       "    </tr>\n",
       "    <tr>\n",
       "      <th>Dimension 3</th>\n",
       "      <td>0.0843</td>\n",
       "      <td>0.1470</td>\n",
       "      <td>0.0691</td>\n",
       "      <td>0.1743</td>\n",
       "      <td>-0.2643</td>\n",
       "      <td>0.2573</td>\n",
       "      <td>-0.1916</td>\n",
       "      <td>-0.2128</td>\n",
       "      <td>0.0108</td>\n",
       "      <td>0.0291</td>\n",
       "      <td>...</td>\n",
       "      <td>0.0088</td>\n",
       "      <td>0.0083</td>\n",
       "      <td>0.0092</td>\n",
       "      <td>0.0105</td>\n",
       "      <td>0.0137</td>\n",
       "      <td>0.0116</td>\n",
       "      <td>0.0730</td>\n",
       "      <td>-0.0521</td>\n",
       "      <td>-0.2180</td>\n",
       "      <td>0.0057</td>\n",
       "    </tr>\n",
       "    <tr>\n",
       "      <th>Dimension 4</th>\n",
       "      <td>0.0627</td>\n",
       "      <td>-0.0397</td>\n",
       "      <td>0.1583</td>\n",
       "      <td>-0.2608</td>\n",
       "      <td>0.1194</td>\n",
       "      <td>-0.1037</td>\n",
       "      <td>0.1334</td>\n",
       "      <td>0.0730</td>\n",
       "      <td>0.1664</td>\n",
       "      <td>-0.0498</td>\n",
       "      <td>...</td>\n",
       "      <td>-0.0130</td>\n",
       "      <td>-0.0144</td>\n",
       "      <td>-0.0170</td>\n",
       "      <td>-0.0138</td>\n",
       "      <td>-0.0302</td>\n",
       "      <td>-0.0249</td>\n",
       "      <td>-0.0779</td>\n",
       "      <td>0.1305</td>\n",
       "      <td>0.0637</td>\n",
       "      <td>0.0587</td>\n",
       "    </tr>\n",
       "    <tr>\n",
       "      <th>Dimension 5</th>\n",
       "      <td>0.0515</td>\n",
       "      <td>0.0451</td>\n",
       "      <td>-0.0910</td>\n",
       "      <td>-0.0165</td>\n",
       "      <td>-0.0725</td>\n",
       "      <td>0.1003</td>\n",
       "      <td>-0.1546</td>\n",
       "      <td>-0.1096</td>\n",
       "      <td>0.1364</td>\n",
       "      <td>-0.0108</td>\n",
       "      <td>...</td>\n",
       "      <td>0.0013</td>\n",
       "      <td>-0.0027</td>\n",
       "      <td>-0.0030</td>\n",
       "      <td>0.0024</td>\n",
       "      <td>-0.0152</td>\n",
       "      <td>-0.0096</td>\n",
       "      <td>-0.0670</td>\n",
       "      <td>0.1799</td>\n",
       "      <td>-0.0971</td>\n",
       "      <td>0.0038</td>\n",
       "    </tr>\n",
       "  </tbody>\n",
       "</table>\n",
       "<p>5 rows × 85 columns</p>\n",
       "</div>"
      ],
      "text/plain": [
       "             Explained Variance  ALTERSKATEGORIE_GROB  ANREDE_KZ  \\\n",
       "Dimension 1              0.3024                0.0527     0.1728   \n",
       "Dimension 2              0.1129               -0.0201    -0.0225   \n",
       "Dimension 3              0.0843                0.1470     0.0691   \n",
       "Dimension 4              0.0627               -0.0397     0.1583   \n",
       "Dimension 5              0.0515                0.0451    -0.0910   \n",
       "\n",
       "             FINANZ_MINIMALIST  FINANZ_SPARER  FINANZ_VORSORGER  \\\n",
       "Dimension 1             0.0739         0.0896            0.0685   \n",
       "Dimension 2             0.0081         0.0138           -0.0383   \n",
       "Dimension 3             0.1743        -0.2643            0.2573   \n",
       "Dimension 4            -0.2608         0.1194           -0.1037   \n",
       "Dimension 5            -0.0165        -0.0725            0.1003   \n",
       "\n",
       "             FINANZ_ANLEGER  FINANZ_UNAUFFAELLIGER  FINANZ_HAUSBAUER  \\\n",
       "Dimension 1          0.0865                 0.0945            0.0804   \n",
       "Dimension 2          0.0042                 0.0508           -0.0770   \n",
       "Dimension 3         -0.1916                -0.2128            0.0108   \n",
       "Dimension 4          0.1334                 0.0730            0.1664   \n",
       "Dimension 5         -0.1546                -0.1096            0.1364   \n",
       "\n",
       "             GREEN_AVANTGARDE   ...    family_type_6.0  family_type_7.0  \\\n",
       "Dimension 1            0.1833   ...             0.1967           0.1956   \n",
       "Dimension 2           -0.0148   ...            -0.0171          -0.0159   \n",
       "Dimension 3            0.0291   ...             0.0088           0.0083   \n",
       "Dimension 4           -0.0498   ...            -0.0130          -0.0144   \n",
       "Dimension 5           -0.0108   ...             0.0013          -0.0027   \n",
       "\n",
       "             family_type_8.0  family_type_9.0  family_type_10.0  \\\n",
       "Dimension 1           0.1953           0.1964            0.1865   \n",
       "Dimension 2          -0.0176          -0.0192           -0.0199   \n",
       "Dimension 3           0.0092           0.0105            0.0137   \n",
       "Dimension 4          -0.0170          -0.0138           -0.0302   \n",
       "Dimension 5          -0.0030           0.0024           -0.0152   \n",
       "\n",
       "             family_type_11.0  integer_lifestage  integer_wealth  generation  \\\n",
       "Dimension 1            0.1927             0.0789          0.0763     -0.1017   \n",
       "Dimension 2           -0.0193            -0.0081         -0.0413      0.0386   \n",
       "Dimension 3            0.0116             0.0730         -0.0521     -0.2180   \n",
       "Dimension 4           -0.0249            -0.0779          0.1305      0.0637   \n",
       "Dimension 5           -0.0096            -0.0670          0.1799     -0.0971   \n",
       "\n",
       "              youth  \n",
       "Dimension 1  0.0291  \n",
       "Dimension 2  0.0043  \n",
       "Dimension 3  0.0057  \n",
       "Dimension 4  0.0587  \n",
       "Dimension 5  0.0038  \n",
       "\n",
       "[5 rows x 85 columns]"
      ]
     },
     "execution_count": 174,
     "metadata": {},
     "output_type": "execute_result"
    }
   ],
   "source": [
    "var.head()"
   ]
  },
  {
   "cell_type": "code",
   "execution_count": 175,
   "metadata": {},
   "outputs": [],
   "source": [
    "# Map weights for the first principal component to corresponding feature names\n",
    "# and then print the linked values, sorted by weight.\n",
    "# HINT: Try defining a function here or in a new cell that you can reuse in the\n",
    "# other cells.\n"
   ]
  },
  {
   "cell_type": "code",
   "execution_count": 176,
   "metadata": {},
   "outputs": [],
   "source": [
    "#created function that takes the dimension/component to interpret, how many features to view, dataframe and pca \n",
    "# it returns a list sorted by the absolute weight of each column in the component \n",
    "def interpret(rank_of_component, num_features, full_dataset, pca):\n",
    "    var = pca_results(full_dataset, pca)\n",
    "    var = var.abs()\n",
    "    feature_weight = var.iloc[rank_of_component - 1].sort_values(ascending=False)\n",
    "    feature_weight.drop(['Explained Variance'], inplace = True)\n",
    "    \n",
    "    return feature_weight.head(n = num_features)\n",
    "    \n",
    "    "
   ]
  },
  {
   "cell_type": "code",
   "execution_count": 177,
   "metadata": {},
   "outputs": [
    {
     "data": {
      "text/plain": [
       "MIN_GEBAEUDEJAHR    0.1974\n",
       "ANZ_TITEL           0.1971\n",
       "family_type_3.0     0.1970\n",
       "SOHO_KZ             0.1968\n",
       "family_type_6.0     0.1967\n",
       "family_type_9.0     0.1964\n",
       "family_type_4.0     0.1963\n",
       "Name: Dimension 1, dtype: float64"
      ]
     },
     "execution_count": 177,
     "metadata": {},
     "output_type": "execute_result"
    }
   ],
   "source": [
    "interpret(1, 7, df_scaled, pca)"
   ]
  },
  {
   "cell_type": "code",
   "execution_count": 178,
   "metadata": {},
   "outputs": [
    {
     "data": {
      "text/plain": [
       "PLZ8_GBZ      0.2732\n",
       "PLZ8_HHZ      0.2715\n",
       "PLZ8_ANTG1    0.2710\n",
       "PLZ8_ANTG2    0.2670\n",
       "PLZ8_ANTG4    0.2663\n",
       "KBA05_GBZ     0.2656\n",
       "MOBI_REGIO    0.2648\n",
       "Name: Dimension 2, dtype: float64"
      ]
     },
     "execution_count": 178,
     "metadata": {},
     "output_type": "execute_result"
    }
   ],
   "source": [
    "# Map weights for the second principal component to corresponding feature names\n",
    "# and then print the linked values, sorted by weight.\n",
    "interpret(2, 7, df_scaled, pca)\n"
   ]
  },
  {
   "cell_type": "code",
   "execution_count": 179,
   "metadata": {},
   "outputs": [
    {
     "data": {
      "text/plain": [
       "SEMIO_REL           0.3060\n",
       "SEMIO_ERL           0.2795\n",
       "SEMIO_PFLICHT       0.2714\n",
       "SEMIO_KULT          0.2696\n",
       "FINANZ_SPARER       0.2643\n",
       "FINANZ_VORSORGER    0.2573\n",
       "SEMIO_TRADV         0.2550\n",
       "Name: Dimension 3, dtype: float64"
      ]
     },
     "execution_count": 179,
     "metadata": {},
     "output_type": "execute_result"
    }
   ],
   "source": [
    "# Map weights for the third principal component to corresponding feature names\n",
    "# and then print the linked values, sorted by weight.\n",
    "interpret(3, 7, df_scaled, pca)\n"
   ]
  },
  {
   "cell_type": "markdown",
   "metadata": {},
   "source": [
    "### Discussion 2.3: Interpret Principal Components\n",
    "\n",
    "\n",
    "\n",
    "Within my function, I took the absolute value of the variability to see the largest impact on the component (positive or negative) when the series is sorted.  \n",
    "The first component seemed to use the building type and family structure members as its largest features. The second component used the various measures of the family houses in the PLZ8 region as its largest features.  The third component seemed to use mostly the personality typology as its features with the largest impact.  "
   ]
  },
  {
   "cell_type": "markdown",
   "metadata": {},
   "source": [
    "## Step 3: Clustering\n",
    "\n",
    "### Step 3.1: Apply Clustering to General Population\n",
    "\n",
    "You've assessed and cleaned the demographics data, then scaled and transformed them. Now, it's time to see how the data clusters in the principal components space. In this substep, you will apply k-means clustering to the dataset and use the average within-cluster distances from each point to their assigned cluster's centroid to decide on a number of clusters to keep.\n",
    "\n",
    "- Use sklearn's [KMeans](http://scikit-learn.org/stable/modules/generated/sklearn.cluster.KMeans.html#sklearn.cluster.KMeans) class to perform k-means clustering on the PCA-transformed data.\n",
    "- Then, compute the average difference from each point to its assigned cluster's center. **Hint**: The KMeans object's `.score()` method might be useful here, but note that in sklearn, scores tend to be defined so that larger is better. Try applying it to a small, toy dataset, or use an internet search to help your understanding.\n",
    "- Perform the above two steps for a number of different cluster counts. You can then see how the average distance decreases with an increasing number of clusters. However, each additional cluster provides a smaller net benefit. Use this fact to select a final number of clusters in which to group the data. **Warning**: because of the large size of the dataset, it can take a long time for the algorithm to resolve. The more clusters to fit, the longer the algorithm will take. You should test for cluster counts through at least 10 clusters to get the full picture, but you shouldn't need to test for a number of clusters above about 30.\n",
    "- Once you've selected a final number of clusters to use, re-fit a KMeans instance to perform the clustering operation. Make sure that you also obtain the cluster assignments for the general demographics data, since you'll be using them in the final Step 3.3."
   ]
  },
  {
   "cell_type": "code",
   "execution_count": 180,
   "metadata": {},
   "outputs": [],
   "source": [
    "# Over a number of different cluster counts...\n",
    "\n",
    "\n",
    "    # run k-means clustering on the data and...\n",
    "    \n",
    "    \n",
    "    # compute the average within-cluster distances.\n",
    "    \n",
    "    "
   ]
  },
  {
   "cell_type": "code",
   "execution_count": 181,
   "metadata": {},
   "outputs": [],
   "source": [
    "# Investigate the change in within-cluster distance across number of clusters.\n",
    "# HINT: Use matplotlib's plot function to visualize this relationship.\n",
    "\n"
   ]
  },
  {
   "cell_type": "code",
   "execution_count": 182,
   "metadata": {},
   "outputs": [],
   "source": [
    "from sklearn.cluster import KMeans"
   ]
  },
  {
   "cell_type": "code",
   "execution_count": 183,
   "metadata": {},
   "outputs": [],
   "source": [
    "# Try instantiating a model with 4 centers\n",
    "kmeans_4 = KMeans(n_clusters=4)\n",
    "\n",
    "# fit the model to your data using the fit method\n",
    "model_4 = kmeans_4.fit(X_pca)\n",
    "\n",
    "# Finally predict the labels on the same data to show the category that point belongs to\n",
    "labels_4 = model_4.predict(X_pca)\n",
    "\n",
    "\n"
   ]
  },
  {
   "cell_type": "code",
   "execution_count": 184,
   "metadata": {},
   "outputs": [],
   "source": [
    "#use helper function from Udacity course material to obtain cluster score\n",
    "\n",
    "def get_kmeans_score(data, center):\n",
    "    '''\n",
    "    returns the kmeans score regarding SSE for points to centers\n",
    "    INPUT:\n",
    "        data - the dataset you want to fit kmeans to\n",
    "        center - the number of centers you want (the k value)\n",
    "    OUTPUT:\n",
    "        score - the SSE score for the kmeans model fit to the data\n",
    "    '''\n",
    "    #instantiate kmeans\n",
    "    kmeans = KMeans(n_clusters=center)\n",
    "\n",
    "    # Then fit the model to your data using the fit method\n",
    "    model = kmeans.fit(data)\n",
    "    \n",
    "    # Obtain a score related to the model fit\n",
    "    score = np.abs(model.score(data))\n",
    "    \n",
    "    return score"
   ]
  },
  {
   "cell_type": "code",
   "execution_count": 185,
   "metadata": {},
   "outputs": [
    {
     "data": {
      "image/png": "[encoded data removed]",
      "text/plain": [
       "<Figure size 432x288 with 1 Axes>"
      ]
     },
     "metadata": {},
     "output_type": "display_data"
    }
   ],
   "source": [
    "#Use Udacity course material for loop to plot scores and find the elbow \n",
    "\n",
    "scores = []\n",
    "centers = list(range(1,15))\n",
    "\n",
    "for center in centers:\n",
    "    scores.append(get_kmeans_score(X_pca, center))\n",
    "    \n",
    "plt.plot(centers, scores, linestyle='--', marker='o', color='b');\n",
    "plt.xlabel('K');\n",
    "plt.ylabel('SSE');\n",
    "plt.title('SSE vs. K');"
   ]
  },
  {
   "cell_type": "code",
   "execution_count": 186,
   "metadata": {},
   "outputs": [],
   "source": [
    "# Re-fit the k-means model with the selected number of clusters and obtain\n",
    "# cluster predictions for the general population demographics data.\n",
    "\n",
    "# instantiating the model with the 6 clusters as found in the elbow of the previous plot\n",
    "kmeans_10 = KMeans(n_clusters=10)\n",
    "\n",
    "# fit the model to your data using the fit method\n",
    "model_10 = kmeans_10.fit(X_pca)\n",
    "\n",
    "# Finally predict the labels on the same data to show the category that point belongs to\n",
    "labels_10 = model_10.predict(X_pca)\n"
   ]
  },
  {
   "cell_type": "markdown",
   "metadata": {},
   "source": [
    "### Discussion 3.1: Apply Clustering to General Population\n",
    "\n",
    "(Double-click this cell and replace this text with your own text, reporting your findings and decisions regarding clustering. Into how many clusters have you decided to segment the population?)\n",
    "\n",
    "We segmented the population into 10 clusters as being the \"elbow\" of the previous plot "
   ]
  },
  {
   "cell_type": "markdown",
   "metadata": {},
   "source": [
    "### Step 3.2: Apply All Steps to the Customer Data\n",
    "\n",
    "Now that you have clusters and cluster centers for the general population, it's time to see how the customer data maps on to those clusters. Take care to not confuse this for re-fitting all of the models to the customer data. Instead, you're going to use the fits from the general population to clean, transform, and cluster the customer data. In the last step of the project, you will interpret how the general population fits apply to the customer data.\n",
    "\n",
    "- Don't forget when loading in the customers data, that it is semicolon (`;`) delimited.\n",
    "- Apply the same feature wrangling, selection, and engineering steps to the customer demographics using the `clean_data()` function you created earlier. (You can assume that the customer demographics data has similar meaning behind missing data patterns as the general demographics data.)\n",
    "- Use the sklearn objects from the general demographics data, and apply their transformations to the customers data. That is, you should not be using a `.fit()` or `.fit_transform()` method to re-fit the old objects, nor should you be creating new sklearn objects! Carry the data through the feature scaling, PCA, and clustering steps, obtaining cluster assignments for all of the data in the customer demographics data."
   ]
  },
  {
   "cell_type": "code",
   "execution_count": 187,
   "metadata": {},
   "outputs": [],
   "source": [
    "# Load in the customer demographics data.\n",
    "\n",
    "customers = pd.read_csv(r\"C:\\Users\\Matt\\Desktop\\Udacity_Jup\\project_clustering\\Udacity_CUSTOMERS_Subset.csv\", sep=';')"
   ]
  },
  {
   "cell_type": "code",
   "execution_count": 188,
   "metadata": {},
   "outputs": [
    {
     "data": {
      "text/html": [
       "<div>\n",
       "<style scoped>\n",
       "    .dataframe tbody tr th:only-of-type {\n",
       "        vertical-align: middle;\n",
       "    }\n",
       "\n",
       "    .dataframe tbody tr th {\n",
       "        vertical-align: top;\n",
       "    }\n",
       "\n",
       "    .dataframe thead th {\n",
       "        text-align: right;\n",
       "    }\n",
       "</style>\n",
       "<table border=\"1\" class=\"dataframe\">\n",
       "  <thead>\n",
       "    <tr style=\"text-align: right;\">\n",
       "      <th></th>\n",
       "      <th>AGER_TYP</th>\n",
       "      <th>ALTERSKATEGORIE_GROB</th>\n",
       "      <th>ANREDE_KZ</th>\n",
       "      <th>CJT_GESAMTTYP</th>\n",
       "      <th>FINANZ_MINIMALIST</th>\n",
       "      <th>FINANZ_SPARER</th>\n",
       "      <th>FINANZ_VORSORGER</th>\n",
       "      <th>FINANZ_ANLEGER</th>\n",
       "      <th>FINANZ_UNAUFFAELLIGER</th>\n",
       "      <th>FINANZ_HAUSBAUER</th>\n",
       "      <th>...</th>\n",
       "      <th>PLZ8_ANTG1</th>\n",
       "      <th>PLZ8_ANTG2</th>\n",
       "      <th>PLZ8_ANTG3</th>\n",
       "      <th>PLZ8_ANTG4</th>\n",
       "      <th>PLZ8_BAUMAX</th>\n",
       "      <th>PLZ8_HHZ</th>\n",
       "      <th>PLZ8_GBZ</th>\n",
       "      <th>ARBEIT</th>\n",
       "      <th>ORTSGR_KLS9</th>\n",
       "      <th>RELAT_AB</th>\n",
       "    </tr>\n",
       "  </thead>\n",
       "  <tbody>\n",
       "    <tr>\n",
       "      <th>0</th>\n",
       "      <td>2</td>\n",
       "      <td>4</td>\n",
       "      <td>1</td>\n",
       "      <td>5.0</td>\n",
       "      <td>5</td>\n",
       "      <td>1</td>\n",
       "      <td>5</td>\n",
       "      <td>1</td>\n",
       "      <td>2</td>\n",
       "      <td>2</td>\n",
       "      <td>...</td>\n",
       "      <td>3.0</td>\n",
       "      <td>3.0</td>\n",
       "      <td>1.0</td>\n",
       "      <td>0.0</td>\n",
       "      <td>1.0</td>\n",
       "      <td>5.0</td>\n",
       "      <td>5.0</td>\n",
       "      <td>1.0</td>\n",
       "      <td>2.0</td>\n",
       "      <td>1.0</td>\n",
       "    </tr>\n",
       "    <tr>\n",
       "      <th>1</th>\n",
       "      <td>-1</td>\n",
       "      <td>4</td>\n",
       "      <td>1</td>\n",
       "      <td>NaN</td>\n",
       "      <td>5</td>\n",
       "      <td>1</td>\n",
       "      <td>5</td>\n",
       "      <td>1</td>\n",
       "      <td>3</td>\n",
       "      <td>2</td>\n",
       "      <td>...</td>\n",
       "      <td>NaN</td>\n",
       "      <td>NaN</td>\n",
       "      <td>NaN</td>\n",
       "      <td>NaN</td>\n",
       "      <td>NaN</td>\n",
       "      <td>NaN</td>\n",
       "      <td>NaN</td>\n",
       "      <td>NaN</td>\n",
       "      <td>NaN</td>\n",
       "      <td>NaN</td>\n",
       "    </tr>\n",
       "    <tr>\n",
       "      <th>2</th>\n",
       "      <td>-1</td>\n",
       "      <td>4</td>\n",
       "      <td>2</td>\n",
       "      <td>2.0</td>\n",
       "      <td>5</td>\n",
       "      <td>1</td>\n",
       "      <td>5</td>\n",
       "      <td>1</td>\n",
       "      <td>4</td>\n",
       "      <td>4</td>\n",
       "      <td>...</td>\n",
       "      <td>2.0</td>\n",
       "      <td>3.0</td>\n",
       "      <td>3.0</td>\n",
       "      <td>1.0</td>\n",
       "      <td>3.0</td>\n",
       "      <td>3.0</td>\n",
       "      <td>2.0</td>\n",
       "      <td>3.0</td>\n",
       "      <td>5.0</td>\n",
       "      <td>3.0</td>\n",
       "    </tr>\n",
       "    <tr>\n",
       "      <th>3</th>\n",
       "      <td>1</td>\n",
       "      <td>4</td>\n",
       "      <td>1</td>\n",
       "      <td>2.0</td>\n",
       "      <td>5</td>\n",
       "      <td>1</td>\n",
       "      <td>5</td>\n",
       "      <td>2</td>\n",
       "      <td>1</td>\n",
       "      <td>2</td>\n",
       "      <td>...</td>\n",
       "      <td>3.0</td>\n",
       "      <td>2.0</td>\n",
       "      <td>1.0</td>\n",
       "      <td>0.0</td>\n",
       "      <td>1.0</td>\n",
       "      <td>3.0</td>\n",
       "      <td>4.0</td>\n",
       "      <td>1.0</td>\n",
       "      <td>3.0</td>\n",
       "      <td>1.0</td>\n",
       "    </tr>\n",
       "    <tr>\n",
       "      <th>4</th>\n",
       "      <td>-1</td>\n",
       "      <td>3</td>\n",
       "      <td>1</td>\n",
       "      <td>6.0</td>\n",
       "      <td>3</td>\n",
       "      <td>1</td>\n",
       "      <td>4</td>\n",
       "      <td>4</td>\n",
       "      <td>5</td>\n",
       "      <td>2</td>\n",
       "      <td>...</td>\n",
       "      <td>2.0</td>\n",
       "      <td>4.0</td>\n",
       "      <td>2.0</td>\n",
       "      <td>1.0</td>\n",
       "      <td>2.0</td>\n",
       "      <td>3.0</td>\n",
       "      <td>3.0</td>\n",
       "      <td>3.0</td>\n",
       "      <td>5.0</td>\n",
       "      <td>1.0</td>\n",
       "    </tr>\n",
       "  </tbody>\n",
       "</table>\n",
       "<p>5 rows × 85 columns</p>\n",
       "</div>"
      ],
      "text/plain": [
       "   AGER_TYP  ALTERSKATEGORIE_GROB  ANREDE_KZ  CJT_GESAMTTYP  \\\n",
       "0         2                     4          1            5.0   \n",
       "1        -1                     4          1            NaN   \n",
       "2        -1                     4          2            2.0   \n",
       "3         1                     4          1            2.0   \n",
       "4        -1                     3          1            6.0   \n",
       "\n",
       "   FINANZ_MINIMALIST  FINANZ_SPARER  FINANZ_VORSORGER  FINANZ_ANLEGER  \\\n",
       "0                  5              1                 5               1   \n",
       "1                  5              1                 5               1   \n",
       "2                  5              1                 5               1   \n",
       "3                  5              1                 5               2   \n",
       "4                  3              1                 4               4   \n",
       "\n",
       "   FINANZ_UNAUFFAELLIGER  FINANZ_HAUSBAUER    ...     PLZ8_ANTG1  PLZ8_ANTG2  \\\n",
       "0                      2                 2    ...            3.0         3.0   \n",
       "1                      3                 2    ...            NaN         NaN   \n",
       "2                      4                 4    ...            2.0         3.0   \n",
       "3                      1                 2    ...            3.0         2.0   \n",
       "4                      5                 2    ...            2.0         4.0   \n",
       "\n",
       "   PLZ8_ANTG3  PLZ8_ANTG4  PLZ8_BAUMAX  PLZ8_HHZ  PLZ8_GBZ  ARBEIT  \\\n",
       "0         1.0         0.0          1.0       5.0       5.0     1.0   \n",
       "1         NaN         NaN          NaN       NaN       NaN     NaN   \n",
       "2         3.0         1.0          3.0       3.0       2.0     3.0   \n",
       "3         1.0         0.0          1.0       3.0       4.0     1.0   \n",
       "4         2.0         1.0          2.0       3.0       3.0     3.0   \n",
       "\n",
       "   ORTSGR_KLS9  RELAT_AB  \n",
       "0          2.0       1.0  \n",
       "1          NaN       NaN  \n",
       "2          5.0       3.0  \n",
       "3          3.0       1.0  \n",
       "4          5.0       1.0  \n",
       "\n",
       "[5 rows x 85 columns]"
      ]
     },
     "execution_count": 188,
     "metadata": {},
     "output_type": "execute_result"
    }
   ],
   "source": [
    "customers.head()"
   ]
  },
  {
   "cell_type": "code",
   "execution_count": null,
   "metadata": {},
   "outputs": [],
   "source": []
  },
  {
   "cell_type": "code",
   "execution_count": 189,
   "metadata": {},
   "outputs": [],
   "source": [
    "# Apply preprocessing, feature transformation, and clustering from the general\n",
    "# demographics onto the customer data, obtaining cluster predictions for the\n",
    "# customer demographics data.\n",
    "old_customers = clean_data(customers)\n"
   ]
  },
  {
   "cell_type": "code",
   "execution_count": 190,
   "metadata": {},
   "outputs": [
    {
     "data": {
      "text/html": [
       "<div>\n",
       "<style scoped>\n",
       "    .dataframe tbody tr th:only-of-type {\n",
       "        vertical-align: middle;\n",
       "    }\n",
       "\n",
       "    .dataframe tbody tr th {\n",
       "        vertical-align: top;\n",
       "    }\n",
       "\n",
       "    .dataframe thead th {\n",
       "        text-align: right;\n",
       "    }\n",
       "</style>\n",
       "<table border=\"1\" class=\"dataframe\">\n",
       "  <thead>\n",
       "    <tr style=\"text-align: right;\">\n",
       "      <th></th>\n",
       "      <th>ALTERSKATEGORIE_GROB</th>\n",
       "      <th>ANREDE_KZ</th>\n",
       "      <th>FINANZ_MINIMALIST</th>\n",
       "      <th>FINANZ_SPARER</th>\n",
       "      <th>FINANZ_VORSORGER</th>\n",
       "      <th>FINANZ_ANLEGER</th>\n",
       "      <th>FINANZ_UNAUFFAELLIGER</th>\n",
       "      <th>FINANZ_HAUSBAUER</th>\n",
       "      <th>GREEN_AVANTGARDE</th>\n",
       "      <th>HEALTH_TYP</th>\n",
       "      <th>...</th>\n",
       "      <th>family_type_6.0</th>\n",
       "      <th>family_type_7.0</th>\n",
       "      <th>family_type_8.0</th>\n",
       "      <th>family_type_9.0</th>\n",
       "      <th>family_type_10.0</th>\n",
       "      <th>family_type_11.0</th>\n",
       "      <th>integer_lifestage</th>\n",
       "      <th>integer_wealth</th>\n",
       "      <th>generation</th>\n",
       "      <th>youth</th>\n",
       "    </tr>\n",
       "  </thead>\n",
       "  <tbody>\n",
       "    <tr>\n",
       "      <th>0</th>\n",
       "      <td>4.0</td>\n",
       "      <td>1.0</td>\n",
       "      <td>5.0</td>\n",
       "      <td>1.0</td>\n",
       "      <td>5.0</td>\n",
       "      <td>1.0</td>\n",
       "      <td>2.0</td>\n",
       "      <td>2.0</td>\n",
       "      <td>1.0</td>\n",
       "      <td>1.0</td>\n",
       "      <td>...</td>\n",
       "      <td>0.0</td>\n",
       "      <td>0.0</td>\n",
       "      <td>0.0</td>\n",
       "      <td>0.0</td>\n",
       "      <td>0.0</td>\n",
       "      <td>0.0</td>\n",
       "      <td>3.0</td>\n",
       "      <td>1.0</td>\n",
       "      <td>50.0</td>\n",
       "      <td>0.0</td>\n",
       "    </tr>\n",
       "    <tr>\n",
       "      <th>1</th>\n",
       "      <td>NaN</td>\n",
       "      <td>NaN</td>\n",
       "      <td>NaN</td>\n",
       "      <td>NaN</td>\n",
       "      <td>NaN</td>\n",
       "      <td>NaN</td>\n",
       "      <td>NaN</td>\n",
       "      <td>NaN</td>\n",
       "      <td>NaN</td>\n",
       "      <td>NaN</td>\n",
       "      <td>...</td>\n",
       "      <td>NaN</td>\n",
       "      <td>NaN</td>\n",
       "      <td>NaN</td>\n",
       "      <td>NaN</td>\n",
       "      <td>NaN</td>\n",
       "      <td>NaN</td>\n",
       "      <td>NaN</td>\n",
       "      <td>NaN</td>\n",
       "      <td>NaN</td>\n",
       "      <td>NaN</td>\n",
       "    </tr>\n",
       "    <tr>\n",
       "      <th>2</th>\n",
       "      <td>4.0</td>\n",
       "      <td>2.0</td>\n",
       "      <td>5.0</td>\n",
       "      <td>1.0</td>\n",
       "      <td>5.0</td>\n",
       "      <td>1.0</td>\n",
       "      <td>4.0</td>\n",
       "      <td>4.0</td>\n",
       "      <td>1.0</td>\n",
       "      <td>2.0</td>\n",
       "      <td>...</td>\n",
       "      <td>0.0</td>\n",
       "      <td>0.0</td>\n",
       "      <td>0.0</td>\n",
       "      <td>0.0</td>\n",
       "      <td>0.0</td>\n",
       "      <td>0.0</td>\n",
       "      <td>4.0</td>\n",
       "      <td>3.0</td>\n",
       "      <td>50.0</td>\n",
       "      <td>0.0</td>\n",
       "    </tr>\n",
       "    <tr>\n",
       "      <th>3</th>\n",
       "      <td>4.0</td>\n",
       "      <td>1.0</td>\n",
       "      <td>5.0</td>\n",
       "      <td>1.0</td>\n",
       "      <td>5.0</td>\n",
       "      <td>2.0</td>\n",
       "      <td>1.0</td>\n",
       "      <td>2.0</td>\n",
       "      <td>0.0</td>\n",
       "      <td>2.0</td>\n",
       "      <td>...</td>\n",
       "      <td>0.0</td>\n",
       "      <td>0.0</td>\n",
       "      <td>0.0</td>\n",
       "      <td>0.0</td>\n",
       "      <td>0.0</td>\n",
       "      <td>0.0</td>\n",
       "      <td>4.0</td>\n",
       "      <td>2.0</td>\n",
       "      <td>40.0</td>\n",
       "      <td>1.0</td>\n",
       "    </tr>\n",
       "    <tr>\n",
       "      <th>4</th>\n",
       "      <td>3.0</td>\n",
       "      <td>1.0</td>\n",
       "      <td>3.0</td>\n",
       "      <td>1.0</td>\n",
       "      <td>4.0</td>\n",
       "      <td>4.0</td>\n",
       "      <td>5.0</td>\n",
       "      <td>2.0</td>\n",
       "      <td>0.0</td>\n",
       "      <td>3.0</td>\n",
       "      <td>...</td>\n",
       "      <td>0.0</td>\n",
       "      <td>0.0</td>\n",
       "      <td>0.0</td>\n",
       "      <td>0.0</td>\n",
       "      <td>1.0</td>\n",
       "      <td>0.0</td>\n",
       "      <td>1.0</td>\n",
       "      <td>4.0</td>\n",
       "      <td>70.0</td>\n",
       "      <td>1.0</td>\n",
       "    </tr>\n",
       "  </tbody>\n",
       "</table>\n",
       "<p>5 rows × 84 columns</p>\n",
       "</div>"
      ],
      "text/plain": [
       "   ALTERSKATEGORIE_GROB  ANREDE_KZ  FINANZ_MINIMALIST  FINANZ_SPARER  \\\n",
       "0                   4.0        1.0                5.0            1.0   \n",
       "1                   NaN        NaN                NaN            NaN   \n",
       "2                   4.0        2.0                5.0            1.0   \n",
       "3                   4.0        1.0                5.0            1.0   \n",
       "4                   3.0        1.0                3.0            1.0   \n",
       "\n",
       "   FINANZ_VORSORGER  FINANZ_ANLEGER  FINANZ_UNAUFFAELLIGER  FINANZ_HAUSBAUER  \\\n",
       "0               5.0             1.0                    2.0               2.0   \n",
       "1               NaN             NaN                    NaN               NaN   \n",
       "2               5.0             1.0                    4.0               4.0   \n",
       "3               5.0             2.0                    1.0               2.0   \n",
       "4               4.0             4.0                    5.0               2.0   \n",
       "\n",
       "   GREEN_AVANTGARDE  HEALTH_TYP  ...    family_type_6.0  family_type_7.0  \\\n",
       "0               1.0         1.0  ...                0.0              0.0   \n",
       "1               NaN         NaN  ...                NaN              NaN   \n",
       "2               1.0         2.0  ...                0.0              0.0   \n",
       "3               0.0         2.0  ...                0.0              0.0   \n",
       "4               0.0         3.0  ...                0.0              0.0   \n",
       "\n",
       "   family_type_8.0  family_type_9.0  family_type_10.0  family_type_11.0  \\\n",
       "0              0.0              0.0               0.0               0.0   \n",
       "1              NaN              NaN               NaN               NaN   \n",
       "2              0.0              0.0               0.0               0.0   \n",
       "3              0.0              0.0               0.0               0.0   \n",
       "4              0.0              0.0               1.0               0.0   \n",
       "\n",
       "   integer_lifestage  integer_wealth  generation  youth  \n",
       "0                3.0             1.0        50.0    0.0  \n",
       "1                NaN             NaN         NaN    NaN  \n",
       "2                4.0             3.0        50.0    0.0  \n",
       "3                4.0             2.0        40.0    1.0  \n",
       "4                1.0             4.0        70.0    1.0  \n",
       "\n",
       "[5 rows x 84 columns]"
      ]
     },
     "execution_count": 190,
     "metadata": {},
     "output_type": "execute_result"
    }
   ],
   "source": [
    "old_customers.head()"
   ]
  },
  {
   "cell_type": "code",
   "execution_count": 191,
   "metadata": {},
   "outputs": [],
   "source": [
    "old_customers = old_customers.dropna(how='all')"
   ]
  },
  {
   "cell_type": "code",
   "execution_count": 192,
   "metadata": {},
   "outputs": [
    {
     "data": {
      "text/plain": [
       "(130958, 84)"
      ]
     },
     "execution_count": 192,
     "metadata": {},
     "output_type": "execute_result"
    }
   ],
   "source": [
    "old_customers.shape"
   ]
  },
  {
   "cell_type": "code",
   "execution_count": 193,
   "metadata": {},
   "outputs": [],
   "source": [
    "#use imputer to use means to fill in nan values\n",
    "put_NaN = Imputer(missing_values=np.nan, strategy='mean', axis=1)\n",
    "imputed_cust = pd.DataFrame(put_NaN.fit_transform(old_customers))\n",
    "imputed_cust.columns = old_customers.columns\n",
    "imputed_cust.index = old_customers.index"
   ]
  },
  {
   "cell_type": "code",
   "execution_count": 194,
   "metadata": {},
   "outputs": [],
   "source": [
    "#change dataframe name\n",
    "customers_df = imputed_cust"
   ]
  },
  {
   "cell_type": "code",
   "execution_count": 195,
   "metadata": {},
   "outputs": [
    {
     "data": {
      "text/plain": [
       "0"
      ]
     },
     "execution_count": 195,
     "metadata": {},
     "output_type": "execute_result"
    }
   ],
   "source": [
    "#test that there is no nan\n",
    "customers_df.isnull().any(axis = 1).sum()"
   ]
  },
  {
   "cell_type": "code",
   "execution_count": 196,
   "metadata": {},
   "outputs": [
    {
     "data": {
      "text/html": [
       "<div>\n",
       "<style scoped>\n",
       "    .dataframe tbody tr th:only-of-type {\n",
       "        vertical-align: middle;\n",
       "    }\n",
       "\n",
       "    .dataframe tbody tr th {\n",
       "        vertical-align: top;\n",
       "    }\n",
       "\n",
       "    .dataframe thead th {\n",
       "        text-align: right;\n",
       "    }\n",
       "</style>\n",
       "<table border=\"1\" class=\"dataframe\">\n",
       "  <thead>\n",
       "    <tr style=\"text-align: right;\">\n",
       "      <th></th>\n",
       "      <th>ALTERSKATEGORIE_GROB</th>\n",
       "      <th>ANREDE_KZ</th>\n",
       "      <th>FINANZ_MINIMALIST</th>\n",
       "      <th>FINANZ_SPARER</th>\n",
       "      <th>FINANZ_VORSORGER</th>\n",
       "      <th>FINANZ_ANLEGER</th>\n",
       "      <th>FINANZ_UNAUFFAELLIGER</th>\n",
       "      <th>FINANZ_HAUSBAUER</th>\n",
       "      <th>GREEN_AVANTGARDE</th>\n",
       "      <th>HEALTH_TYP</th>\n",
       "      <th>...</th>\n",
       "      <th>family_type_6.0</th>\n",
       "      <th>family_type_7.0</th>\n",
       "      <th>family_type_8.0</th>\n",
       "      <th>family_type_9.0</th>\n",
       "      <th>family_type_10.0</th>\n",
       "      <th>family_type_11.0</th>\n",
       "      <th>integer_lifestage</th>\n",
       "      <th>integer_wealth</th>\n",
       "      <th>generation</th>\n",
       "      <th>youth</th>\n",
       "    </tr>\n",
       "  </thead>\n",
       "  <tbody>\n",
       "    <tr>\n",
       "      <th>0</th>\n",
       "      <td>4.0</td>\n",
       "      <td>1.0</td>\n",
       "      <td>5.0</td>\n",
       "      <td>1.0</td>\n",
       "      <td>5.0</td>\n",
       "      <td>1.0</td>\n",
       "      <td>2.0</td>\n",
       "      <td>2.0</td>\n",
       "      <td>1.0</td>\n",
       "      <td>1.0</td>\n",
       "      <td>...</td>\n",
       "      <td>0.0</td>\n",
       "      <td>0.0</td>\n",
       "      <td>0.0</td>\n",
       "      <td>0.0</td>\n",
       "      <td>0.0</td>\n",
       "      <td>0.0</td>\n",
       "      <td>3.0</td>\n",
       "      <td>1.0</td>\n",
       "      <td>50.0</td>\n",
       "      <td>0.0</td>\n",
       "    </tr>\n",
       "    <tr>\n",
       "      <th>2</th>\n",
       "      <td>4.0</td>\n",
       "      <td>2.0</td>\n",
       "      <td>5.0</td>\n",
       "      <td>1.0</td>\n",
       "      <td>5.0</td>\n",
       "      <td>1.0</td>\n",
       "      <td>4.0</td>\n",
       "      <td>4.0</td>\n",
       "      <td>1.0</td>\n",
       "      <td>2.0</td>\n",
       "      <td>...</td>\n",
       "      <td>0.0</td>\n",
       "      <td>0.0</td>\n",
       "      <td>0.0</td>\n",
       "      <td>0.0</td>\n",
       "      <td>0.0</td>\n",
       "      <td>0.0</td>\n",
       "      <td>4.0</td>\n",
       "      <td>3.0</td>\n",
       "      <td>50.0</td>\n",
       "      <td>0.0</td>\n",
       "    </tr>\n",
       "    <tr>\n",
       "      <th>3</th>\n",
       "      <td>4.0</td>\n",
       "      <td>1.0</td>\n",
       "      <td>5.0</td>\n",
       "      <td>1.0</td>\n",
       "      <td>5.0</td>\n",
       "      <td>2.0</td>\n",
       "      <td>1.0</td>\n",
       "      <td>2.0</td>\n",
       "      <td>0.0</td>\n",
       "      <td>2.0</td>\n",
       "      <td>...</td>\n",
       "      <td>0.0</td>\n",
       "      <td>0.0</td>\n",
       "      <td>0.0</td>\n",
       "      <td>0.0</td>\n",
       "      <td>0.0</td>\n",
       "      <td>0.0</td>\n",
       "      <td>4.0</td>\n",
       "      <td>2.0</td>\n",
       "      <td>40.0</td>\n",
       "      <td>1.0</td>\n",
       "    </tr>\n",
       "    <tr>\n",
       "      <th>4</th>\n",
       "      <td>3.0</td>\n",
       "      <td>1.0</td>\n",
       "      <td>3.0</td>\n",
       "      <td>1.0</td>\n",
       "      <td>4.0</td>\n",
       "      <td>4.0</td>\n",
       "      <td>5.0</td>\n",
       "      <td>2.0</td>\n",
       "      <td>0.0</td>\n",
       "      <td>3.0</td>\n",
       "      <td>...</td>\n",
       "      <td>0.0</td>\n",
       "      <td>0.0</td>\n",
       "      <td>0.0</td>\n",
       "      <td>0.0</td>\n",
       "      <td>1.0</td>\n",
       "      <td>0.0</td>\n",
       "      <td>1.0</td>\n",
       "      <td>4.0</td>\n",
       "      <td>70.0</td>\n",
       "      <td>1.0</td>\n",
       "    </tr>\n",
       "    <tr>\n",
       "      <th>5</th>\n",
       "      <td>3.0</td>\n",
       "      <td>1.0</td>\n",
       "      <td>5.0</td>\n",
       "      <td>1.0</td>\n",
       "      <td>5.0</td>\n",
       "      <td>1.0</td>\n",
       "      <td>2.0</td>\n",
       "      <td>3.0</td>\n",
       "      <td>1.0</td>\n",
       "      <td>3.0</td>\n",
       "      <td>...</td>\n",
       "      <td>0.0</td>\n",
       "      <td>0.0</td>\n",
       "      <td>0.0</td>\n",
       "      <td>0.0</td>\n",
       "      <td>0.0</td>\n",
       "      <td>0.0</td>\n",
       "      <td>4.0</td>\n",
       "      <td>3.0</td>\n",
       "      <td>50.0</td>\n",
       "      <td>0.0</td>\n",
       "    </tr>\n",
       "  </tbody>\n",
       "</table>\n",
       "<p>5 rows × 84 columns</p>\n",
       "</div>"
      ],
      "text/plain": [
       "   ALTERSKATEGORIE_GROB  ANREDE_KZ  FINANZ_MINIMALIST  FINANZ_SPARER  \\\n",
       "0                   4.0        1.0                5.0            1.0   \n",
       "2                   4.0        2.0                5.0            1.0   \n",
       "3                   4.0        1.0                5.0            1.0   \n",
       "4                   3.0        1.0                3.0            1.0   \n",
       "5                   3.0        1.0                5.0            1.0   \n",
       "\n",
       "   FINANZ_VORSORGER  FINANZ_ANLEGER  FINANZ_UNAUFFAELLIGER  FINANZ_HAUSBAUER  \\\n",
       "0               5.0             1.0                    2.0               2.0   \n",
       "2               5.0             1.0                    4.0               4.0   \n",
       "3               5.0             2.0                    1.0               2.0   \n",
       "4               4.0             4.0                    5.0               2.0   \n",
       "5               5.0             1.0                    2.0               3.0   \n",
       "\n",
       "   GREEN_AVANTGARDE  HEALTH_TYP  ...    family_type_6.0  family_type_7.0  \\\n",
       "0               1.0         1.0  ...                0.0              0.0   \n",
       "2               1.0         2.0  ...                0.0              0.0   \n",
       "3               0.0         2.0  ...                0.0              0.0   \n",
       "4               0.0         3.0  ...                0.0              0.0   \n",
       "5               1.0         3.0  ...                0.0              0.0   \n",
       "\n",
       "   family_type_8.0  family_type_9.0  family_type_10.0  family_type_11.0  \\\n",
       "0              0.0              0.0               0.0               0.0   \n",
       "2              0.0              0.0               0.0               0.0   \n",
       "3              0.0              0.0               0.0               0.0   \n",
       "4              0.0              0.0               1.0               0.0   \n",
       "5              0.0              0.0               0.0               0.0   \n",
       "\n",
       "   integer_lifestage  integer_wealth  generation  youth  \n",
       "0                3.0             1.0        50.0    0.0  \n",
       "2                4.0             3.0        50.0    0.0  \n",
       "3                4.0             2.0        40.0    1.0  \n",
       "4                1.0             4.0        70.0    1.0  \n",
       "5                4.0             3.0        50.0    0.0  \n",
       "\n",
       "[5 rows x 84 columns]"
      ]
     },
     "execution_count": 196,
     "metadata": {},
     "output_type": "execute_result"
    }
   ],
   "source": [
    "customers_df.head()"
   ]
  },
  {
   "cell_type": "code",
   "execution_count": 197,
   "metadata": {},
   "outputs": [],
   "source": [
    "#variable to standard scaler\n",
    "std_scale = StandardScaler()"
   ]
  },
  {
   "cell_type": "code",
   "execution_count": 198,
   "metadata": {},
   "outputs": [],
   "source": [
    "#create new scaled dataframe\n",
    "customers_scaled = pd.DataFrame(std_scale.fit_transform(customers_df),columns = customers_df.columns)"
   ]
  },
  {
   "cell_type": "code",
   "execution_count": 199,
   "metadata": {},
   "outputs": [
    {
     "data": {
      "text/html": [
       "<div>\n",
       "<style scoped>\n",
       "    .dataframe tbody tr th:only-of-type {\n",
       "        vertical-align: middle;\n",
       "    }\n",
       "\n",
       "    .dataframe tbody tr th {\n",
       "        vertical-align: top;\n",
       "    }\n",
       "\n",
       "    .dataframe thead th {\n",
       "        text-align: right;\n",
       "    }\n",
       "</style>\n",
       "<table border=\"1\" class=\"dataframe\">\n",
       "  <thead>\n",
       "    <tr style=\"text-align: right;\">\n",
       "      <th></th>\n",
       "      <th>ALTERSKATEGORIE_GROB</th>\n",
       "      <th>ANREDE_KZ</th>\n",
       "      <th>FINANZ_MINIMALIST</th>\n",
       "      <th>FINANZ_SPARER</th>\n",
       "      <th>FINANZ_VORSORGER</th>\n",
       "      <th>FINANZ_ANLEGER</th>\n",
       "      <th>FINANZ_UNAUFFAELLIGER</th>\n",
       "      <th>FINANZ_HAUSBAUER</th>\n",
       "      <th>GREEN_AVANTGARDE</th>\n",
       "      <th>HEALTH_TYP</th>\n",
       "      <th>...</th>\n",
       "      <th>family_type_6.0</th>\n",
       "      <th>family_type_7.0</th>\n",
       "      <th>family_type_8.0</th>\n",
       "      <th>family_type_9.0</th>\n",
       "      <th>family_type_10.0</th>\n",
       "      <th>family_type_11.0</th>\n",
       "      <th>integer_lifestage</th>\n",
       "      <th>integer_wealth</th>\n",
       "      <th>generation</th>\n",
       "      <th>youth</th>\n",
       "    </tr>\n",
       "  </thead>\n",
       "  <tbody>\n",
       "    <tr>\n",
       "      <th>0</th>\n",
       "      <td>-0.887233</td>\n",
       "      <td>0.348885</td>\n",
       "      <td>-1.507954</td>\n",
       "      <td>1.389006</td>\n",
       "      <td>-1.080544</td>\n",
       "      <td>1.288689</td>\n",
       "      <td>0.813670</td>\n",
       "      <td>1.237668</td>\n",
       "      <td>-0.355143</td>\n",
       "      <td>-0.106835</td>\n",
       "      <td>...</td>\n",
       "      <td>-0.167951</td>\n",
       "      <td>-0.179924</td>\n",
       "      <td>-0.183244</td>\n",
       "      <td>-0.169962</td>\n",
       "      <td>-0.301119</td>\n",
       "      <td>-0.214679</td>\n",
       "      <td>-1.351416</td>\n",
       "      <td>1.127025</td>\n",
       "      <td>1.070095</td>\n",
       "      <td>-0.164524</td>\n",
       "    </tr>\n",
       "    <tr>\n",
       "      <th>1</th>\n",
       "      <td>-0.014349</td>\n",
       "      <td>0.348885</td>\n",
       "      <td>-1.507954</td>\n",
       "      <td>0.766160</td>\n",
       "      <td>-1.768423</td>\n",
       "      <td>-0.597787</td>\n",
       "      <td>0.162893</td>\n",
       "      <td>1.237668</td>\n",
       "      <td>0.531820</td>\n",
       "      <td>-0.106835</td>\n",
       "      <td>...</td>\n",
       "      <td>-0.167951</td>\n",
       "      <td>-0.179924</td>\n",
       "      <td>-0.183244</td>\n",
       "      <td>-0.169962</td>\n",
       "      <td>-0.301119</td>\n",
       "      <td>-0.214679</td>\n",
       "      <td>0.578352</td>\n",
       "      <td>-0.783754</td>\n",
       "      <td>1.070095</td>\n",
       "      <td>-0.322971</td>\n",
       "    </tr>\n",
       "    <tr>\n",
       "      <th>2</th>\n",
       "      <td>0.422093</td>\n",
       "      <td>0.348885</td>\n",
       "      <td>0.507008</td>\n",
       "      <td>-0.479533</td>\n",
       "      <td>0.983091</td>\n",
       "      <td>-0.597787</td>\n",
       "      <td>-1.138660</td>\n",
       "      <td>-0.748017</td>\n",
       "      <td>-0.355143</td>\n",
       "      <td>-0.251600</td>\n",
       "      <td>...</td>\n",
       "      <td>-0.167951</td>\n",
       "      <td>-0.179924</td>\n",
       "      <td>-0.183244</td>\n",
       "      <td>-0.169962</td>\n",
       "      <td>-0.301119</td>\n",
       "      <td>-0.214679</td>\n",
       "      <td>-0.708160</td>\n",
       "      <td>-1.420680</td>\n",
       "      <td>0.007099</td>\n",
       "      <td>-0.164524</td>\n",
       "    </tr>\n",
       "    <tr>\n",
       "      <th>3</th>\n",
       "      <td>-0.014349</td>\n",
       "      <td>-0.670922</td>\n",
       "      <td>0.507008</td>\n",
       "      <td>0.143313</td>\n",
       "      <td>0.295213</td>\n",
       "      <td>-1.226612</td>\n",
       "      <td>0.162893</td>\n",
       "      <td>-0.748017</td>\n",
       "      <td>-0.355143</td>\n",
       "      <td>-0.106835</td>\n",
       "      <td>...</td>\n",
       "      <td>-0.167951</td>\n",
       "      <td>-0.179924</td>\n",
       "      <td>-0.183244</td>\n",
       "      <td>-0.169962</td>\n",
       "      <td>0.591678</td>\n",
       "      <td>-0.214679</td>\n",
       "      <td>-0.064904</td>\n",
       "      <td>0.490099</td>\n",
       "      <td>0.007099</td>\n",
       "      <td>-0.164524</td>\n",
       "    </tr>\n",
       "    <tr>\n",
       "      <th>4</th>\n",
       "      <td>-0.887233</td>\n",
       "      <td>0.348885</td>\n",
       "      <td>-0.164646</td>\n",
       "      <td>-1.102379</td>\n",
       "      <td>0.983091</td>\n",
       "      <td>-0.597787</td>\n",
       "      <td>-0.487883</td>\n",
       "      <td>1.237668</td>\n",
       "      <td>-0.355143</td>\n",
       "      <td>-0.106835</td>\n",
       "      <td>...</td>\n",
       "      <td>-0.167951</td>\n",
       "      <td>-0.179924</td>\n",
       "      <td>-0.183244</td>\n",
       "      <td>-0.169962</td>\n",
       "      <td>-0.301119</td>\n",
       "      <td>-0.214679</td>\n",
       "      <td>0.578352</td>\n",
       "      <td>1.127025</td>\n",
       "      <td>-1.055896</td>\n",
       "      <td>-0.164524</td>\n",
       "    </tr>\n",
       "  </tbody>\n",
       "</table>\n",
       "<p>5 rows × 84 columns</p>\n",
       "</div>"
      ],
      "text/plain": [
       "   ALTERSKATEGORIE_GROB  ANREDE_KZ  FINANZ_MINIMALIST  FINANZ_SPARER  \\\n",
       "0             -0.887233   0.348885          -1.507954       1.389006   \n",
       "1             -0.014349   0.348885          -1.507954       0.766160   \n",
       "2              0.422093   0.348885           0.507008      -0.479533   \n",
       "3             -0.014349  -0.670922           0.507008       0.143313   \n",
       "4             -0.887233   0.348885          -0.164646      -1.102379   \n",
       "\n",
       "   FINANZ_VORSORGER  FINANZ_ANLEGER  FINANZ_UNAUFFAELLIGER  FINANZ_HAUSBAUER  \\\n",
       "0         -1.080544        1.288689               0.813670          1.237668   \n",
       "1         -1.768423       -0.597787               0.162893          1.237668   \n",
       "2          0.983091       -0.597787              -1.138660         -0.748017   \n",
       "3          0.295213       -1.226612               0.162893         -0.748017   \n",
       "4          0.983091       -0.597787              -0.487883          1.237668   \n",
       "\n",
       "   GREEN_AVANTGARDE  HEALTH_TYP    ...     family_type_6.0  family_type_7.0  \\\n",
       "0         -0.355143   -0.106835    ...           -0.167951        -0.179924   \n",
       "1          0.531820   -0.106835    ...           -0.167951        -0.179924   \n",
       "2         -0.355143   -0.251600    ...           -0.167951        -0.179924   \n",
       "3         -0.355143   -0.106835    ...           -0.167951        -0.179924   \n",
       "4         -0.355143   -0.106835    ...           -0.167951        -0.179924   \n",
       "\n",
       "   family_type_8.0  family_type_9.0  family_type_10.0  family_type_11.0  \\\n",
       "0        -0.183244        -0.169962         -0.301119         -0.214679   \n",
       "1        -0.183244        -0.169962         -0.301119         -0.214679   \n",
       "2        -0.183244        -0.169962         -0.301119         -0.214679   \n",
       "3        -0.183244        -0.169962          0.591678         -0.214679   \n",
       "4        -0.183244        -0.169962         -0.301119         -0.214679   \n",
       "\n",
       "   integer_lifestage  integer_wealth  generation     youth  \n",
       "0          -1.351416        1.127025    1.070095 -0.164524  \n",
       "1           0.578352       -0.783754    1.070095 -0.322971  \n",
       "2          -0.708160       -1.420680    0.007099 -0.164524  \n",
       "3          -0.064904        0.490099    0.007099 -0.164524  \n",
       "4           0.578352        1.127025   -1.055896 -0.164524  \n",
       "\n",
       "[5 rows x 84 columns]"
      ]
     },
     "execution_count": 199,
     "metadata": {},
     "output_type": "execute_result"
    }
   ],
   "source": [
    "df_scaled.head()"
   ]
  },
  {
   "cell_type": "code",
   "execution_count": 200,
   "metadata": {},
   "outputs": [
    {
     "data": {
      "text/html": [
       "<div>\n",
       "<style scoped>\n",
       "    .dataframe tbody tr th:only-of-type {\n",
       "        vertical-align: middle;\n",
       "    }\n",
       "\n",
       "    .dataframe tbody tr th {\n",
       "        vertical-align: top;\n",
       "    }\n",
       "\n",
       "    .dataframe thead th {\n",
       "        text-align: right;\n",
       "    }\n",
       "</style>\n",
       "<table border=\"1\" class=\"dataframe\">\n",
       "  <thead>\n",
       "    <tr style=\"text-align: right;\">\n",
       "      <th></th>\n",
       "      <th>0</th>\n",
       "      <th>1</th>\n",
       "      <th>2</th>\n",
       "      <th>3</th>\n",
       "      <th>4</th>\n",
       "      <th>5</th>\n",
       "      <th>6</th>\n",
       "      <th>7</th>\n",
       "      <th>8</th>\n",
       "      <th>9</th>\n",
       "      <th>...</th>\n",
       "      <th>13</th>\n",
       "      <th>14</th>\n",
       "      <th>15</th>\n",
       "      <th>16</th>\n",
       "      <th>17</th>\n",
       "      <th>18</th>\n",
       "      <th>19</th>\n",
       "      <th>20</th>\n",
       "      <th>21</th>\n",
       "      <th>22</th>\n",
       "    </tr>\n",
       "  </thead>\n",
       "  <tbody>\n",
       "    <tr>\n",
       "      <th>0</th>\n",
       "      <td>-1.164790</td>\n",
       "      <td>-0.368601</td>\n",
       "      <td>0.652010</td>\n",
       "      <td>-3.658421</td>\n",
       "      <td>0.566456</td>\n",
       "      <td>-1.187192</td>\n",
       "      <td>-0.613751</td>\n",
       "      <td>-0.948225</td>\n",
       "      <td>-0.551847</td>\n",
       "      <td>-0.210936</td>\n",
       "      <td>...</td>\n",
       "      <td>-0.807138</td>\n",
       "      <td>-0.347326</td>\n",
       "      <td>-2.086239</td>\n",
       "      <td>-0.431124</td>\n",
       "      <td>-0.197733</td>\n",
       "      <td>0.474463</td>\n",
       "      <td>-0.226539</td>\n",
       "      <td>0.048955</td>\n",
       "      <td>1.114425</td>\n",
       "      <td>0.470710</td>\n",
       "    </tr>\n",
       "    <tr>\n",
       "      <th>1</th>\n",
       "      <td>-0.670249</td>\n",
       "      <td>-0.774505</td>\n",
       "      <td>2.958449</td>\n",
       "      <td>2.925784</td>\n",
       "      <td>-0.055801</td>\n",
       "      <td>0.554789</td>\n",
       "      <td>-0.751834</td>\n",
       "      <td>-0.083917</td>\n",
       "      <td>-0.671540</td>\n",
       "      <td>0.443476</td>\n",
       "      <td>...</td>\n",
       "      <td>-0.660103</td>\n",
       "      <td>0.551734</td>\n",
       "      <td>0.366424</td>\n",
       "      <td>-0.407384</td>\n",
       "      <td>0.214278</td>\n",
       "      <td>-0.343262</td>\n",
       "      <td>-2.086328</td>\n",
       "      <td>-0.743743</td>\n",
       "      <td>-0.018840</td>\n",
       "      <td>-0.468722</td>\n",
       "    </tr>\n",
       "    <tr>\n",
       "      <th>2</th>\n",
       "      <td>-0.564870</td>\n",
       "      <td>-0.749541</td>\n",
       "      <td>-0.081158</td>\n",
       "      <td>-2.321629</td>\n",
       "      <td>-0.065201</td>\n",
       "      <td>-1.318786</td>\n",
       "      <td>4.079401</td>\n",
       "      <td>-2.955518</td>\n",
       "      <td>1.191033</td>\n",
       "      <td>1.630112</td>\n",
       "      <td>...</td>\n",
       "      <td>2.080660</td>\n",
       "      <td>-0.629911</td>\n",
       "      <td>-1.037947</td>\n",
       "      <td>-0.481496</td>\n",
       "      <td>1.821109</td>\n",
       "      <td>0.114296</td>\n",
       "      <td>-0.291577</td>\n",
       "      <td>0.094888</td>\n",
       "      <td>-0.354736</td>\n",
       "      <td>-2.518712</td>\n",
       "    </tr>\n",
       "    <tr>\n",
       "      <th>3</th>\n",
       "      <td>-0.533034</td>\n",
       "      <td>-0.247957</td>\n",
       "      <td>-3.672393</td>\n",
       "      <td>1.457851</td>\n",
       "      <td>0.010369</td>\n",
       "      <td>0.006026</td>\n",
       "      <td>0.717327</td>\n",
       "      <td>-0.114095</td>\n",
       "      <td>-1.280960</td>\n",
       "      <td>-0.390197</td>\n",
       "      <td>...</td>\n",
       "      <td>0.541689</td>\n",
       "      <td>0.345920</td>\n",
       "      <td>-0.154332</td>\n",
       "      <td>-1.193449</td>\n",
       "      <td>0.005023</td>\n",
       "      <td>-0.326343</td>\n",
       "      <td>-0.967900</td>\n",
       "      <td>-0.326839</td>\n",
       "      <td>0.923065</td>\n",
       "      <td>-0.454002</td>\n",
       "    </tr>\n",
       "    <tr>\n",
       "      <th>4</th>\n",
       "      <td>-0.478290</td>\n",
       "      <td>-0.454826</td>\n",
       "      <td>-0.050583</td>\n",
       "      <td>-1.070627</td>\n",
       "      <td>0.888057</td>\n",
       "      <td>0.293488</td>\n",
       "      <td>-0.626884</td>\n",
       "      <td>0.721392</td>\n",
       "      <td>0.509777</td>\n",
       "      <td>0.017668</td>\n",
       "      <td>...</td>\n",
       "      <td>0.422202</td>\n",
       "      <td>2.756667</td>\n",
       "      <td>0.776247</td>\n",
       "      <td>0.591057</td>\n",
       "      <td>-0.239166</td>\n",
       "      <td>0.940093</td>\n",
       "      <td>-0.155667</td>\n",
       "      <td>0.771311</td>\n",
       "      <td>-0.590674</td>\n",
       "      <td>-0.038930</td>\n",
       "    </tr>\n",
       "  </tbody>\n",
       "</table>\n",
       "<p>5 rows × 23 columns</p>\n",
       "</div>"
      ],
      "text/plain": [
       "         0         1         2         3         4         5         6   \\\n",
       "0 -1.164790 -0.368601  0.652010 -3.658421  0.566456 -1.187192 -0.613751   \n",
       "1 -0.670249 -0.774505  2.958449  2.925784 -0.055801  0.554789 -0.751834   \n",
       "2 -0.564870 -0.749541 -0.081158 -2.321629 -0.065201 -1.318786  4.079401   \n",
       "3 -0.533034 -0.247957 -3.672393  1.457851  0.010369  0.006026  0.717327   \n",
       "4 -0.478290 -0.454826 -0.050583 -1.070627  0.888057  0.293488 -0.626884   \n",
       "\n",
       "         7         8         9     ...           13        14        15  \\\n",
       "0 -0.948225 -0.551847 -0.210936    ...    -0.807138 -0.347326 -2.086239   \n",
       "1 -0.083917 -0.671540  0.443476    ...    -0.660103  0.551734  0.366424   \n",
       "2 -2.955518  1.191033  1.630112    ...     2.080660 -0.629911 -1.037947   \n",
       "3 -0.114095 -1.280960 -0.390197    ...     0.541689  0.345920 -0.154332   \n",
       "4  0.721392  0.509777  0.017668    ...     0.422202  2.756667  0.776247   \n",
       "\n",
       "         16        17        18        19        20        21        22  \n",
       "0 -0.431124 -0.197733  0.474463 -0.226539  0.048955  1.114425  0.470710  \n",
       "1 -0.407384  0.214278 -0.343262 -2.086328 -0.743743 -0.018840 -0.468722  \n",
       "2 -0.481496  1.821109  0.114296 -0.291577  0.094888 -0.354736 -2.518712  \n",
       "3 -1.193449  0.005023 -0.326343 -0.967900 -0.326839  0.923065 -0.454002  \n",
       "4  0.591057 -0.239166  0.940093 -0.155667  0.771311 -0.590674 -0.038930  \n",
       "\n",
       "[5 rows x 23 columns]"
      ]
     },
     "execution_count": 200,
     "metadata": {},
     "output_type": "execute_result"
    }
   ],
   "source": [
    "#appy general population PCA tranformation on the customer dataframe\n",
    "cust_transform = pca.transform(customers_scaled)\n",
    "cust_transform = pd.DataFrame(cust_transform)\n",
    "cust_transform.head()"
   ]
  },
  {
   "cell_type": "code",
   "execution_count": 201,
   "metadata": {},
   "outputs": [],
   "source": [
    "#apply k-means clusters from the fitted population\n",
    "cust_clusters = model_10.predict(cust_transform)"
   ]
  },
  {
   "cell_type": "code",
   "execution_count": null,
   "metadata": {},
   "outputs": [],
   "source": []
  },
  {
   "cell_type": "markdown",
   "metadata": {},
   "source": [
    "### Step 3.3: Compare Customer Data to Demographics Data\n",
    "\n",
    "At this point, you have clustered data based on demographics of the general population of Germany, and seen how the customer data for a mail-order sales company maps onto those demographic clusters. In this final substep, you will compare the two cluster distributions to see where the strongest customer base for the company is.\n",
    "\n",
    "Consider the proportion of persons in each cluster for the general population, and the proportions for the customers. If we think the company's customer base to be universal, then the cluster assignment proportions should be fairly similar between the two. If there are only particular segments of the population that are interested in the company's products, then we should see a mismatch from one to the other. If there is a higher proportion of persons in a cluster for the customer data compared to the general population (e.g. 5% of persons are assigned to a cluster for the general population, but 15% of the customer data is closest to that cluster's centroid) then that suggests the people in that cluster to be a target audience for the company. On the other hand, the proportion of the data in a cluster being larger in the general population than the customer data (e.g. only 2% of customers closest to a population centroid that captures 6% of the data) suggests that group of persons to be outside of the target demographics.\n",
    "\n",
    "Take a look at the following points in this step:\n",
    "\n",
    "- Compute the proportion of data points in each cluster for the general population and the customer data. Visualizations will be useful here: both for the individual dataset proportions, but also to visualize the ratios in cluster representation between groups. Seaborn's [`countplot()`](https://seaborn.pydata.org/generated/seaborn.countplot.html) or [`barplot()`](https://seaborn.pydata.org/generated/seaborn.barplot.html) function could be handy.\n",
    "  - Recall the analysis you performed in step 1.1.3 of the project, where you separated out certain data points from the dataset if they had more than a specified threshold of missing values. If you found that this group was qualitatively different from the main bulk of the data, you should treat this as an additional data cluster in this analysis. Make sure that you account for the number of data points in this subset, for both the general population and customer datasets, when making your computations!\n",
    "- Which cluster or clusters are overrepresented in the customer dataset compared to the general population? Select at least one such cluster and infer what kind of people might be represented by that cluster. Use the principal component interpretations from step 2.3 or look at additional components to help you make this inference. Alternatively, you can use the `.inverse_transform()` method of the PCA and StandardScaler objects to transform centroids back to the original data space and interpret the retrieved values directly.\n",
    "- Perform a similar investigation for the underrepresented clusters. Which cluster or clusters are underrepresented in the customer dataset compared to the general population, and what kinds of people are typified by these clusters?"
   ]
  },
  {
   "cell_type": "code",
   "execution_count": 202,
   "metadata": {},
   "outputs": [],
   "source": [
    "# Compare the proportion of data in each cluster for the customer data to the\n",
    "# proportion of data in each cluster for the general population.\n",
    "\n"
   ]
  },
  {
   "cell_type": "code",
   "execution_count": 203,
   "metadata": {},
   "outputs": [
    {
     "data": {
      "text/plain": [
       "0      540\n",
       "1    63020\n",
       "2     2208\n",
       "3     2350\n",
       "4    11475\n",
       "5    28685\n",
       "6     5830\n",
       "7    11726\n",
       "8     1918\n",
       "9     3206\n",
       "dtype: int64"
      ]
     },
     "execution_count": 203,
     "metadata": {},
     "output_type": "execute_result"
    }
   ],
   "source": [
    "#put customer clusters into a value_counts series\n",
    "cust_clusters = pd.Series(cust_clusters)\n",
    "customer_values = cust_clusters.value_counts().sort_index()\n",
    "customer_values = pd.Series(customer_values)\n",
    "customer_values"
   ]
  },
  {
   "cell_type": "code",
   "execution_count": null,
   "metadata": {},
   "outputs": [],
   "source": []
  },
  {
   "cell_type": "code",
   "execution_count": 204,
   "metadata": {},
   "outputs": [
    {
     "data": {
      "text/plain": [
       "0      3831\n",
       "1    186939\n",
       "2     17043\n",
       "3     18297\n",
       "4    112571\n",
       "5    189450\n",
       "6     34780\n",
       "7     94766\n",
       "8     17657\n",
       "9     18916\n",
       "dtype: int64"
      ]
     },
     "execution_count": 204,
     "metadata": {},
     "output_type": "execute_result"
    }
   ],
   "source": [
    "#put population clusters into a value_counts series\n",
    "labels_10 = pd.Series(labels_10)\n",
    "pop_values = labels_10.value_counts().sort_index()\n",
    "pop_values = pd.Series(pop_values)\n",
    "pop_values"
   ]
  },
  {
   "cell_type": "code",
   "execution_count": 205,
   "metadata": {},
   "outputs": [
    {
     "data": {
      "text/html": [
       "<div>\n",
       "<style scoped>\n",
       "    .dataframe tbody tr th:only-of-type {\n",
       "        vertical-align: middle;\n",
       "    }\n",
       "\n",
       "    .dataframe tbody tr th {\n",
       "        vertical-align: top;\n",
       "    }\n",
       "\n",
       "    .dataframe thead th {\n",
       "        text-align: right;\n",
       "    }\n",
       "</style>\n",
       "<table border=\"1\" class=\"dataframe\">\n",
       "  <thead>\n",
       "    <tr style=\"text-align: right;\">\n",
       "      <th></th>\n",
       "      <th>cluster</th>\n",
       "      <th>customers</th>\n",
       "      <th>population</th>\n",
       "    </tr>\n",
       "  </thead>\n",
       "  <tbody>\n",
       "    <tr>\n",
       "      <th>0</th>\n",
       "      <td>0</td>\n",
       "      <td>540</td>\n",
       "      <td>3831</td>\n",
       "    </tr>\n",
       "    <tr>\n",
       "      <th>1</th>\n",
       "      <td>1</td>\n",
       "      <td>63020</td>\n",
       "      <td>186939</td>\n",
       "    </tr>\n",
       "    <tr>\n",
       "      <th>2</th>\n",
       "      <td>2</td>\n",
       "      <td>2208</td>\n",
       "      <td>17043</td>\n",
       "    </tr>\n",
       "    <tr>\n",
       "      <th>3</th>\n",
       "      <td>3</td>\n",
       "      <td>2350</td>\n",
       "      <td>18297</td>\n",
       "    </tr>\n",
       "    <tr>\n",
       "      <th>4</th>\n",
       "      <td>4</td>\n",
       "      <td>11475</td>\n",
       "      <td>112571</td>\n",
       "    </tr>\n",
       "    <tr>\n",
       "      <th>5</th>\n",
       "      <td>5</td>\n",
       "      <td>28685</td>\n",
       "      <td>189450</td>\n",
       "    </tr>\n",
       "    <tr>\n",
       "      <th>6</th>\n",
       "      <td>6</td>\n",
       "      <td>5830</td>\n",
       "      <td>34780</td>\n",
       "    </tr>\n",
       "    <tr>\n",
       "      <th>7</th>\n",
       "      <td>7</td>\n",
       "      <td>11726</td>\n",
       "      <td>94766</td>\n",
       "    </tr>\n",
       "    <tr>\n",
       "      <th>8</th>\n",
       "      <td>8</td>\n",
       "      <td>1918</td>\n",
       "      <td>17657</td>\n",
       "    </tr>\n",
       "    <tr>\n",
       "      <th>9</th>\n",
       "      <td>9</td>\n",
       "      <td>3206</td>\n",
       "      <td>18916</td>\n",
       "    </tr>\n",
       "  </tbody>\n",
       "</table>\n",
       "</div>"
      ],
      "text/plain": [
       "   cluster  customers  population\n",
       "0        0        540        3831\n",
       "1        1      63020      186939\n",
       "2        2       2208       17043\n",
       "3        3       2350       18297\n",
       "4        4      11475      112571\n",
       "5        5      28685      189450\n",
       "6        6       5830       34780\n",
       "7        7      11726       94766\n",
       "8        8       1918       17657\n",
       "9        9       3206       18916"
      ]
     },
     "execution_count": 205,
     "metadata": {},
     "output_type": "execute_result"
    }
   ],
   "source": [
    "#create DF showing both clusters \n",
    "cluster_df = pd.concat([customer_values,pop_values], axis=1).reset_index()\n",
    "cluster_df.columns = ['cluster', 'customers', 'population']\n",
    "cluster_df"
   ]
  },
  {
   "cell_type": "code",
   "execution_count": 206,
   "metadata": {},
   "outputs": [
    {
     "data": {
      "text/plain": [
       "Text(0.5,1,'Population')"
      ]
     },
     "execution_count": 206,
     "metadata": {},
     "output_type": "execute_result"
    },
    {
     "data": {
      "image/png": "[encoded data removed]",
      "text/plain": [
       "<Figure size 432x288 with 1 Axes>"
      ]
     },
     "metadata": {},
     "output_type": "display_data"
    }
   ],
   "source": [
    "# What kinds of people are part of a cluster that is overrepresented in the\n",
    "# customer data compared to the general population?\n",
    "\n",
    "#bar chart of the population distribution\n",
    "plt.bar(cluster_df['cluster'], cluster_df['population'])\n",
    "plt.ylabel(\"Value Count\")\n",
    "plt.xlabel(\"Cluster\")\n",
    "plt.title(\"Population\")\n",
    "\n"
   ]
  },
  {
   "cell_type": "code",
   "execution_count": 207,
   "metadata": {},
   "outputs": [
    {
     "data": {
      "text/plain": [
       "Text(0.5,1,'Customers')"
      ]
     },
     "execution_count": 207,
     "metadata": {},
     "output_type": "execute_result"
    },
    {
     "data": {
      "image/png": "[encoded data removed]",
      "text/plain": [
       "<Figure size 432x288 with 1 Axes>"
      ]
     },
     "metadata": {},
     "output_type": "display_data"
    }
   ],
   "source": [
    "# What kinds of people are part of a cluster that is underrepresented in the\n",
    "# customer data compared to the general population?\n",
    "\n",
    "#bar chart of the customer distribtuion \n",
    "\n",
    "plt.bar(cluster_df['cluster'], cluster_df['customers'])\n",
    "plt.ylabel(\"Value Count\")\n",
    "plt.xlabel(\"Cluster\")\n",
    "plt.title(\"Customers\")"
   ]
  },
  {
   "cell_type": "code",
   "execution_count": 208,
   "metadata": {},
   "outputs": [
    {
     "data": {
      "text/plain": [
       "94144"
      ]
     },
     "execution_count": 208,
     "metadata": {},
     "output_type": "execute_result"
    }
   ],
   "source": [
    "#number of rows seperated out from data due to missing rows\n",
    "rows_removed = len(lame_rows)\n",
    "rows_removed"
   ]
  },
  {
   "cell_type": "code",
   "execution_count": 209,
   "metadata": {},
   "outputs": [],
   "source": [
    "#create column variable 'percent population' that shows percentage of values in each cluster of the population\n",
    "cluster_df['percent population'] = cluster_df['population'] / cluster_df['population'].sum()"
   ]
  },
  {
   "cell_type": "code",
   "execution_count": 210,
   "metadata": {},
   "outputs": [
    {
     "data": {
      "text/html": [
       "<div>\n",
       "<style scoped>\n",
       "    .dataframe tbody tr th:only-of-type {\n",
       "        vertical-align: middle;\n",
       "    }\n",
       "\n",
       "    .dataframe tbody tr th {\n",
       "        vertical-align: top;\n",
       "    }\n",
       "\n",
       "    .dataframe thead th {\n",
       "        text-align: right;\n",
       "    }\n",
       "</style>\n",
       "<table border=\"1\" class=\"dataframe\">\n",
       "  <thead>\n",
       "    <tr style=\"text-align: right;\">\n",
       "      <th></th>\n",
       "      <th>cluster</th>\n",
       "      <th>customers</th>\n",
       "      <th>population</th>\n",
       "      <th>percent population</th>\n",
       "    </tr>\n",
       "  </thead>\n",
       "  <tbody>\n",
       "    <tr>\n",
       "      <th>0</th>\n",
       "      <td>0</td>\n",
       "      <td>540</td>\n",
       "      <td>3831</td>\n",
       "      <td>0.005518</td>\n",
       "    </tr>\n",
       "    <tr>\n",
       "      <th>1</th>\n",
       "      <td>1</td>\n",
       "      <td>63020</td>\n",
       "      <td>186939</td>\n",
       "      <td>0.269268</td>\n",
       "    </tr>\n",
       "    <tr>\n",
       "      <th>2</th>\n",
       "      <td>2</td>\n",
       "      <td>2208</td>\n",
       "      <td>17043</td>\n",
       "      <td>0.024549</td>\n",
       "    </tr>\n",
       "    <tr>\n",
       "      <th>3</th>\n",
       "      <td>3</td>\n",
       "      <td>2350</td>\n",
       "      <td>18297</td>\n",
       "      <td>0.026355</td>\n",
       "    </tr>\n",
       "    <tr>\n",
       "      <th>4</th>\n",
       "      <td>4</td>\n",
       "      <td>11475</td>\n",
       "      <td>112571</td>\n",
       "      <td>0.162148</td>\n",
       "    </tr>\n",
       "    <tr>\n",
       "      <th>5</th>\n",
       "      <td>5</td>\n",
       "      <td>28685</td>\n",
       "      <td>189450</td>\n",
       "      <td>0.272884</td>\n",
       "    </tr>\n",
       "    <tr>\n",
       "      <th>6</th>\n",
       "      <td>6</td>\n",
       "      <td>5830</td>\n",
       "      <td>34780</td>\n",
       "      <td>0.050097</td>\n",
       "    </tr>\n",
       "    <tr>\n",
       "      <th>7</th>\n",
       "      <td>7</td>\n",
       "      <td>11726</td>\n",
       "      <td>94766</td>\n",
       "      <td>0.136501</td>\n",
       "    </tr>\n",
       "    <tr>\n",
       "      <th>8</th>\n",
       "      <td>8</td>\n",
       "      <td>1918</td>\n",
       "      <td>17657</td>\n",
       "      <td>0.025433</td>\n",
       "    </tr>\n",
       "    <tr>\n",
       "      <th>9</th>\n",
       "      <td>9</td>\n",
       "      <td>3206</td>\n",
       "      <td>18916</td>\n",
       "      <td>0.027247</td>\n",
       "    </tr>\n",
       "  </tbody>\n",
       "</table>\n",
       "</div>"
      ],
      "text/plain": [
       "   cluster  customers  population  percent population\n",
       "0        0        540        3831            0.005518\n",
       "1        1      63020      186939            0.269268\n",
       "2        2       2208       17043            0.024549\n",
       "3        3       2350       18297            0.026355\n",
       "4        4      11475      112571            0.162148\n",
       "5        5      28685      189450            0.272884\n",
       "6        6       5830       34780            0.050097\n",
       "7        7      11726       94766            0.136501\n",
       "8        8       1918       17657            0.025433\n",
       "9        9       3206       18916            0.027247"
      ]
     },
     "execution_count": 210,
     "metadata": {},
     "output_type": "execute_result"
    }
   ],
   "source": [
    "cluster_df\n"
   ]
  },
  {
   "cell_type": "code",
   "execution_count": 211,
   "metadata": {},
   "outputs": [],
   "source": [
    "#create column variable 'percent customers' that shows percentage of values in each cluster for the customer base\n",
    "cluster_df['percent customers'] = cluster_df['customers'] / cluster_df['customers'].sum()"
   ]
  },
  {
   "cell_type": "code",
   "execution_count": 212,
   "metadata": {},
   "outputs": [
    {
     "data": {
      "text/html": [
       "<div>\n",
       "<style scoped>\n",
       "    .dataframe tbody tr th:only-of-type {\n",
       "        vertical-align: middle;\n",
       "    }\n",
       "\n",
       "    .dataframe tbody tr th {\n",
       "        vertical-align: top;\n",
       "    }\n",
       "\n",
       "    .dataframe thead th {\n",
       "        text-align: right;\n",
       "    }\n",
       "</style>\n",
       "<table border=\"1\" class=\"dataframe\">\n",
       "  <thead>\n",
       "    <tr style=\"text-align: right;\">\n",
       "      <th></th>\n",
       "      <th>cluster</th>\n",
       "      <th>customers</th>\n",
       "      <th>population</th>\n",
       "      <th>percent population</th>\n",
       "      <th>percent customers</th>\n",
       "    </tr>\n",
       "  </thead>\n",
       "  <tbody>\n",
       "    <tr>\n",
       "      <th>0</th>\n",
       "      <td>0</td>\n",
       "      <td>540</td>\n",
       "      <td>3831</td>\n",
       "      <td>0.005518</td>\n",
       "      <td>0.004123</td>\n",
       "    </tr>\n",
       "    <tr>\n",
       "      <th>1</th>\n",
       "      <td>1</td>\n",
       "      <td>63020</td>\n",
       "      <td>186939</td>\n",
       "      <td>0.269268</td>\n",
       "      <td>0.481223</td>\n",
       "    </tr>\n",
       "    <tr>\n",
       "      <th>2</th>\n",
       "      <td>2</td>\n",
       "      <td>2208</td>\n",
       "      <td>17043</td>\n",
       "      <td>0.024549</td>\n",
       "      <td>0.016860</td>\n",
       "    </tr>\n",
       "    <tr>\n",
       "      <th>3</th>\n",
       "      <td>3</td>\n",
       "      <td>2350</td>\n",
       "      <td>18297</td>\n",
       "      <td>0.026355</td>\n",
       "      <td>0.017945</td>\n",
       "    </tr>\n",
       "    <tr>\n",
       "      <th>4</th>\n",
       "      <td>4</td>\n",
       "      <td>11475</td>\n",
       "      <td>112571</td>\n",
       "      <td>0.162148</td>\n",
       "      <td>0.087624</td>\n",
       "    </tr>\n",
       "    <tr>\n",
       "      <th>5</th>\n",
       "      <td>5</td>\n",
       "      <td>28685</td>\n",
       "      <td>189450</td>\n",
       "      <td>0.272884</td>\n",
       "      <td>0.219040</td>\n",
       "    </tr>\n",
       "    <tr>\n",
       "      <th>6</th>\n",
       "      <td>6</td>\n",
       "      <td>5830</td>\n",
       "      <td>34780</td>\n",
       "      <td>0.050097</td>\n",
       "      <td>0.044518</td>\n",
       "    </tr>\n",
       "    <tr>\n",
       "      <th>7</th>\n",
       "      <td>7</td>\n",
       "      <td>11726</td>\n",
       "      <td>94766</td>\n",
       "      <td>0.136501</td>\n",
       "      <td>0.089540</td>\n",
       "    </tr>\n",
       "    <tr>\n",
       "      <th>8</th>\n",
       "      <td>8</td>\n",
       "      <td>1918</td>\n",
       "      <td>17657</td>\n",
       "      <td>0.025433</td>\n",
       "      <td>0.014646</td>\n",
       "    </tr>\n",
       "    <tr>\n",
       "      <th>9</th>\n",
       "      <td>9</td>\n",
       "      <td>3206</td>\n",
       "      <td>18916</td>\n",
       "      <td>0.027247</td>\n",
       "      <td>0.024481</td>\n",
       "    </tr>\n",
       "  </tbody>\n",
       "</table>\n",
       "</div>"
      ],
      "text/plain": [
       "   cluster  customers  population  percent population  percent customers\n",
       "0        0        540        3831            0.005518           0.004123\n",
       "1        1      63020      186939            0.269268           0.481223\n",
       "2        2       2208       17043            0.024549           0.016860\n",
       "3        3       2350       18297            0.026355           0.017945\n",
       "4        4      11475      112571            0.162148           0.087624\n",
       "5        5      28685      189450            0.272884           0.219040\n",
       "6        6       5830       34780            0.050097           0.044518\n",
       "7        7      11726       94766            0.136501           0.089540\n",
       "8        8       1918       17657            0.025433           0.014646\n",
       "9        9       3206       18916            0.027247           0.024481"
      ]
     },
     "execution_count": 212,
     "metadata": {},
     "output_type": "execute_result"
    }
   ],
   "source": [
    "cluster_df"
   ]
  },
  {
   "cell_type": "code",
   "execution_count": 213,
   "metadata": {},
   "outputs": [],
   "source": [
    "#create column that shows the differential between percent customers and percent population in order to see which \n",
    "#cluster is most over - represented by the customer base \n",
    "cluster_df['contrast_representation'] = cluster_df['percent customers'] - cluster_df['percent population']"
   ]
  },
  {
   "cell_type": "code",
   "execution_count": 214,
   "metadata": {},
   "outputs": [
    {
     "data": {
      "text/html": [
       "<div>\n",
       "<style scoped>\n",
       "    .dataframe tbody tr th:only-of-type {\n",
       "        vertical-align: middle;\n",
       "    }\n",
       "\n",
       "    .dataframe tbody tr th {\n",
       "        vertical-align: top;\n",
       "    }\n",
       "\n",
       "    .dataframe thead th {\n",
       "        text-align: right;\n",
       "    }\n",
       "</style>\n",
       "<table border=\"1\" class=\"dataframe\">\n",
       "  <thead>\n",
       "    <tr style=\"text-align: right;\">\n",
       "      <th></th>\n",
       "      <th>cluster</th>\n",
       "      <th>customers</th>\n",
       "      <th>population</th>\n",
       "      <th>percent population</th>\n",
       "      <th>percent customers</th>\n",
       "      <th>contrast_representation</th>\n",
       "    </tr>\n",
       "  </thead>\n",
       "  <tbody>\n",
       "    <tr>\n",
       "      <th>0</th>\n",
       "      <td>0</td>\n",
       "      <td>540</td>\n",
       "      <td>3831</td>\n",
       "      <td>0.005518</td>\n",
       "      <td>0.004123</td>\n",
       "      <td>-0.001395</td>\n",
       "    </tr>\n",
       "    <tr>\n",
       "      <th>1</th>\n",
       "      <td>1</td>\n",
       "      <td>63020</td>\n",
       "      <td>186939</td>\n",
       "      <td>0.269268</td>\n",
       "      <td>0.481223</td>\n",
       "      <td>0.211955</td>\n",
       "    </tr>\n",
       "    <tr>\n",
       "      <th>2</th>\n",
       "      <td>2</td>\n",
       "      <td>2208</td>\n",
       "      <td>17043</td>\n",
       "      <td>0.024549</td>\n",
       "      <td>0.016860</td>\n",
       "      <td>-0.007688</td>\n",
       "    </tr>\n",
       "    <tr>\n",
       "      <th>3</th>\n",
       "      <td>3</td>\n",
       "      <td>2350</td>\n",
       "      <td>18297</td>\n",
       "      <td>0.026355</td>\n",
       "      <td>0.017945</td>\n",
       "      <td>-0.008410</td>\n",
       "    </tr>\n",
       "    <tr>\n",
       "      <th>4</th>\n",
       "      <td>4</td>\n",
       "      <td>11475</td>\n",
       "      <td>112571</td>\n",
       "      <td>0.162148</td>\n",
       "      <td>0.087624</td>\n",
       "      <td>-0.074524</td>\n",
       "    </tr>\n",
       "    <tr>\n",
       "      <th>5</th>\n",
       "      <td>5</td>\n",
       "      <td>28685</td>\n",
       "      <td>189450</td>\n",
       "      <td>0.272884</td>\n",
       "      <td>0.219040</td>\n",
       "      <td>-0.053845</td>\n",
       "    </tr>\n",
       "    <tr>\n",
       "      <th>6</th>\n",
       "      <td>6</td>\n",
       "      <td>5830</td>\n",
       "      <td>34780</td>\n",
       "      <td>0.050097</td>\n",
       "      <td>0.044518</td>\n",
       "      <td>-0.005579</td>\n",
       "    </tr>\n",
       "    <tr>\n",
       "      <th>7</th>\n",
       "      <td>7</td>\n",
       "      <td>11726</td>\n",
       "      <td>94766</td>\n",
       "      <td>0.136501</td>\n",
       "      <td>0.089540</td>\n",
       "      <td>-0.046961</td>\n",
       "    </tr>\n",
       "    <tr>\n",
       "      <th>8</th>\n",
       "      <td>8</td>\n",
       "      <td>1918</td>\n",
       "      <td>17657</td>\n",
       "      <td>0.025433</td>\n",
       "      <td>0.014646</td>\n",
       "      <td>-0.010787</td>\n",
       "    </tr>\n",
       "    <tr>\n",
       "      <th>9</th>\n",
       "      <td>9</td>\n",
       "      <td>3206</td>\n",
       "      <td>18916</td>\n",
       "      <td>0.027247</td>\n",
       "      <td>0.024481</td>\n",
       "      <td>-0.002766</td>\n",
       "    </tr>\n",
       "  </tbody>\n",
       "</table>\n",
       "</div>"
      ],
      "text/plain": [
       "   cluster  customers  population  percent population  percent customers  \\\n",
       "0        0        540        3831            0.005518           0.004123   \n",
       "1        1      63020      186939            0.269268           0.481223   \n",
       "2        2       2208       17043            0.024549           0.016860   \n",
       "3        3       2350       18297            0.026355           0.017945   \n",
       "4        4      11475      112571            0.162148           0.087624   \n",
       "5        5      28685      189450            0.272884           0.219040   \n",
       "6        6       5830       34780            0.050097           0.044518   \n",
       "7        7      11726       94766            0.136501           0.089540   \n",
       "8        8       1918       17657            0.025433           0.014646   \n",
       "9        9       3206       18916            0.027247           0.024481   \n",
       "\n",
       "   contrast_representation  \n",
       "0                -0.001395  \n",
       "1                 0.211955  \n",
       "2                -0.007688  \n",
       "3                -0.008410  \n",
       "4                -0.074524  \n",
       "5                -0.053845  \n",
       "6                -0.005579  \n",
       "7                -0.046961  \n",
       "8                -0.010787  \n",
       "9                -0.002766  "
      ]
     },
     "execution_count": 214,
     "metadata": {},
     "output_type": "execute_result"
    }
   ],
   "source": [
    "cluster_df"
   ]
  },
  {
   "cell_type": "code",
   "execution_count": 215,
   "metadata": {},
   "outputs": [
    {
     "data": {
      "text/plain": [
       "5     1.054273\n",
       "3     0.641372\n",
       "6     0.149089\n",
       "12    0.085943\n",
       "21    0.065287\n",
       "14    0.055113\n",
       "20    0.031970\n",
       "23    0.026893\n",
       "16    0.022786\n",
       "18    0.018776\n",
       "19    0.015541\n",
       "15    0.013984\n",
       "22   -0.002396\n",
       "11   -0.038584\n",
       "13   -0.040013\n",
       "8    -0.049497\n",
       "7    -0.074677\n",
       "17   -0.121201\n",
       "10   -0.171870\n",
       "9    -0.181160\n",
       "2    -0.719417\n",
       "1    -1.113397\n",
       "4    -2.070313\n",
       "dtype: float64"
      ]
     },
     "execution_count": 215,
     "metadata": {},
     "output_type": "execute_result"
    }
   ],
   "source": [
    "#Transform cluster 1 as it has an over-representation of customers compared to the general population\n",
    "c1 = model_10.cluster_centers_[1]\n",
    "c1 = pd.Series(c1)\n",
    "c1.index = c1.index +1\n",
    "c1.sort_values(ascending=False)"
   ]
  },
  {
   "cell_type": "code",
   "execution_count": 216,
   "metadata": {},
   "outputs": [],
   "source": [
    "#transfet cluster 1 to original features\n",
    "c1original = std_scale.inverse_transform(pca.inverse_transform(c1))\n",
    "c1original = pd.Series(c1original).round(1)\n",
    "\n",
    "\n"
   ]
  },
  {
   "cell_type": "code",
   "execution_count": 217,
   "metadata": {},
   "outputs": [
    {
     "data": {
      "text/plain": [
       "36    2001.2\n",
       "51     683.6\n",
       "82      52.9\n",
       "10      26.5\n",
       "11       9.1\n",
       "32       8.9\n",
       "17       6.6\n",
       "18       6.1\n",
       "12       5.6\n",
       "31       5.5\n",
       "13       5.2\n",
       "2        5.0\n",
       "4        5.0\n",
       "60       4.9\n",
       "45       4.9\n",
       "19       4.5\n",
       "20       4.5\n",
       "14       4.5\n",
       "43       4.4\n",
       "33       4.2\n",
       "46       3.9\n",
       "0        3.9\n",
       "48       3.8\n",
       "42       3.7\n",
       "37       3.7\n",
       "44       3.7\n",
       "50       3.7\n",
       "58       3.6\n",
       "57       3.5\n",
       "80       3.5\n",
       "       ...  \n",
       "39       1.0\n",
       "1        0.9\n",
       "62       0.9\n",
       "5        0.8\n",
       "3        0.8\n",
       "8        0.6\n",
       "34       0.6\n",
       "83       0.3\n",
       "55       0.3\n",
       "64       0.3\n",
       "70       0.2\n",
       "63       0.2\n",
       "78       0.2\n",
       "69       0.2\n",
       "79       0.1\n",
       "65       0.1\n",
       "66       0.1\n",
       "67       0.1\n",
       "74      -0.0\n",
       "77      -0.0\n",
       "76      -0.0\n",
       "75      -0.0\n",
       "27      -0.0\n",
       "73      -0.0\n",
       "72      -0.0\n",
       "71      -0.0\n",
       "29      -0.0\n",
       "68      -0.0\n",
       "40       0.0\n",
       "41      -0.1\n",
       "Length: 84, dtype: float64"
      ]
     },
     "execution_count": 217,
     "metadata": {},
     "output_type": "execute_result"
    }
   ],
   "source": [
    "#sort feature columns by weights \n",
    "c1original.sort_values(ascending=False)"
   ]
  },
  {
   "cell_type": "code",
   "execution_count": 218,
   "metadata": {},
   "outputs": [
    {
     "data": {
      "text/plain": [
       "'MIN_GEBAEUDEJAHR'"
      ]
     },
     "execution_count": 218,
     "metadata": {},
     "output_type": "execute_result"
    }
   ],
   "source": [
    "df_scaled.columns[36]"
   ]
  },
  {
   "cell_type": "code",
   "execution_count": 219,
   "metadata": {},
   "outputs": [
    {
     "data": {
      "text/plain": [
       "'KBA13_ANZAHL_PKW'"
      ]
     },
     "execution_count": 219,
     "metadata": {},
     "output_type": "execute_result"
    }
   ],
   "source": [
    "df_scaled.columns[51]"
   ]
  },
  {
   "cell_type": "code",
   "execution_count": 220,
   "metadata": {},
   "outputs": [
    {
     "data": {
      "text/plain": [
       "'generation'"
      ]
     },
     "execution_count": 220,
     "metadata": {},
     "output_type": "execute_result"
    }
   ],
   "source": [
    "df_scaled.columns[82]"
   ]
  },
  {
   "cell_type": "code",
   "execution_count": 221,
   "metadata": {},
   "outputs": [
    {
     "data": {
      "text/plain": [
       "41      -0.1\n",
       "40       0.0\n",
       "68      -0.0\n",
       "29      -0.0\n",
       "71      -0.0\n",
       "72      -0.0\n",
       "73      -0.0\n",
       "27      -0.0\n",
       "75      -0.0\n",
       "76      -0.0\n",
       "77      -0.0\n",
       "74      -0.0\n",
       "67       0.1\n",
       "66       0.1\n",
       "65       0.1\n",
       "79       0.1\n",
       "69       0.2\n",
       "78       0.2\n",
       "63       0.2\n",
       "70       0.2\n",
       "64       0.3\n",
       "55       0.3\n",
       "83       0.3\n",
       "34       0.6\n",
       "8        0.6\n",
       "3        0.8\n",
       "5        0.8\n",
       "62       0.9\n",
       "1        0.9\n",
       "39       1.0\n",
       "       ...  \n",
       "80       3.5\n",
       "57       3.5\n",
       "58       3.6\n",
       "50       3.7\n",
       "44       3.7\n",
       "37       3.7\n",
       "42       3.7\n",
       "48       3.8\n",
       "0        3.9\n",
       "46       3.9\n",
       "33       4.2\n",
       "43       4.4\n",
       "14       4.5\n",
       "20       4.5\n",
       "19       4.5\n",
       "45       4.9\n",
       "60       4.9\n",
       "4        5.0\n",
       "2        5.0\n",
       "13       5.2\n",
       "31       5.5\n",
       "12       5.6\n",
       "18       6.1\n",
       "17       6.6\n",
       "32       8.9\n",
       "11       9.1\n",
       "10      26.5\n",
       "82      52.9\n",
       "51     683.6\n",
       "36    2001.2\n",
       "Length: 84, dtype: float64"
      ]
     },
     "execution_count": 221,
     "metadata": {},
     "output_type": "execute_result"
    }
   ],
   "source": [
    "c1original.sort_values(ascending=True)"
   ]
  },
  {
   "cell_type": "code",
   "execution_count": 222,
   "metadata": {},
   "outputs": [
    {
     "data": {
      "text/plain": [
       "'KBA05_ANTG4'"
      ]
     },
     "execution_count": 222,
     "metadata": {},
     "output_type": "execute_result"
    }
   ],
   "source": [
    "df_scaled.columns[41]"
   ]
  },
  {
   "cell_type": "code",
   "execution_count": null,
   "metadata": {},
   "outputs": [],
   "source": []
  },
  {
   "cell_type": "markdown",
   "metadata": {},
   "source": [
    "### Discussion 3.3: Compare Customer Data to Demographics Data\n",
    "\n",
    "\n",
    "Cluster 1 represents a large proportion of the customer base 48% with only a 28 percent representation of the general population.  This is an over-representation of customers compared to the general population.  \n",
    "\n",
    "Cluster 7 represents a small proportion of the customer base but a relatively larger proportion of the general population.  Cluster 7 is an under-representation of customers compared to the general population.  \n",
    "\n",
    "\n",
    "The highest weighted features in this dataset are MIN_GEBAEUDEJAHR, which represents the first year building was mentioned in the database, 'KBA13_ANZAHL_PKW' - which represents the number of cars in the PLZ8 region and the 'generation' of the customer with higher generation denoting younger persons.  Therefore, it seems that the company is popular with people who live in newer buildings in an area with many cars that tend to be younger.  \n",
    "\n",
    "The smallest negative weighted features are represented by 'KBA05_ANTG4' which represents high shares of 10+ homes in the microcell.  Therefore it would seem that older homes in a micro-cell with a high share of 10+ family homes along with older generation of people tend to not favor the company.    \n",
    "\n",
    "\n",
    "\n",
    "\n",
    "\n"
   ]
  },
  {
   "cell_type": "markdown",
   "metadata": {},
   "source": [
    "> Congratulations on making it this far in the project! Before you finish, make sure to check through the entire notebook from top to bottom to make sure that your analysis follows a logical flow and all of your findings are documented in **Discussion** cells. Once you've checked over all of your work, you should export the notebook as an HTML document to submit for evaluation. You can do this from the menu, navigating to **File -> Download as -> HTML (.html)**. You will submit both that document and this notebook for your project submission."
   ]
  },
  {
   "cell_type": "code",
   "execution_count": 223,
   "metadata": {},
   "outputs": [],
   "source": [
    "c6 = model_10.cluster_centers_[6]"
   ]
  },
  {
   "cell_type": "code",
   "execution_count": 224,
   "metadata": {},
   "outputs": [
    {
     "data": {
      "text/plain": [
       "array([-0.89716084,  0.4459591 , -0.06518555, -1.01101609, -1.78429304,\n",
       "       -0.20220363,  0.3255543 , -0.62315021,  1.54756692,  4.11600958,\n",
       "        0.40074378, -0.98254857, -0.44680484, -0.06219004, -0.00679684,\n",
       "        0.24240486,  0.07626839,  0.07162219, -0.30812119, -0.16179205,\n",
       "       -0.06078399,  0.02786078, -0.10214339])"
      ]
     },
     "execution_count": 224,
     "metadata": {},
     "output_type": "execute_result"
    }
   ],
   "source": [
    "c6"
   ]
  },
  {
   "cell_type": "code",
   "execution_count": 225,
   "metadata": {},
   "outputs": [
    {
     "data": {
      "text/plain": [
       "694250"
      ]
     },
     "execution_count": 225,
     "metadata": {},
     "output_type": "execute_result"
    }
   ],
   "source": [
    "len(labels_10)"
   ]
  },
  {
   "cell_type": "code",
   "execution_count": 226,
   "metadata": {},
   "outputs": [
    {
     "data": {
      "text/plain": [
       "0     4\n",
       "1     5\n",
       "2     6\n",
       "3     1\n",
       "4     4\n",
       "5     4\n",
       "6     7\n",
       "7     1\n",
       "8     5\n",
       "9     5\n",
       "10    9\n",
       "11    9\n",
       "12    3\n",
       "13    4\n",
       "14    6\n",
       "15    1\n",
       "16    3\n",
       "17    7\n",
       "18    7\n",
       "19    3\n",
       "dtype: int32"
      ]
     },
     "execution_count": 226,
     "metadata": {},
     "output_type": "execute_result"
    }
   ],
   "source": [
    "#labels for each row, each row's cluster\n",
    "labels_10.head(n=20)"
   ]
  },
  {
   "cell_type": "code",
   "execution_count": 227,
   "metadata": {},
   "outputs": [
    {
     "data": {
      "text/plain": [
       "array([4, 5, 6, 1, 7, 9, 3, 2, 0, 8], dtype=int64)"
      ]
     },
     "execution_count": 227,
     "metadata": {},
     "output_type": "execute_result"
    }
   ],
   "source": [
    "labels_10.unique()"
   ]
  },
  {
   "cell_type": "code",
   "execution_count": null,
   "metadata": {},
   "outputs": [],
   "source": []
  }
 ],
 "metadata": {
  "kernelspec": {
   "display_name": "Python 3",
   "language": "python",
   "name": "python3"
  },
  "language_info": {
   "codemirror_mode": {
    "name": "ipython",
    "version": 3
   },
   "file_extension": ".py",
   "mimetype": "text/x-python",
   "name": "python",
   "nbconvert_exporter": "python",
   "pygments_lexer": "ipython3",
   "version": "3.6.5"
  }
 },
 "nbformat": 4,
 "nbformat_minor": 2
}
